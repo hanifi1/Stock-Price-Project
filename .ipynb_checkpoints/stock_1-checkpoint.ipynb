{
 "cells": [
  {
   "cell_type": "code",
   "execution_count": 1,
   "metadata": {},
   "outputs": [],
   "source": [
    "# https://towardsdatascience.com/in-12-minutes-stocks-analysis-with-pandas-and-scikit-learn-a8d8a7b50ee7"
   ]
  },
  {
   "cell_type": "code",
   "execution_count": 2,
   "metadata": {},
   "outputs": [
    {
     "name": "stderr",
     "output_type": "stream",
     "text": [
      "C:\\Users\\hanif\\Anaconda3\\lib\\site-packages\\pandas_datareader\\compat\\__init__.py:7: FutureWarning: pandas.util.testing is deprecated. Use the functions in the public API at pandas.testing instead.\n",
      "  from pandas.util.testing import assert_frame_equal\n"
     ]
    }
   ],
   "source": [
    "import pandas as pd\n",
    "import datetime \n",
    "import pandas_datareader.data as web\n",
    "from pandas import Series, DataFrame\n",
    "import matplotlib.pyplot as plt\n",
    "from tensorflow import keras\n",
    "from tensorflow.keras import metrics\n",
    "from tensorflow.keras.utils import plot_model\n",
    "import datetime\n",
    "import quandl"
   ]
  },
  {
   "cell_type": "code",
   "execution_count": 3,
   "metadata": {},
   "outputs": [],
   "source": [
    "ac = 'AC.TO'\n",
    "trz = 'TRZ.TO'      # Transat A.T. Inc. (TRZ.TO)\n",
    "west = 'WJT.TO'     # WestJet Airlines Ltd. (WJA.TO)\n",
    "cn = 'CNI'         # 'CNI' (Canadian National Railway)\n",
    "# EXPE (online travel shopping company) \n",
    "# AAL American Airlines Groups Inc\n",
    "# LHA.DE (Lufthunza)\n",
    "cost = 'COST'   # Costco Wholesale Corporation\n",
    "oil = 'BZ=F'"
   ]
  },
  {
   "cell_type": "code",
   "execution_count": 4,
   "metadata": {},
   "outputs": [
    {
     "data": {
      "text/plain": [
       "datetime.datetime(2020, 6, 15, 19, 10, 56, 981136)"
      ]
     },
     "execution_count": 4,
     "metadata": {},
     "output_type": "execute_result"
    }
   ],
   "source": [
    "datetime.datetime.now()"
   ]
  },
  {
   "cell_type": "code",
   "execution_count": 5,
   "metadata": {},
   "outputs": [
    {
     "data": {
      "text/plain": [
       "'AC.TO_2020-06-15_19.csv'"
      ]
     },
     "execution_count": 5,
     "metadata": {},
     "output_type": "execute_result"
    }
   ],
   "source": [
    "var = ac\n",
    "x = datetime.datetime.now()\n",
    "# x = var + '_' + str(x)[0:10] + \"_\" +str(x)[11:13] + str(x)[14:16]+ '.csv'\n",
    "x = var + '_' + str(x)[0:10] + \"_\" +str(x)[11:13] + '.csv'\n",
    "x"
   ]
  },
  {
   "cell_type": "code",
   "execution_count": 6,
   "metadata": {},
   "outputs": [
    {
     "data": {
      "text/html": [
       "<div>\n",
       "<style scoped>\n",
       "    .dataframe tbody tr th:only-of-type {\n",
       "        vertical-align: middle;\n",
       "    }\n",
       "\n",
       "    .dataframe tbody tr th {\n",
       "        vertical-align: top;\n",
       "    }\n",
       "\n",
       "    .dataframe thead th {\n",
       "        text-align: right;\n",
       "    }\n",
       "</style>\n",
       "<table border=\"1\" class=\"dataframe\">\n",
       "  <thead>\n",
       "    <tr style=\"text-align: right;\">\n",
       "      <th></th>\n",
       "      <th>High</th>\n",
       "      <th>Low</th>\n",
       "      <th>Open</th>\n",
       "      <th>Close</th>\n",
       "      <th>Volume</th>\n",
       "      <th>Adj Close</th>\n",
       "    </tr>\n",
       "    <tr>\n",
       "      <th>Date</th>\n",
       "      <th></th>\n",
       "      <th></th>\n",
       "      <th></th>\n",
       "      <th></th>\n",
       "      <th></th>\n",
       "      <th></th>\n",
       "    </tr>\n",
       "  </thead>\n",
       "  <tbody>\n",
       "    <tr>\n",
       "      <th>2020-06-09</th>\n",
       "      <td>22.280001</td>\n",
       "      <td>20.559999</td>\n",
       "      <td>22.25</td>\n",
       "      <td>21.010000</td>\n",
       "      <td>14740665</td>\n",
       "      <td>21.010000</td>\n",
       "    </tr>\n",
       "    <tr>\n",
       "      <th>2020-06-10</th>\n",
       "      <td>20.680000</td>\n",
       "      <td>19.010000</td>\n",
       "      <td>20.50</td>\n",
       "      <td>19.510000</td>\n",
       "      <td>12646157</td>\n",
       "      <td>19.510000</td>\n",
       "    </tr>\n",
       "    <tr>\n",
       "      <th>2020-06-11</th>\n",
       "      <td>18.830000</td>\n",
       "      <td>17.049999</td>\n",
       "      <td>17.50</td>\n",
       "      <td>17.850000</td>\n",
       "      <td>12470911</td>\n",
       "      <td>17.850000</td>\n",
       "    </tr>\n",
       "    <tr>\n",
       "      <th>2020-06-12</th>\n",
       "      <td>19.639999</td>\n",
       "      <td>18.160000</td>\n",
       "      <td>19.35</td>\n",
       "      <td>19.400000</td>\n",
       "      <td>14378888</td>\n",
       "      <td>19.400000</td>\n",
       "    </tr>\n",
       "    <tr>\n",
       "      <th>2020-06-15</th>\n",
       "      <td>19.280001</td>\n",
       "      <td>18.100000</td>\n",
       "      <td>19.35</td>\n",
       "      <td>18.540001</td>\n",
       "      <td>10437549</td>\n",
       "      <td>18.540001</td>\n",
       "    </tr>\n",
       "  </tbody>\n",
       "</table>\n",
       "</div>"
      ],
      "text/plain": [
       "                 High        Low   Open      Close    Volume  Adj Close\n",
       "Date                                                                   \n",
       "2020-06-09  22.280001  20.559999  22.25  21.010000  14740665  21.010000\n",
       "2020-06-10  20.680000  19.010000  20.50  19.510000  12646157  19.510000\n",
       "2020-06-11  18.830000  17.049999  17.50  17.850000  12470911  17.850000\n",
       "2020-06-12  19.639999  18.160000  19.35  19.400000  14378888  19.400000\n",
       "2020-06-15  19.280001  18.100000  19.35  18.540001  10437549  18.540001"
      ]
     },
     "execution_count": 6,
     "metadata": {},
     "output_type": "execute_result"
    }
   ],
   "source": [
    "start = datetime.datetime(2018, 1, 1)\n",
    "end = datetime.datetime.now()\n",
    "\n",
    "df = web.DataReader(var, 'yahoo', start , end)\n",
    "df.tail()"
   ]
  },
  {
   "cell_type": "code",
   "execution_count": 7,
   "metadata": {
    "scrolled": true
   },
   "outputs": [
    {
     "data": {
      "text/html": [
       "<div>\n",
       "<style scoped>\n",
       "    .dataframe tbody tr th:only-of-type {\n",
       "        vertical-align: middle;\n",
       "    }\n",
       "\n",
       "    .dataframe tbody tr th {\n",
       "        vertical-align: top;\n",
       "    }\n",
       "\n",
       "    .dataframe thead th {\n",
       "        text-align: right;\n",
       "    }\n",
       "</style>\n",
       "<table border=\"1\" class=\"dataframe\">\n",
       "  <thead>\n",
       "    <tr style=\"text-align: right;\">\n",
       "      <th></th>\n",
       "      <th>High</th>\n",
       "      <th>Low</th>\n",
       "      <th>Open</th>\n",
       "      <th>Close</th>\n",
       "      <th>Volume</th>\n",
       "      <th>Adj Close</th>\n",
       "    </tr>\n",
       "    <tr>\n",
       "      <th>Date</th>\n",
       "      <th></th>\n",
       "      <th></th>\n",
       "      <th></th>\n",
       "      <th></th>\n",
       "      <th></th>\n",
       "      <th></th>\n",
       "    </tr>\n",
       "  </thead>\n",
       "  <tbody>\n",
       "    <tr>\n",
       "      <th>2018-01-02</th>\n",
       "      <td>26.209999</td>\n",
       "      <td>25.799999</td>\n",
       "      <td>25.90</td>\n",
       "      <td>26.190001</td>\n",
       "      <td>977849</td>\n",
       "      <td>26.190001</td>\n",
       "    </tr>\n",
       "    <tr>\n",
       "      <th>2018-01-03</th>\n",
       "      <td>26.240000</td>\n",
       "      <td>25.165001</td>\n",
       "      <td>26.24</td>\n",
       "      <td>25.370001</td>\n",
       "      <td>2146178</td>\n",
       "      <td>25.370001</td>\n",
       "    </tr>\n",
       "    <tr>\n",
       "      <th>2018-01-04</th>\n",
       "      <td>25.360001</td>\n",
       "      <td>24.980000</td>\n",
       "      <td>25.25</td>\n",
       "      <td>24.990000</td>\n",
       "      <td>1049620</td>\n",
       "      <td>24.990000</td>\n",
       "    </tr>\n",
       "    <tr>\n",
       "      <th>2018-01-05</th>\n",
       "      <td>25.090000</td>\n",
       "      <td>24.520000</td>\n",
       "      <td>25.08</td>\n",
       "      <td>24.680000</td>\n",
       "      <td>1059440</td>\n",
       "      <td>24.680000</td>\n",
       "    </tr>\n",
       "    <tr>\n",
       "      <th>2018-01-08</th>\n",
       "      <td>24.730000</td>\n",
       "      <td>23.700001</td>\n",
       "      <td>24.73</td>\n",
       "      <td>23.879999</td>\n",
       "      <td>1265645</td>\n",
       "      <td>23.879999</td>\n",
       "    </tr>\n",
       "  </tbody>\n",
       "</table>\n",
       "</div>"
      ],
      "text/plain": [
       "                 High        Low   Open      Close   Volume  Adj Close\n",
       "Date                                                                  \n",
       "2018-01-02  26.209999  25.799999  25.90  26.190001   977849  26.190001\n",
       "2018-01-03  26.240000  25.165001  26.24  25.370001  2146178  25.370001\n",
       "2018-01-04  25.360001  24.980000  25.25  24.990000  1049620  24.990000\n",
       "2018-01-05  25.090000  24.520000  25.08  24.680000  1059440  24.680000\n",
       "2018-01-08  24.730000  23.700001  24.73  23.879999  1265645  23.879999"
      ]
     },
     "execution_count": 7,
     "metadata": {},
     "output_type": "execute_result"
    }
   ],
   "source": [
    "df.head()"
   ]
  },
  {
   "cell_type": "code",
   "execution_count": 8,
   "metadata": {},
   "outputs": [
    {
     "data": {
      "text/html": [
       "<div>\n",
       "<style scoped>\n",
       "    .dataframe tbody tr th:only-of-type {\n",
       "        vertical-align: middle;\n",
       "    }\n",
       "\n",
       "    .dataframe tbody tr th {\n",
       "        vertical-align: top;\n",
       "    }\n",
       "\n",
       "    .dataframe thead th {\n",
       "        text-align: right;\n",
       "    }\n",
       "</style>\n",
       "<table border=\"1\" class=\"dataframe\">\n",
       "  <thead>\n",
       "    <tr style=\"text-align: right;\">\n",
       "      <th></th>\n",
       "      <th>High</th>\n",
       "      <th>Low</th>\n",
       "      <th>Open</th>\n",
       "      <th>Close</th>\n",
       "      <th>Volume</th>\n",
       "      <th>Adj Close</th>\n",
       "    </tr>\n",
       "  </thead>\n",
       "  <tbody>\n",
       "    <tr>\n",
       "      <th>High</th>\n",
       "      <td>1.000000</td>\n",
       "      <td>0.997523</td>\n",
       "      <td>0.998696</td>\n",
       "      <td>0.998786</td>\n",
       "      <td>-0.373255</td>\n",
       "      <td>0.998786</td>\n",
       "    </tr>\n",
       "    <tr>\n",
       "      <th>Low</th>\n",
       "      <td>0.997523</td>\n",
       "      <td>1.000000</td>\n",
       "      <td>0.998158</td>\n",
       "      <td>0.998738</td>\n",
       "      <td>-0.410151</td>\n",
       "      <td>0.998738</td>\n",
       "    </tr>\n",
       "    <tr>\n",
       "      <th>Open</th>\n",
       "      <td>0.998696</td>\n",
       "      <td>0.998158</td>\n",
       "      <td>1.000000</td>\n",
       "      <td>0.997574</td>\n",
       "      <td>-0.385350</td>\n",
       "      <td>0.997574</td>\n",
       "    </tr>\n",
       "    <tr>\n",
       "      <th>Close</th>\n",
       "      <td>0.998786</td>\n",
       "      <td>0.998738</td>\n",
       "      <td>0.997574</td>\n",
       "      <td>1.000000</td>\n",
       "      <td>-0.392903</td>\n",
       "      <td>1.000000</td>\n",
       "    </tr>\n",
       "    <tr>\n",
       "      <th>Volume</th>\n",
       "      <td>-0.373255</td>\n",
       "      <td>-0.410151</td>\n",
       "      <td>-0.385350</td>\n",
       "      <td>-0.392903</td>\n",
       "      <td>1.000000</td>\n",
       "      <td>-0.392903</td>\n",
       "    </tr>\n",
       "    <tr>\n",
       "      <th>Adj Close</th>\n",
       "      <td>0.998786</td>\n",
       "      <td>0.998738</td>\n",
       "      <td>0.997574</td>\n",
       "      <td>1.000000</td>\n",
       "      <td>-0.392903</td>\n",
       "      <td>1.000000</td>\n",
       "    </tr>\n",
       "  </tbody>\n",
       "</table>\n",
       "</div>"
      ],
      "text/plain": [
       "               High       Low      Open     Close    Volume  Adj Close\n",
       "High       1.000000  0.997523  0.998696  0.998786 -0.373255   0.998786\n",
       "Low        0.997523  1.000000  0.998158  0.998738 -0.410151   0.998738\n",
       "Open       0.998696  0.998158  1.000000  0.997574 -0.385350   0.997574\n",
       "Close      0.998786  0.998738  0.997574  1.000000 -0.392903   1.000000\n",
       "Volume    -0.373255 -0.410151 -0.385350 -0.392903  1.000000  -0.392903\n",
       "Adj Close  0.998786  0.998738  0.997574  1.000000 -0.392903   1.000000"
      ]
     },
     "execution_count": 8,
     "metadata": {},
     "output_type": "execute_result"
    }
   ],
   "source": [
    "df.corr()"
   ]
  },
  {
   "cell_type": "code",
   "execution_count": 9,
   "metadata": {},
   "outputs": [
    {
     "data": {
      "text/plain": [
       "Date\n",
       "2020-06-09    17.601000\n",
       "2020-06-10    17.564667\n",
       "2020-06-11    17.438000\n",
       "2020-06-12    17.410000\n",
       "2020-06-15    17.384667\n",
       "Name: Adj Close, dtype: float64"
      ]
     },
     "execution_count": 9,
     "metadata": {},
     "output_type": "execute_result"
    }
   ],
   "source": [
    "close_px = df['Adj Close']\n",
    "mavg = close_px.rolling(window=30).mean()\n",
    "mavg.tail()"
   ]
  },
  {
   "cell_type": "code",
   "execution_count": 10,
   "metadata": {},
   "outputs": [
    {
     "data": {
      "text/plain": [
       "<matplotlib.legend.Legend at 0x1d2aaf4db38>"
      ]
     },
     "execution_count": 10,
     "metadata": {},
     "output_type": "execute_result"
    },
    {
     "data": {
      "image/png": "[encoded data removed]",
      "text/plain": [
       "<Figure size 720x504 with 1 Axes>"
      ]
     },
     "metadata": {},
     "output_type": "display_data"
    }
   ],
   "source": [
    "%matplotlib inline\n",
    "import matplotlib.pyplot as plt\n",
    "from matplotlib import style\n",
    "\n",
    "# Adjusting the size of matplotlib\n",
    "import matplotlib as mpl\n",
    "mpl.rc('figure', figsize=(10, 7))\n",
    "mpl.__version__\n",
    "\n",
    "# Adjusting the style of matplotlib\n",
    "style.use('ggplot')\n",
    "\n",
    "close_px.plot(label='AAPL')\n",
    "mavg.plot(label='mavg')\n",
    "plt.legend()"
   ]
  },
  {
   "cell_type": "code",
   "execution_count": 11,
   "metadata": {},
   "outputs": [],
   "source": [
    "from statsmodels.graphics.tsaplots import plot_acf, plot_pacf"
   ]
  },
  {
   "cell_type": "code",
   "execution_count": 12,
   "metadata": {},
   "outputs": [],
   "source": [
    "# # Autocorrelation and partical autocorrelation in the Lynx dataset\n",
    "# # Two plots on one sheet\n",
    "\n",
    "# fig = plt.figure(figsize=(12,8))\n",
    "# ax1 = fig.add_subplot(211)\n",
    "# fig = plot_acf(mavg, lags=1000, ax=ax1)\n",
    "# ax2 = fig.add_subplot(212)\n",
    "# fig = plot_pacf(mavg, lags=1000, ax=ax2)"
   ]
  },
  {
   "cell_type": "code",
   "execution_count": 13,
   "metadata": {},
   "outputs": [
    {
     "data": {
      "text/plain": [
       "<matplotlib.axes._subplots.AxesSubplot at 0x1d2ade714e0>"
      ]
     },
     "execution_count": 13,
     "metadata": {},
     "output_type": "execute_result"
    },
    {
     "data": {
      "image/png": "[encoded data removed]",
      "text/plain": [
       "<Figure size 720x504 with 1 Axes>"
      ]
     },
     "metadata": {},
     "output_type": "display_data"
    }
   ],
   "source": [
    "rets = close_px / close_px.shift(1) - 1\n",
    "rets.plot(label='return')"
   ]
  },
  {
   "cell_type": "code",
   "execution_count": 14,
   "metadata": {},
   "outputs": [
    {
     "data": {
      "text/html": [
       "<div>\n",
       "<style scoped>\n",
       "    .dataframe tbody tr th:only-of-type {\n",
       "        vertical-align: middle;\n",
       "    }\n",
       "\n",
       "    .dataframe tbody tr th {\n",
       "        vertical-align: top;\n",
       "    }\n",
       "\n",
       "    .dataframe thead th {\n",
       "        text-align: right;\n",
       "    }\n",
       "</style>\n",
       "<table border=\"1\" class=\"dataframe\">\n",
       "  <thead>\n",
       "    <tr style=\"text-align: right;\">\n",
       "      <th></th>\n",
       "      <th>Adj Close</th>\n",
       "      <th>Volume</th>\n",
       "      <th>HL_PCT</th>\n",
       "      <th>PCT_change</th>\n",
       "    </tr>\n",
       "    <tr>\n",
       "      <th>Date</th>\n",
       "      <th></th>\n",
       "      <th></th>\n",
       "      <th></th>\n",
       "      <th></th>\n",
       "    </tr>\n",
       "  </thead>\n",
       "  <tbody>\n",
       "    <tr>\n",
       "      <th>2020-06-09</th>\n",
       "      <td>21.010000</td>\n",
       "      <td>14740665</td>\n",
       "      <td>8.186584</td>\n",
       "      <td>-5.573033</td>\n",
       "    </tr>\n",
       "    <tr>\n",
       "      <th>2020-06-10</th>\n",
       "      <td>19.510000</td>\n",
       "      <td>12646157</td>\n",
       "      <td>8.559713</td>\n",
       "      <td>-4.829267</td>\n",
       "    </tr>\n",
       "    <tr>\n",
       "      <th>2020-06-11</th>\n",
       "      <td>17.850000</td>\n",
       "      <td>12470911</td>\n",
       "      <td>9.971992</td>\n",
       "      <td>2.000002</td>\n",
       "    </tr>\n",
       "    <tr>\n",
       "      <th>2020-06-12</th>\n",
       "      <td>19.400000</td>\n",
       "      <td>14378888</td>\n",
       "      <td>7.628864</td>\n",
       "      <td>0.258394</td>\n",
       "    </tr>\n",
       "    <tr>\n",
       "      <th>2020-06-15</th>\n",
       "      <td>18.540001</td>\n",
       "      <td>10437549</td>\n",
       "      <td>6.364618</td>\n",
       "      <td>-4.186044</td>\n",
       "    </tr>\n",
       "  </tbody>\n",
       "</table>\n",
       "</div>"
      ],
      "text/plain": [
       "            Adj Close    Volume    HL_PCT  PCT_change\n",
       "Date                                                 \n",
       "2020-06-09  21.010000  14740665  8.186584   -5.573033\n",
       "2020-06-10  19.510000  12646157  8.559713   -4.829267\n",
       "2020-06-11  17.850000  12470911  9.971992    2.000002\n",
       "2020-06-12  19.400000  14378888  7.628864    0.258394\n",
       "2020-06-15  18.540001  10437549  6.364618   -4.186044"
      ]
     },
     "execution_count": 14,
     "metadata": {},
     "output_type": "execute_result"
    }
   ],
   "source": [
    "dfreg = df.loc[:,['Adj Close','Volume']]\n",
    "dfreg['HL_PCT'] = (df['High'] - df['Low']) / df['Close'] * 100.0\n",
    "dfreg['PCT_change'] = (df['Close'] - df['Open']) / df['Open'] * 100.0\n",
    "dfreg.tail()"
   ]
  },
  {
   "cell_type": "code",
   "execution_count": 15,
   "metadata": {},
   "outputs": [
    {
     "data": {
      "text/html": [
       "<div>\n",
       "<style scoped>\n",
       "    .dataframe tbody tr th:only-of-type {\n",
       "        vertical-align: middle;\n",
       "    }\n",
       "\n",
       "    .dataframe tbody tr th {\n",
       "        vertical-align: top;\n",
       "    }\n",
       "\n",
       "    .dataframe thead th {\n",
       "        text-align: right;\n",
       "    }\n",
       "</style>\n",
       "<table border=\"1\" class=\"dataframe\">\n",
       "  <thead>\n",
       "    <tr style=\"text-align: right;\">\n",
       "      <th></th>\n",
       "      <th>Adj Close</th>\n",
       "      <th>Volume</th>\n",
       "      <th>HL_PCT</th>\n",
       "      <th>PCT_change</th>\n",
       "    </tr>\n",
       "  </thead>\n",
       "  <tbody>\n",
       "    <tr>\n",
       "      <th>Adj Close</th>\n",
       "      <td>1.000000</td>\n",
       "      <td>-0.392903</td>\n",
       "      <td>-0.342792</td>\n",
       "      <td>0.142443</td>\n",
       "    </tr>\n",
       "    <tr>\n",
       "      <th>Volume</th>\n",
       "      <td>-0.392903</td>\n",
       "      <td>1.000000</td>\n",
       "      <td>0.670435</td>\n",
       "      <td>-0.191164</td>\n",
       "    </tr>\n",
       "    <tr>\n",
       "      <th>HL_PCT</th>\n",
       "      <td>-0.342792</td>\n",
       "      <td>0.670435</td>\n",
       "      <td>1.000000</td>\n",
       "      <td>-0.320997</td>\n",
       "    </tr>\n",
       "    <tr>\n",
       "      <th>PCT_change</th>\n",
       "      <td>0.142443</td>\n",
       "      <td>-0.191164</td>\n",
       "      <td>-0.320997</td>\n",
       "      <td>1.000000</td>\n",
       "    </tr>\n",
       "  </tbody>\n",
       "</table>\n",
       "</div>"
      ],
      "text/plain": [
       "            Adj Close    Volume    HL_PCT  PCT_change\n",
       "Adj Close    1.000000 -0.392903 -0.342792    0.142443\n",
       "Volume      -0.392903  1.000000  0.670435   -0.191164\n",
       "HL_PCT      -0.342792  0.670435  1.000000   -0.320997\n",
       "PCT_change   0.142443 -0.191164 -0.320997    1.000000"
      ]
     },
     "execution_count": 15,
     "metadata": {},
     "output_type": "execute_result"
    }
   ],
   "source": [
    "dfreg.corr()"
   ]
  },
  {
   "cell_type": "code",
   "execution_count": 16,
   "metadata": {},
   "outputs": [
    {
     "data": {
      "text/html": [
       "<div>\n",
       "<style scoped>\n",
       "    .dataframe tbody tr th:only-of-type {\n",
       "        vertical-align: middle;\n",
       "    }\n",
       "\n",
       "    .dataframe tbody tr th {\n",
       "        vertical-align: top;\n",
       "    }\n",
       "\n",
       "    .dataframe thead th {\n",
       "        text-align: right;\n",
       "    }\n",
       "</style>\n",
       "<table border=\"1\" class=\"dataframe\">\n",
       "  <thead>\n",
       "    <tr style=\"text-align: right;\">\n",
       "      <th></th>\n",
       "      <th>Adj Close</th>\n",
       "      <th>Volume</th>\n",
       "      <th>HL_PCT</th>\n",
       "      <th>PCT_change</th>\n",
       "    </tr>\n",
       "    <tr>\n",
       "      <th>Date</th>\n",
       "      <th></th>\n",
       "      <th></th>\n",
       "      <th></th>\n",
       "      <th></th>\n",
       "    </tr>\n",
       "  </thead>\n",
       "  <tbody>\n",
       "    <tr>\n",
       "      <th>2020-06-09</th>\n",
       "      <td>21.010000</td>\n",
       "      <td>14740665</td>\n",
       "      <td>8.186584</td>\n",
       "      <td>-5.573033</td>\n",
       "    </tr>\n",
       "    <tr>\n",
       "      <th>2020-06-10</th>\n",
       "      <td>19.510000</td>\n",
       "      <td>12646157</td>\n",
       "      <td>8.559713</td>\n",
       "      <td>-4.829267</td>\n",
       "    </tr>\n",
       "    <tr>\n",
       "      <th>2020-06-11</th>\n",
       "      <td>17.850000</td>\n",
       "      <td>12470911</td>\n",
       "      <td>9.971992</td>\n",
       "      <td>2.000002</td>\n",
       "    </tr>\n",
       "    <tr>\n",
       "      <th>2020-06-12</th>\n",
       "      <td>19.400000</td>\n",
       "      <td>14378888</td>\n",
       "      <td>7.628864</td>\n",
       "      <td>0.258394</td>\n",
       "    </tr>\n",
       "    <tr>\n",
       "      <th>2020-06-15</th>\n",
       "      <td>18.540001</td>\n",
       "      <td>10437549</td>\n",
       "      <td>6.364618</td>\n",
       "      <td>-4.186044</td>\n",
       "    </tr>\n",
       "  </tbody>\n",
       "</table>\n",
       "</div>"
      ],
      "text/plain": [
       "            Adj Close    Volume    HL_PCT  PCT_change\n",
       "Date                                                 \n",
       "2020-06-09  21.010000  14740665  8.186584   -5.573033\n",
       "2020-06-10  19.510000  12646157  8.559713   -4.829267\n",
       "2020-06-11  17.850000  12470911  9.971992    2.000002\n",
       "2020-06-12  19.400000  14378888  7.628864    0.258394\n",
       "2020-06-15  18.540001  10437549  6.364618   -4.186044"
      ]
     },
     "execution_count": 16,
     "metadata": {},
     "output_type": "execute_result"
    }
   ],
   "source": [
    "import math\n",
    "import numpy as np\n",
    "\n",
    "#Drop missing value\n",
    "dfreg.fillna(value=-99999, inplace=True)\n",
    "dfreg.tail()"
   ]
  },
  {
   "cell_type": "code",
   "execution_count": 17,
   "metadata": {},
   "outputs": [
    {
     "data": {
      "text/plain": [
       "7"
      ]
     },
     "execution_count": 17,
     "metadata": {},
     "output_type": "execute_result"
    }
   ],
   "source": [
    "# We want to separate 1 percent of the data to forecast\n",
    "forecast_out = int(math.ceil(0.01 * len(dfreg)))\n",
    "forecast_out"
   ]
  },
  {
   "cell_type": "code",
   "execution_count": 18,
   "metadata": {},
   "outputs": [
    {
     "data": {
      "text/plain": [
       "array([[ 2.61900005e+01,  9.77849000e+05,  1.56548239e+00,\n",
       "         1.11969467e+00],\n",
       "       [ 2.53700008e+01,  2.14617800e+06,  4.23728348e+00,\n",
       "        -3.31554474e+00],\n",
       "       [ 2.49899998e+01,  1.04962000e+06,  1.52061253e+00,\n",
       "        -1.02970388e+00],\n",
       "       ...,\n",
       "       [ 1.78500004e+01,  1.24709110e+07,  9.97199243e+00,\n",
       "         2.00000218e+00],\n",
       "       [ 1.93999996e+01,  1.43788880e+07,  7.62886377e+00,\n",
       "         2.58393985e-01],\n",
       "       [ 1.85400009e+01,  1.04375490e+07,  6.36461838e+00,\n",
       "        -4.18604367e+00]])"
      ]
     },
     "execution_count": 18,
     "metadata": {},
     "output_type": "execute_result"
    }
   ],
   "source": [
    "# Separating the label here, we want to predict the AdjClose\n",
    "forecast_col = 'Adj Close'\n",
    "dfreg['label'] = dfreg[forecast_col].shift(-forecast_out)\n",
    "X = np.array(dfreg.drop(['label'], 1))\n",
    "X"
   ]
  },
  {
   "cell_type": "code",
   "execution_count": 19,
   "metadata": {},
   "outputs": [
    {
     "data": {
      "text/plain": [
       "array([[-0.5362438 , -0.41037841, -0.56892391,  0.44873242],\n",
       "       [-0.61710403,  0.05647312,  0.1431521 , -1.22300884],\n",
       "       [-0.65457597, -0.3816995 , -0.58088242, -0.36142412],\n",
       "       ...,\n",
       "       [-1.35865188,  4.18212381,  1.67154006,  0.78054007],\n",
       "       [-1.20580633,  4.94453061,  1.04706031,  0.12408886],\n",
       "       [-1.29061087,  3.36961454,  0.7101195 , -1.55111942]])"
      ]
     },
     "execution_count": 19,
     "metadata": {},
     "output_type": "execute_result"
    }
   ],
   "source": [
    "# Scale the X so that everyone can have the same distribution for linear regression\n",
    "from sklearn import preprocessing\n",
    "\n",
    "X = preprocessing.scale(X)\n",
    "X"
   ]
  },
  {
   "cell_type": "code",
   "execution_count": 20,
   "metadata": {},
   "outputs": [
    {
     "data": {
      "text/plain": [
       "array([[-5.36243796e-01, -4.10378405e-01, -5.68923911e-01,\n",
       "         4.48732419e-01],\n",
       "       [-6.17104031e-01,  5.64731202e-02,  1.43152096e-01,\n",
       "        -1.22300884e+00],\n",
       "       [-6.54575967e-01, -3.81699496e-01, -5.80882418e-01,\n",
       "        -3.61424124e-01],\n",
       "       ...,\n",
       "       [-1.47303955e+00,  1.91199744e+00, -3.79344887e-01,\n",
       "         4.12365117e-03],\n",
       "       [-1.30737459e+00,  4.05686502e+00,  1.36417802e+00,\n",
       "         2.99249652e+00],\n",
       "       [-1.20383408e+00,  5.30329968e+00,  8.66558644e-01,\n",
       "         7.18477276e-01]])"
      ]
     },
     "execution_count": 20,
     "metadata": {},
     "output_type": "execute_result"
    }
   ],
   "source": [
    "# Finally We want to find Data Series of late X and early X (train) for model generation and evaluation\n",
    "X_lately = X[-forecast_out:]\n",
    "X = X[:-forecast_out]\n",
    "X"
   ]
  },
  {
   "cell_type": "code",
   "execution_count": 21,
   "metadata": {},
   "outputs": [
    {
     "data": {
      "text/plain": [
       "array([23.79000092, 24.48999977, 23.90999985, 23.06999969, 22.90999985,\n",
       "       22.95999908, 22.93000031, 23.44000053, 23.15999985, 22.79999924,\n",
       "       23.02000046, 23.05999947, 23.37999916, 23.90999985, 23.90999985,\n",
       "       23.85000038, 23.70000076, 23.14999962, 23.36000061, 23.94000053,\n",
       "       23.54000092, 22.59000015, 22.93000031, 22.71999931, 23.25      ,\n",
       "       24.32999992, 24.63999939, 25.38999939, 26.25      , 25.98999977,\n",
       "       25.98999977, 26.96999931, 27.17000008, 27.05999947, 27.29999924,\n",
       "       26.88999939, 27.04999924, 26.80999947, 26.75      , 27.03000069,\n",
       "       27.15999985, 27.31999969, 27.57999992, 28.03000069, 28.11000061,\n",
       "       28.01000023, 27.79000092, 29.        , 28.57999992, 27.17000008,\n",
       "       26.86000061, 26.68000031, 26.28000069, 25.93000031, 26.77000046,\n",
       "       26.30999947, 26.28000069, 26.35000038, 25.87999916, 25.80999947,\n",
       "       25.40999985, 25.36000061, 25.        , 24.95999908, 24.75      ,\n",
       "       25.19000053, 25.81999969, 26.23999977, 25.70999908, 25.81999969,\n",
       "       25.71999931, 25.60000038, 25.11000061, 24.76000023, 25.01000023,\n",
       "       25.23999977, 25.09000015, 24.80999947, 24.14999962, 24.04999924,\n",
       "       23.95999908, 23.70999908, 23.10000038, 22.88999939, 23.76000023,\n",
       "       23.61000061, 24.64999962, 24.69000053, 24.59000015, 24.31999969,\n",
       "       23.96999931, 23.80999947, 24.21999931, 24.46999931, 24.71999931,\n",
       "       23.89999962, 23.54000092, 22.96999931, 22.87999916, 23.70999908,\n",
       "       23.5       , 23.68000031, 23.18000031, 23.19000053, 23.13999939,\n",
       "       23.43000031, 23.28000069, 23.18000031, 23.19000053, 23.01000023,\n",
       "       23.13999939, 23.52000046, 23.47999954, 23.29999924, 22.47999954,\n",
       "       22.04999924, 21.18000031, 20.79000092, 21.25      , 21.31999969,\n",
       "       21.25      , 21.        , 20.92000008, 21.71999931, 21.12999916,\n",
       "       20.72999954, 20.90999985, 20.84000015, 20.72999954, 21.45999908,\n",
       "       22.34000015, 22.18000031, 21.93000031, 22.04000092, 22.09000015,\n",
       "       22.39999962, 23.47999954, 23.40999985, 24.29999924, 23.53000069,\n",
       "       23.40999985, 23.27000046, 23.72999954, 23.78000069, 24.62999916,\n",
       "       23.90999985, 23.48999977, 23.51000023, 23.5       , 23.39999962,\n",
       "       23.87000084, 24.01000023, 24.71999931, 26.78000069, 26.52000046,\n",
       "       26.77000046, 26.81999969, 26.80999947, 27.10000038, 27.04000092,\n",
       "       26.88999939, 26.81999969, 26.54000092, 26.57999992, 26.76000023,\n",
       "       26.82999992, 26.82999992, 27.32999992, 27.18000031, 26.77000046,\n",
       "       27.39999962, 27.12999916, 27.37000084, 27.37000084, 27.65999985,\n",
       "       28.32999992, 28.18000031, 27.48999977, 27.72999954, 27.53000069,\n",
       "       27.60000038, 26.20999908, 25.95999908, 25.57999992, 25.20999908,\n",
       "       25.40999985, 24.76000023, 24.12999916, 24.12999916, 24.30999947,\n",
       "       24.51000023, 25.48999977, 25.64999962, 24.40999985, 24.19000053,\n",
       "       24.17000008, 24.62000084, 22.65999985, 23.84000015, 24.13999939,\n",
       "       23.85000038, 23.40999985, 24.97999954, 25.96999931, 26.48999977,\n",
       "       26.67000008, 26.34000015, 26.97999954, 26.60000038, 26.51000023,\n",
       "       26.70000076, 26.98999977, 26.62999916, 25.95000076, 25.51000023,\n",
       "       25.06999969, 24.75      , 25.36000061, 25.28000069, 26.17000008,\n",
       "       27.40999985, 27.60000038, 28.23999977, 28.64999962, 29.        ,\n",
       "       28.90999985, 27.68000031, 28.04000092, 27.79999924, 26.77000046,\n",
       "       26.82999992, 26.70000076, 26.26000023, 25.51000023, 25.43000031,\n",
       "       25.28000069, 26.06999969, 26.04999924, 25.69000053, 24.5       ,\n",
       "       23.89999962, 25.12000084, 25.32999992, 25.95999908, 25.82999992,\n",
       "       25.11000061, 26.69000053, 26.71999931, 26.65999985, 26.77000046,\n",
       "       26.54000092, 27.21999931, 27.53000069, 27.56999969, 28.04000092,\n",
       "       28.34000015, 28.28000069, 28.45999908, 27.97999954, 27.97999954,\n",
       "       28.44000053, 28.54000092, 28.61000061, 28.93000031, 29.23999977,\n",
       "       29.67000008, 30.21999931, 30.28000069, 31.20999908, 31.31999969,\n",
       "       31.18000031, 31.36000061, 31.68000031, 31.69000053, 31.63999939,\n",
       "       31.97999954, 33.15000153, 33.02000046, 32.88999939, 33.29999924,\n",
       "       33.13999939, 33.40000153, 33.91999817, 34.27000046, 33.11000061,\n",
       "       34.        , 33.59999847, 33.02000046, 32.77999878, 33.        ,\n",
       "       33.15999985, 33.36000061, 32.04000092, 32.00999832, 31.88999939,\n",
       "       31.65999985, 31.42000008, 31.75      , 31.44000053, 31.45999908,\n",
       "       31.61000061, 30.95999908, 31.92000008, 32.20000076, 32.13000107,\n",
       "       32.20999908, 33.56000137, 33.58000183, 33.49000168, 33.02999878,\n",
       "       32.97999954, 32.88000107, 32.31999969, 32.36999893, 32.79000092,\n",
       "       32.52999878, 31.95000076, 31.65999985, 32.24000168, 32.59000015,\n",
       "       32.13999939, 31.56999969, 31.45000076, 32.06000137, 31.81999969,\n",
       "       31.95000076, 32.15999985, 32.86999893, 32.56999969, 33.61999893,\n",
       "       35.27999878, 35.5       , 36.29999924, 35.86999893, 36.20999908,\n",
       "       38.20999908, 38.79999924, 38.88000107, 40.40000153, 40.86000061,\n",
       "       40.77999878, 39.72000122, 39.49000168, 40.43000031, 41.22000122,\n",
       "       40.72000122, 40.50999832, 40.34999847, 39.90000153, 39.15999985,\n",
       "       39.40999985, 39.34000015, 39.02999878, 39.08000183, 38.61999893,\n",
       "       39.97000122, 39.79999924, 39.88000107, 39.99000168, 39.54000092,\n",
       "       39.54000092, 40.72999954, 39.45999908, 40.        , 40.16999817,\n",
       "       39.5       , 39.36000061, 40.59999847, 39.68999863, 40.59999847,\n",
       "       41.06000137, 41.88999939, 41.72999954, 41.49000168, 40.75999832,\n",
       "       41.75999832, 41.88000107, 42.50999832, 42.86999893, 43.34999847,\n",
       "       43.45000076, 44.31999969, 44.20999908, 44.09999847, 44.22000122,\n",
       "       44.5       , 44.06999969, 45.54999924, 45.09000015, 46.68999863,\n",
       "       45.40999985, 44.97999954, 44.40999985, 44.15999985, 43.31000137,\n",
       "       44.47000122, 44.5       , 43.75999832, 43.5       , 42.31999969,\n",
       "       41.86000061, 43.58000183, 43.66999817, 43.20999908, 44.20999908,\n",
       "       43.90000153, 43.09999847, 42.45000076, 42.70999908, 42.68999863,\n",
       "       43.54999924, 44.75      , 43.61999893, 43.56999969, 44.09000015,\n",
       "       44.56000137, 44.        , 42.38000107, 42.70000076, 42.90999985,\n",
       "       43.13000107, 41.81000137, 44.00999832, 43.40000153, 43.02999878,\n",
       "       42.75      , 43.04000092, 43.        , 43.13000107, 43.13999939,\n",
       "       42.95000076, 43.20999908, 43.11999893, 42.54000092, 43.09999847,\n",
       "       43.27000046, 43.24000168, 42.88000107, 43.65999985, 44.81000137,\n",
       "       45.54999924, 45.63000107, 45.38000107, 45.54000092, 45.25999832,\n",
       "       46.22999954, 45.43000031, 45.72999954, 46.00999832, 45.99000168,\n",
       "       45.72000122, 47.41999817, 46.56000137, 46.90000153, 46.99000168,\n",
       "       47.27999878, 47.06000137, 48.59999847, 47.33000183, 48.63000107,\n",
       "       48.13000107, 48.56000137, 48.86999893, 49.29999924, 49.36000061,\n",
       "       49.56000137, 49.88000107, 49.75      , 49.45000076, 49.16999817,\n",
       "       49.84999847, 50.54000092, 50.20000076, 50.63999939, 50.04999924,\n",
       "       49.47000122, 49.36999893, 49.20000076, 49.18999863, 49.02999878,\n",
       "       48.86999893, 48.56000137, 49.38999939, 48.79999924, 49.5       ,\n",
       "       49.88000107, 50.33000183, 50.00999832, 49.34999847, 49.70000076,\n",
       "       49.68999863, 49.59999847, 49.68000031, 48.84999847, 48.50999832,\n",
       "       50.        , 48.31000137, 47.29999924, 48.24000168, 49.04000092,\n",
       "       49.59999847, 50.90000153, 52.09000015, 52.00999832, 51.54000092,\n",
       "       51.79000092, 51.08000183, 51.15000153, 48.84000015, 48.68000031,\n",
       "       48.41999817, 47.18000031, 44.74000168, 45.09999847, 45.59999847,\n",
       "       44.93000031, 44.33000183, 44.77999878, 46.50999832, 46.70000076,\n",
       "       46.34999847, 45.45999908, 45.08000183, 46.58000183, 47.06999969,\n",
       "       47.04999924, 46.22000122, 45.        , 45.31000137, 44.45000076,\n",
       "       42.18000031, 40.06999969, 37.38999939, 34.91999817, 35.45000076,\n",
       "       34.25      , 34.56999969, 34.93999863, 35.06999969, 32.15999985,\n",
       "       33.15999985, 30.30999947, 31.21999931, 27.39999962, 24.89999962,\n",
       "       25.37000084, 18.22999954, 16.09000015, 12.89999962, 12.14999962,\n",
       "       12.40999985, 12.69999981, 15.10999966, 17.51000023, 17.90999985,\n",
       "       16.75      , 16.07999992, 15.75      , 14.46000004, 14.72000027,\n",
       "       14.55000019, 15.15999985, 16.56999969, 18.73999977, 20.07999992,\n",
       "       19.30999947, 19.43000031, 18.65999985, 17.10000038, 18.14999962,\n",
       "       18.12000084, 17.75      , 17.95999908, 18.19000053, 18.23999977,\n",
       "       18.79999924, 20.60000038, 21.64999962, 20.23999977, 19.29999924,\n",
       "       17.62999916, 17.01000023, 16.68000031, 16.53000069, 17.04999924,\n",
       "       16.29999924, 15.31999969, 14.10000038, 15.22000027, 14.61999989,\n",
       "       16.72999954, 17.01000023, 16.97999954, 16.70999908, 16.76000023,\n",
       "       17.67000008, 16.44000053, 16.        , 15.89999962, 16.40999985,\n",
       "       16.69000053, 18.37000084, 19.42000008, 20.29000092, 23.38999939,\n",
       "       21.01000023, 19.51000023, 17.85000038, 19.39999962, 18.54000092])"
      ]
     },
     "execution_count": 21,
     "metadata": {},
     "output_type": "execute_result"
    }
   ],
   "source": [
    "# Separate label and identify it as y\n",
    "y = np.array(dfreg['label'])\n",
    "y = y[:-forecast_out]\n",
    "y"
   ]
  },
  {
   "cell_type": "code",
   "execution_count": 22,
   "metadata": {},
   "outputs": [],
   "source": [
    "from sklearn.model_selection import train_test_split\n",
    "X_train, X_test, y_train, y_test = train_test_split(X, y, test_size=0.2)"
   ]
  },
  {
   "cell_type": "code",
   "execution_count": 23,
   "metadata": {},
   "outputs": [],
   "source": [
    "# X_lat = X[-len(y_test):]"
   ]
  },
  {
   "cell_type": "code",
   "execution_count": 24,
   "metadata": {},
   "outputs": [],
   "source": [
    "from sklearn.linear_model import LinearRegression\n",
    "from sklearn.neighbors import KNeighborsRegressor\n",
    "\n",
    "from sklearn.linear_model import Ridge\n",
    "from sklearn.preprocessing import PolynomialFeatures\n",
    "from sklearn.pipeline import make_pipeline"
   ]
  },
  {
   "cell_type": "code",
   "execution_count": 25,
   "metadata": {},
   "outputs": [
    {
     "data": {
      "text/plain": [
       "Pipeline(memory=None,\n",
       "         steps=[('polynomialfeatures',\n",
       "                 PolynomialFeatures(degree=3, include_bias=True,\n",
       "                                    interaction_only=False, order='C')),\n",
       "                ('ridge',\n",
       "                 Ridge(alpha=1.0, copy_X=True, fit_intercept=True,\n",
       "                       max_iter=None, normalize=False, random_state=None,\n",
       "                       solver='auto', tol=0.001))],\n",
       "         verbose=False)"
      ]
     },
     "execution_count": 25,
     "metadata": {},
     "output_type": "execute_result"
    }
   ],
   "source": [
    "# Linear regression\n",
    "clfreg = LinearRegression(n_jobs=-1)\n",
    "clfreg.fit(X_train, y_train)\n",
    "\n",
    "# Quadratic Regression 2\n",
    "clfpoly2 = make_pipeline(PolynomialFeatures(2), Ridge())\n",
    "clfpoly2.fit(X_train, y_train)\n",
    "\n",
    "# Quadratic Regression 3\n",
    "clfpoly3 = make_pipeline(PolynomialFeatures(3), Ridge())\n",
    "clfpoly3.fit(X_train, y_train)"
   ]
  },
  {
   "cell_type": "code",
   "execution_count": 26,
   "metadata": {},
   "outputs": [
    {
     "data": {
      "text/plain": [
       "RandomForestRegressor(bootstrap=True, ccp_alpha=0.0, criterion='mse',\n",
       "                      max_depth=None, max_features='auto', max_leaf_nodes=None,\n",
       "                      max_samples=None, min_impurity_decrease=0.0,\n",
       "                      min_impurity_split=None, min_samples_leaf=1,\n",
       "                      min_samples_split=2, min_weight_fraction_leaf=0.0,\n",
       "                      n_estimators=200, n_jobs=None, oob_score=False,\n",
       "                      random_state=None, verbose=0, warm_start=False)"
      ]
     },
     "execution_count": 26,
     "metadata": {},
     "output_type": "execute_result"
    }
   ],
   "source": [
    "from sklearn.ensemble import RandomForestRegressor\n",
    "forest = RandomForestRegressor(200)\n",
    "forest.fit(X_train, y_train)"
   ]
  },
  {
   "cell_type": "code",
   "execution_count": 27,
   "metadata": {},
   "outputs": [],
   "source": [
    "# from sklearn import metrics\n",
    "# y_pred = forest.predict(X_lat)\n",
    "# forest.score(y_pred, y_test)"
   ]
  },
  {
   "cell_type": "code",
   "execution_count": 28,
   "metadata": {},
   "outputs": [
    {
     "data": {
      "text/plain": [
       "KNeighborsRegressor(algorithm='auto', leaf_size=30, metric='minkowski',\n",
       "                    metric_params=None, n_jobs=None, n_neighbors=2, p=2,\n",
       "                    weights='uniform')"
      ]
     },
     "execution_count": 28,
     "metadata": {},
     "output_type": "execute_result"
    }
   ],
   "source": [
    "# KNN Regression\n",
    "clfknn = KNeighborsRegressor(n_neighbors=2)\n",
    "clfknn.fit(X_train, y_train)"
   ]
  },
  {
   "cell_type": "code",
   "execution_count": 29,
   "metadata": {},
   "outputs": [],
   "source": [
    "confidencereg = clfreg.score(X_test, y_test)\n",
    "confidencepoly2 = clfpoly2.score(X_test,y_test)\n",
    "confidencepoly3 = clfpoly3.score(X_test,y_test)\n",
    "confidenceknn = clfknn.score(X_test, y_test)\n",
    "confiforest = forest.score(X_test, y_test)"
   ]
  },
  {
   "cell_type": "code",
   "execution_count": 30,
   "metadata": {},
   "outputs": [
    {
     "data": {
      "text/plain": [
       "0.9300724531709743"
      ]
     },
     "execution_count": 30,
     "metadata": {},
     "output_type": "execute_result"
    }
   ],
   "source": [
    "confidencereg"
   ]
  },
  {
   "cell_type": "code",
   "execution_count": 31,
   "metadata": {},
   "outputs": [
    {
     "data": {
      "text/plain": [
       "0.950360889397836"
      ]
     },
     "execution_count": 31,
     "metadata": {},
     "output_type": "execute_result"
    }
   ],
   "source": [
    "confidencepoly2"
   ]
  },
  {
   "cell_type": "code",
   "execution_count": 32,
   "metadata": {},
   "outputs": [
    {
     "data": {
      "text/plain": [
       "0.8600198059940164"
      ]
     },
     "execution_count": 32,
     "metadata": {},
     "output_type": "execute_result"
    }
   ],
   "source": [
    "confidencepoly3"
   ]
  },
  {
   "cell_type": "code",
   "execution_count": 33,
   "metadata": {},
   "outputs": [
    {
     "data": {
      "text/plain": [
       "0.9371304551211451"
      ]
     },
     "execution_count": 33,
     "metadata": {},
     "output_type": "execute_result"
    }
   ],
   "source": [
    "confidenceknn"
   ]
  },
  {
   "cell_type": "code",
   "execution_count": 34,
   "metadata": {},
   "outputs": [
    {
     "data": {
      "text/plain": [
       "0.960481229825452"
      ]
     },
     "execution_count": 34,
     "metadata": {},
     "output_type": "execute_result"
    }
   ],
   "source": [
    "confiforest"
   ]
  },
  {
   "cell_type": "code",
   "execution_count": 35,
   "metadata": {},
   "outputs": [],
   "source": [
    "# forecast_set = clfreg.predict(X_lately)\n",
    "forecast_set = forest.predict(X_lately)\n",
    "dfreg['Forecast'] = np.nan"
   ]
  },
  {
   "cell_type": "code",
   "execution_count": 36,
   "metadata": {},
   "outputs": [
    {
     "data": {
      "image/png": "[encoded data removed]",
      "text/plain": [
       "<Figure size 720x504 with 1 Axes>"
      ]
     },
     "metadata": {},
     "output_type": "display_data"
    }
   ],
   "source": [
    "last_date = dfreg.iloc[-1].name\n",
    "last_unix = last_date\n",
    "next_unix = last_unix + datetime.timedelta(days=1)\n",
    "\n",
    "for i in forecast_set:\n",
    "    next_date = next_unix\n",
    "    next_unix += datetime.timedelta(days=1)\n",
    "    dfreg.loc[next_date] = [np.nan for _ in range(len(dfreg.columns)-1)]+[i]\n",
    "dfreg['Adj Close'].tail(100).plot(gid=1)\n",
    "dfreg['Forecast'].tail(100).plot(gid=1)\n",
    "plt.legend(loc=0)\n",
    "plt.xlabel('Date')\n",
    "plt.ylabel('Price')\n",
    "plt.show()"
   ]
  },
  {
   "cell_type": "code",
   "execution_count": 37,
   "metadata": {},
   "outputs": [
    {
     "data": {
      "text/html": [
       "<div>\n",
       "<style scoped>\n",
       "    .dataframe tbody tr th:only-of-type {\n",
       "        vertical-align: middle;\n",
       "    }\n",
       "\n",
       "    .dataframe tbody tr th {\n",
       "        vertical-align: top;\n",
       "    }\n",
       "\n",
       "    .dataframe thead th {\n",
       "        text-align: right;\n",
       "    }\n",
       "</style>\n",
       "<table border=\"1\" class=\"dataframe\">\n",
       "  <thead>\n",
       "    <tr style=\"text-align: right;\">\n",
       "      <th></th>\n",
       "      <th>Adj Close</th>\n",
       "      <th>Volume</th>\n",
       "      <th>HL_PCT</th>\n",
       "      <th>PCT_change</th>\n",
       "      <th>label</th>\n",
       "      <th>Forecast</th>\n",
       "    </tr>\n",
       "    <tr>\n",
       "      <th>Date</th>\n",
       "      <th></th>\n",
       "      <th></th>\n",
       "      <th></th>\n",
       "      <th></th>\n",
       "      <th></th>\n",
       "      <th></th>\n",
       "    </tr>\n",
       "  </thead>\n",
       "  <tbody>\n",
       "    <tr>\n",
       "      <th>2020-05-13</th>\n",
       "      <td>14.100000</td>\n",
       "      <td>7663347.0</td>\n",
       "      <td>8.723408</td>\n",
       "      <td>-6.930688</td>\n",
       "      <td>16.760000</td>\n",
       "      <td>NaN</td>\n",
       "    </tr>\n",
       "    <tr>\n",
       "      <th>2020-05-14</th>\n",
       "      <td>15.220000</td>\n",
       "      <td>9154474.0</td>\n",
       "      <td>16.951379</td>\n",
       "      <td>12.076586</td>\n",
       "      <td>17.670000</td>\n",
       "      <td>NaN</td>\n",
       "    </tr>\n",
       "    <tr>\n",
       "      <th>2020-05-15</th>\n",
       "      <td>14.620000</td>\n",
       "      <td>5179280.0</td>\n",
       "      <td>5.335156</td>\n",
       "      <td>-3.050398</td>\n",
       "      <td>16.440001</td>\n",
       "      <td>NaN</td>\n",
       "    </tr>\n",
       "    <tr>\n",
       "      <th>2020-05-19</th>\n",
       "      <td>16.730000</td>\n",
       "      <td>8682412.0</td>\n",
       "      <td>8.368204</td>\n",
       "      <td>4.562497</td>\n",
       "      <td>16.000000</td>\n",
       "      <td>NaN</td>\n",
       "    </tr>\n",
       "    <tr>\n",
       "      <th>2020-05-20</th>\n",
       "      <td>17.010000</td>\n",
       "      <td>5323363.0</td>\n",
       "      <td>3.527339</td>\n",
       "      <td>-0.758455</td>\n",
       "      <td>15.900000</td>\n",
       "      <td>NaN</td>\n",
       "    </tr>\n",
       "    <tr>\n",
       "      <th>2020-05-21</th>\n",
       "      <td>16.980000</td>\n",
       "      <td>3677971.0</td>\n",
       "      <td>6.478212</td>\n",
       "      <td>1.011303</td>\n",
       "      <td>16.410000</td>\n",
       "      <td>NaN</td>\n",
       "    </tr>\n",
       "    <tr>\n",
       "      <th>2020-05-22</th>\n",
       "      <td>16.709999</td>\n",
       "      <td>3572428.0</td>\n",
       "      <td>4.009576</td>\n",
       "      <td>-1.415939</td>\n",
       "      <td>16.690001</td>\n",
       "      <td>NaN</td>\n",
       "    </tr>\n",
       "    <tr>\n",
       "      <th>2020-05-25</th>\n",
       "      <td>16.760000</td>\n",
       "      <td>2423418.0</td>\n",
       "      <td>3.221962</td>\n",
       "      <td>-1.411763</td>\n",
       "      <td>18.370001</td>\n",
       "      <td>NaN</td>\n",
       "    </tr>\n",
       "    <tr>\n",
       "      <th>2020-05-26</th>\n",
       "      <td>17.670000</td>\n",
       "      <td>7371951.0</td>\n",
       "      <td>6.112054</td>\n",
       "      <td>2.792318</td>\n",
       "      <td>19.420000</td>\n",
       "      <td>NaN</td>\n",
       "    </tr>\n",
       "    <tr>\n",
       "      <th>2020-05-27</th>\n",
       "      <td>16.440001</td>\n",
       "      <td>17431970.0</td>\n",
       "      <td>11.253043</td>\n",
       "      <td>-7.380279</td>\n",
       "      <td>20.290001</td>\n",
       "      <td>NaN</td>\n",
       "    </tr>\n",
       "    <tr>\n",
       "      <th>2020-05-28</th>\n",
       "      <td>16.000000</td>\n",
       "      <td>11509385.0</td>\n",
       "      <td>5.125004</td>\n",
       "      <td>-4.191621</td>\n",
       "      <td>23.389999</td>\n",
       "      <td>NaN</td>\n",
       "    </tr>\n",
       "    <tr>\n",
       "      <th>2020-05-29</th>\n",
       "      <td>15.900000</td>\n",
       "      <td>7199432.0</td>\n",
       "      <td>2.830188</td>\n",
       "      <td>0.125941</td>\n",
       "      <td>21.010000</td>\n",
       "      <td>NaN</td>\n",
       "    </tr>\n",
       "    <tr>\n",
       "      <th>2020-06-01</th>\n",
       "      <td>16.410000</td>\n",
       "      <td>6367971.0</td>\n",
       "      <td>5.850092</td>\n",
       "      <td>2.626642</td>\n",
       "      <td>19.510000</td>\n",
       "      <td>NaN</td>\n",
       "    </tr>\n",
       "    <tr>\n",
       "      <th>2020-06-02</th>\n",
       "      <td>16.690001</td>\n",
       "      <td>6789759.0</td>\n",
       "      <td>2.276807</td>\n",
       "      <td>-0.059882</td>\n",
       "      <td>17.850000</td>\n",
       "      <td>NaN</td>\n",
       "    </tr>\n",
       "    <tr>\n",
       "      <th>2020-06-03</th>\n",
       "      <td>18.370001</td>\n",
       "      <td>12157442.0</td>\n",
       "      <td>8.818730</td>\n",
       "      <td>7.868468</td>\n",
       "      <td>19.400000</td>\n",
       "      <td>NaN</td>\n",
       "    </tr>\n",
       "    <tr>\n",
       "      <th>2020-06-04</th>\n",
       "      <td>19.420000</td>\n",
       "      <td>15276733.0</td>\n",
       "      <td>6.951598</td>\n",
       "      <td>1.835346</td>\n",
       "      <td>18.540001</td>\n",
       "      <td>NaN</td>\n",
       "    </tr>\n",
       "    <tr>\n",
       "      <th>2020-06-05</th>\n",
       "      <td>20.290001</td>\n",
       "      <td>19742537.0</td>\n",
       "      <td>12.567763</td>\n",
       "      <td>-7.520509</td>\n",
       "      <td>NaN</td>\n",
       "      <td>NaN</td>\n",
       "    </tr>\n",
       "    <tr>\n",
       "      <th>2020-06-08</th>\n",
       "      <td>23.389999</td>\n",
       "      <td>16674725.0</td>\n",
       "      <td>10.688329</td>\n",
       "      <td>6.803652</td>\n",
       "      <td>NaN</td>\n",
       "      <td>NaN</td>\n",
       "    </tr>\n",
       "    <tr>\n",
       "      <th>2020-06-09</th>\n",
       "      <td>21.010000</td>\n",
       "      <td>14740665.0</td>\n",
       "      <td>8.186584</td>\n",
       "      <td>-5.573033</td>\n",
       "      <td>NaN</td>\n",
       "      <td>NaN</td>\n",
       "    </tr>\n",
       "    <tr>\n",
       "      <th>2020-06-10</th>\n",
       "      <td>19.510000</td>\n",
       "      <td>12646157.0</td>\n",
       "      <td>8.559713</td>\n",
       "      <td>-4.829267</td>\n",
       "      <td>NaN</td>\n",
       "      <td>NaN</td>\n",
       "    </tr>\n",
       "    <tr>\n",
       "      <th>2020-06-11</th>\n",
       "      <td>17.850000</td>\n",
       "      <td>12470911.0</td>\n",
       "      <td>9.971992</td>\n",
       "      <td>2.000002</td>\n",
       "      <td>NaN</td>\n",
       "      <td>NaN</td>\n",
       "    </tr>\n",
       "    <tr>\n",
       "      <th>2020-06-12</th>\n",
       "      <td>19.400000</td>\n",
       "      <td>14378888.0</td>\n",
       "      <td>7.628864</td>\n",
       "      <td>0.258394</td>\n",
       "      <td>NaN</td>\n",
       "      <td>NaN</td>\n",
       "    </tr>\n",
       "    <tr>\n",
       "      <th>2020-06-15</th>\n",
       "      <td>18.540001</td>\n",
       "      <td>10437549.0</td>\n",
       "      <td>6.364618</td>\n",
       "      <td>-4.186044</td>\n",
       "      <td>NaN</td>\n",
       "      <td>NaN</td>\n",
       "    </tr>\n",
       "    <tr>\n",
       "      <th>2020-06-16</th>\n",
       "      <td>NaN</td>\n",
       "      <td>NaN</td>\n",
       "      <td>NaN</td>\n",
       "      <td>NaN</td>\n",
       "      <td>NaN</td>\n",
       "      <td>18.36850</td>\n",
       "    </tr>\n",
       "    <tr>\n",
       "      <th>2020-06-17</th>\n",
       "      <td>NaN</td>\n",
       "      <td>NaN</td>\n",
       "      <td>NaN</td>\n",
       "      <td>NaN</td>\n",
       "      <td>NaN</td>\n",
       "      <td>19.05010</td>\n",
       "    </tr>\n",
       "    <tr>\n",
       "      <th>2020-06-18</th>\n",
       "      <td>NaN</td>\n",
       "      <td>NaN</td>\n",
       "      <td>NaN</td>\n",
       "      <td>NaN</td>\n",
       "      <td>NaN</td>\n",
       "      <td>19.10795</td>\n",
       "    </tr>\n",
       "    <tr>\n",
       "      <th>2020-06-19</th>\n",
       "      <td>NaN</td>\n",
       "      <td>NaN</td>\n",
       "      <td>NaN</td>\n",
       "      <td>NaN</td>\n",
       "      <td>NaN</td>\n",
       "      <td>19.05090</td>\n",
       "    </tr>\n",
       "    <tr>\n",
       "      <th>2020-06-20</th>\n",
       "      <td>NaN</td>\n",
       "      <td>NaN</td>\n",
       "      <td>NaN</td>\n",
       "      <td>NaN</td>\n",
       "      <td>NaN</td>\n",
       "      <td>19.07450</td>\n",
       "    </tr>\n",
       "    <tr>\n",
       "      <th>2020-06-21</th>\n",
       "      <td>NaN</td>\n",
       "      <td>NaN</td>\n",
       "      <td>NaN</td>\n",
       "      <td>NaN</td>\n",
       "      <td>NaN</td>\n",
       "      <td>18.83435</td>\n",
       "    </tr>\n",
       "    <tr>\n",
       "      <th>2020-06-22</th>\n",
       "      <td>NaN</td>\n",
       "      <td>NaN</td>\n",
       "      <td>NaN</td>\n",
       "      <td>NaN</td>\n",
       "      <td>NaN</td>\n",
       "      <td>19.00405</td>\n",
       "    </tr>\n",
       "  </tbody>\n",
       "</table>\n",
       "</div>"
      ],
      "text/plain": [
       "            Adj Close      Volume     HL_PCT  PCT_change      label  Forecast\n",
       "Date                                                                         \n",
       "2020-05-13  14.100000   7663347.0   8.723408   -6.930688  16.760000       NaN\n",
       "2020-05-14  15.220000   9154474.0  16.951379   12.076586  17.670000       NaN\n",
       "2020-05-15  14.620000   5179280.0   5.335156   -3.050398  16.440001       NaN\n",
       "2020-05-19  16.730000   8682412.0   8.368204    4.562497  16.000000       NaN\n",
       "2020-05-20  17.010000   5323363.0   3.527339   -0.758455  15.900000       NaN\n",
       "2020-05-21  16.980000   3677971.0   6.478212    1.011303  16.410000       NaN\n",
       "2020-05-22  16.709999   3572428.0   4.009576   -1.415939  16.690001       NaN\n",
       "2020-05-25  16.760000   2423418.0   3.221962   -1.411763  18.370001       NaN\n",
       "2020-05-26  17.670000   7371951.0   6.112054    2.792318  19.420000       NaN\n",
       "2020-05-27  16.440001  17431970.0  11.253043   -7.380279  20.290001       NaN\n",
       "2020-05-28  16.000000  11509385.0   5.125004   -4.191621  23.389999       NaN\n",
       "2020-05-29  15.900000   7199432.0   2.830188    0.125941  21.010000       NaN\n",
       "2020-06-01  16.410000   6367971.0   5.850092    2.626642  19.510000       NaN\n",
       "2020-06-02  16.690001   6789759.0   2.276807   -0.059882  17.850000       NaN\n",
       "2020-06-03  18.370001  12157442.0   8.818730    7.868468  19.400000       NaN\n",
       "2020-06-04  19.420000  15276733.0   6.951598    1.835346  18.540001       NaN\n",
       "2020-06-05  20.290001  19742537.0  12.567763   -7.520509        NaN       NaN\n",
       "2020-06-08  23.389999  16674725.0  10.688329    6.803652        NaN       NaN\n",
       "2020-06-09  21.010000  14740665.0   8.186584   -5.573033        NaN       NaN\n",
       "2020-06-10  19.510000  12646157.0   8.559713   -4.829267        NaN       NaN\n",
       "2020-06-11  17.850000  12470911.0   9.971992    2.000002        NaN       NaN\n",
       "2020-06-12  19.400000  14378888.0   7.628864    0.258394        NaN       NaN\n",
       "2020-06-15  18.540001  10437549.0   6.364618   -4.186044        NaN       NaN\n",
       "2020-06-16        NaN         NaN        NaN         NaN        NaN  18.36850\n",
       "2020-06-17        NaN         NaN        NaN         NaN        NaN  19.05010\n",
       "2020-06-18        NaN         NaN        NaN         NaN        NaN  19.10795\n",
       "2020-06-19        NaN         NaN        NaN         NaN        NaN  19.05090\n",
       "2020-06-20        NaN         NaN        NaN         NaN        NaN  19.07450\n",
       "2020-06-21        NaN         NaN        NaN         NaN        NaN  18.83435\n",
       "2020-06-22        NaN         NaN        NaN         NaN        NaN  19.00405"
      ]
     },
     "execution_count": 37,
     "metadata": {},
     "output_type": "execute_result"
    }
   ],
   "source": [
    "tail = dfreg.tail(30)\n",
    "# dfreg.to_csv(x)\n",
    "tail"
   ]
  },
  {
   "cell_type": "code",
   "execution_count": 38,
   "metadata": {},
   "outputs": [],
   "source": [
    "# df.to_csv(x)"
   ]
  },
  {
   "cell_type": "code",
   "execution_count": 39,
   "metadata": {},
   "outputs": [
    {
     "data": {
      "text/html": [
       "<div>\n",
       "<style scoped>\n",
       "    .dataframe tbody tr th:only-of-type {\n",
       "        vertical-align: middle;\n",
       "    }\n",
       "\n",
       "    .dataframe tbody tr th {\n",
       "        vertical-align: top;\n",
       "    }\n",
       "\n",
       "    .dataframe thead th {\n",
       "        text-align: right;\n",
       "    }\n",
       "</style>\n",
       "<table border=\"1\" class=\"dataframe\">\n",
       "  <thead>\n",
       "    <tr style=\"text-align: right;\">\n",
       "      <th></th>\n",
       "      <th>Value</th>\n",
       "    </tr>\n",
       "    <tr>\n",
       "      <th>Date</th>\n",
       "      <th></th>\n",
       "    </tr>\n",
       "  </thead>\n",
       "  <tbody>\n",
       "    <tr>\n",
       "      <th>2020-06-02</th>\n",
       "      <td>37.72</td>\n",
       "    </tr>\n",
       "    <tr>\n",
       "      <th>2020-06-03</th>\n",
       "      <td>37.98</td>\n",
       "    </tr>\n",
       "    <tr>\n",
       "      <th>2020-06-04</th>\n",
       "      <td>38.41</td>\n",
       "    </tr>\n",
       "    <tr>\n",
       "      <th>2020-06-05</th>\n",
       "      <td>41.00</td>\n",
       "    </tr>\n",
       "    <tr>\n",
       "      <th>2020-06-08</th>\n",
       "      <td>39.66</td>\n",
       "    </tr>\n",
       "  </tbody>\n",
       "</table>\n",
       "</div>"
      ],
      "text/plain": [
       "            Value\n",
       "Date             \n",
       "2020-06-02  37.72\n",
       "2020-06-03  37.98\n",
       "2020-06-04  38.41\n",
       "2020-06-05  41.00\n",
       "2020-06-08  39.66"
      ]
     },
     "execution_count": 39,
     "metadata": {},
     "output_type": "execute_result"
    }
   ],
   "source": [
    "oil = quandl.get(\"FRED/DCOILBRENTEU\", authtoken='BMrYvzu7Vgow_zBBTE_k')\n",
    "oil.tail()"
   ]
  },
  {
   "cell_type": "code",
   "execution_count": 40,
   "metadata": {},
   "outputs": [],
   "source": [
    "start = '2019-1-1'\n",
    "# end = '2020-3-30'"
   ]
  },
  {
   "cell_type": "code",
   "execution_count": 41,
   "metadata": {},
   "outputs": [],
   "source": [
    "usd = web.DataReader(['AC.TO', 'CAD=X'],\n",
    "                        'yahoo', start=start, end=end)['Adj Close']"
   ]
  },
  {
   "cell_type": "code",
   "execution_count": 42,
   "metadata": {},
   "outputs": [
    {
     "data": {
      "text/html": [
       "<div>\n",
       "<style scoped>\n",
       "    .dataframe tbody tr th:only-of-type {\n",
       "        vertical-align: middle;\n",
       "    }\n",
       "\n",
       "    .dataframe tbody tr th {\n",
       "        vertical-align: top;\n",
       "    }\n",
       "\n",
       "    .dataframe thead th {\n",
       "        text-align: right;\n",
       "    }\n",
       "</style>\n",
       "<table border=\"1\" class=\"dataframe\">\n",
       "  <thead>\n",
       "    <tr style=\"text-align: right;\">\n",
       "      <th>Symbols</th>\n",
       "      <th>AC.TO</th>\n",
       "      <th>CAD=X</th>\n",
       "    </tr>\n",
       "    <tr>\n",
       "      <th>Symbols</th>\n",
       "      <th></th>\n",
       "      <th></th>\n",
       "    </tr>\n",
       "  </thead>\n",
       "  <tbody>\n",
       "    <tr>\n",
       "      <th>AC.TO</th>\n",
       "      <td>1.000000</td>\n",
       "      <td>-0.224377</td>\n",
       "    </tr>\n",
       "    <tr>\n",
       "      <th>CAD=X</th>\n",
       "      <td>-0.224377</td>\n",
       "      <td>1.000000</td>\n",
       "    </tr>\n",
       "  </tbody>\n",
       "</table>\n",
       "</div>"
      ],
      "text/plain": [
       "Symbols     AC.TO     CAD=X\n",
       "Symbols                    \n",
       "AC.TO    1.000000 -0.224377\n",
       "CAD=X   -0.224377  1.000000"
      ]
     },
     "execution_count": 42,
     "metadata": {},
     "output_type": "execute_result"
    }
   ],
   "source": [
    "usd = usd.pct_change()\n",
    "corr_usd = usd.corr()\n",
    "corr_usd"
   ]
  },
  {
   "cell_type": "code",
   "execution_count": 43,
   "metadata": {},
   "outputs": [
    {
     "data": {
      "text/html": [
       "<div>\n",
       "<style scoped>\n",
       "    .dataframe tbody tr th:only-of-type {\n",
       "        vertical-align: middle;\n",
       "    }\n",
       "\n",
       "    .dataframe tbody tr th {\n",
       "        vertical-align: top;\n",
       "    }\n",
       "\n",
       "    .dataframe thead th {\n",
       "        text-align: right;\n",
       "    }\n",
       "</style>\n",
       "<table border=\"1\" class=\"dataframe\">\n",
       "  <thead>\n",
       "    <tr style=\"text-align: right;\">\n",
       "      <th></th>\n",
       "      <th>High</th>\n",
       "      <th>Low</th>\n",
       "      <th>Open</th>\n",
       "      <th>Close</th>\n",
       "      <th>Volume</th>\n",
       "      <th>Adj Close</th>\n",
       "    </tr>\n",
       "    <tr>\n",
       "      <th>Date</th>\n",
       "      <th></th>\n",
       "      <th></th>\n",
       "      <th></th>\n",
       "      <th></th>\n",
       "      <th></th>\n",
       "      <th></th>\n",
       "    </tr>\n",
       "  </thead>\n",
       "  <tbody>\n",
       "    <tr>\n",
       "      <th>2020-06-09</th>\n",
       "      <td>22.280001</td>\n",
       "      <td>20.559999</td>\n",
       "      <td>22.25</td>\n",
       "      <td>21.010000</td>\n",
       "      <td>14740665</td>\n",
       "      <td>21.010000</td>\n",
       "    </tr>\n",
       "    <tr>\n",
       "      <th>2020-06-10</th>\n",
       "      <td>20.680000</td>\n",
       "      <td>19.010000</td>\n",
       "      <td>20.50</td>\n",
       "      <td>19.510000</td>\n",
       "      <td>12646157</td>\n",
       "      <td>19.510000</td>\n",
       "    </tr>\n",
       "    <tr>\n",
       "      <th>2020-06-11</th>\n",
       "      <td>18.830000</td>\n",
       "      <td>17.049999</td>\n",
       "      <td>17.50</td>\n",
       "      <td>17.850000</td>\n",
       "      <td>12470911</td>\n",
       "      <td>17.850000</td>\n",
       "    </tr>\n",
       "    <tr>\n",
       "      <th>2020-06-12</th>\n",
       "      <td>19.639999</td>\n",
       "      <td>18.160000</td>\n",
       "      <td>19.35</td>\n",
       "      <td>19.400000</td>\n",
       "      <td>14378888</td>\n",
       "      <td>19.400000</td>\n",
       "    </tr>\n",
       "    <tr>\n",
       "      <th>2020-06-15</th>\n",
       "      <td>19.280001</td>\n",
       "      <td>18.100000</td>\n",
       "      <td>19.35</td>\n",
       "      <td>18.540001</td>\n",
       "      <td>10437549</td>\n",
       "      <td>18.540001</td>\n",
       "    </tr>\n",
       "  </tbody>\n",
       "</table>\n",
       "</div>"
      ],
      "text/plain": [
       "                 High        Low   Open      Close    Volume  Adj Close\n",
       "Date                                                                   \n",
       "2020-06-09  22.280001  20.559999  22.25  21.010000  14740665  21.010000\n",
       "2020-06-10  20.680000  19.010000  20.50  19.510000  12646157  19.510000\n",
       "2020-06-11  18.830000  17.049999  17.50  17.850000  12470911  17.850000\n",
       "2020-06-12  19.639999  18.160000  19.35  19.400000  14378888  19.400000\n",
       "2020-06-15  19.280001  18.100000  19.35  18.540001  10437549  18.540001"
      ]
     },
     "execution_count": 43,
     "metadata": {},
     "output_type": "execute_result"
    }
   ],
   "source": [
    "USD_CAD = web.DataReader('CAD=X', 'yahoo', start , end)\n",
    "df.tail()"
   ]
  },
  {
   "cell_type": "code",
   "execution_count": null,
   "metadata": {},
   "outputs": [],
   "source": []
  },
  {
   "cell_type": "code",
   "execution_count": null,
   "metadata": {},
   "outputs": [],
   "source": []
  },
  {
   "cell_type": "code",
   "execution_count": 44,
   "metadata": {},
   "outputs": [
    {
     "name": "stderr",
     "output_type": "stream",
     "text": [
      "C:\\Users\\hanif\\Anaconda3\\lib\\site-packages\\pandas_datareader\\base.py:270: SymbolWarning: Failed to read symbol: 'WJA.TO', replacing with NaN.\n",
      "  warnings.warn(msg.format(sym), SymbolWarning)\n"
     ]
    }
   ],
   "source": [
    "dfcomp2 = web.DataReader(['TRZ.TO', 'WJA.TO', 'CNI', 'EXPE', 'AAL', 'AC.TO', 'BZ=F'], \n",
    "                         'yahoo', start=start, end=end)['Adj Close']\n",
    "\n",
    "dfcomp = web.DataReader(['AC.TO', 'TRZ.TO', 'DOL.TO', 'CNR.TO', 'BB.TO', 'GOOS.TO', 'BZ=F'],\n",
    "                        'yahoo', start=start, end=end)['Adj Close']"
   ]
  },
  {
   "cell_type": "code",
   "execution_count": 45,
   "metadata": {},
   "outputs": [
    {
     "data": {
      "text/html": [
       "<div>\n",
       "<style scoped>\n",
       "    .dataframe tbody tr th:only-of-type {\n",
       "        vertical-align: middle;\n",
       "    }\n",
       "\n",
       "    .dataframe tbody tr th {\n",
       "        vertical-align: top;\n",
       "    }\n",
       "\n",
       "    .dataframe thead th {\n",
       "        text-align: right;\n",
       "    }\n",
       "</style>\n",
       "<table border=\"1\" class=\"dataframe\">\n",
       "  <thead>\n",
       "    <tr style=\"text-align: right;\">\n",
       "      <th>Symbols</th>\n",
       "      <th>TRZ.TO</th>\n",
       "      <th>CNI</th>\n",
       "      <th>EXPE</th>\n",
       "      <th>AAL</th>\n",
       "      <th>AC.TO</th>\n",
       "      <th>BZ=F</th>\n",
       "      <th>WJA.TO</th>\n",
       "    </tr>\n",
       "    <tr>\n",
       "      <th>Symbols</th>\n",
       "      <th></th>\n",
       "      <th></th>\n",
       "      <th></th>\n",
       "      <th></th>\n",
       "      <th></th>\n",
       "      <th></th>\n",
       "      <th></th>\n",
       "    </tr>\n",
       "  </thead>\n",
       "  <tbody>\n",
       "    <tr>\n",
       "      <th>TRZ.TO</th>\n",
       "      <td>1.000000</td>\n",
       "      <td>0.312982</td>\n",
       "      <td>0.332636</td>\n",
       "      <td>0.129451</td>\n",
       "      <td>0.402733</td>\n",
       "      <td>0.000292</td>\n",
       "      <td>NaN</td>\n",
       "    </tr>\n",
       "    <tr>\n",
       "      <th>CNI</th>\n",
       "      <td>0.312982</td>\n",
       "      <td>1.000000</td>\n",
       "      <td>0.545949</td>\n",
       "      <td>0.419728</td>\n",
       "      <td>0.477568</td>\n",
       "      <td>0.249997</td>\n",
       "      <td>NaN</td>\n",
       "    </tr>\n",
       "    <tr>\n",
       "      <th>EXPE</th>\n",
       "      <td>0.332636</td>\n",
       "      <td>0.545949</td>\n",
       "      <td>1.000000</td>\n",
       "      <td>0.487744</td>\n",
       "      <td>0.619674</td>\n",
       "      <td>0.179599</td>\n",
       "      <td>NaN</td>\n",
       "    </tr>\n",
       "    <tr>\n",
       "      <th>AAL</th>\n",
       "      <td>0.129451</td>\n",
       "      <td>0.419728</td>\n",
       "      <td>0.487744</td>\n",
       "      <td>1.000000</td>\n",
       "      <td>0.564155</td>\n",
       "      <td>0.045416</td>\n",
       "      <td>NaN</td>\n",
       "    </tr>\n",
       "    <tr>\n",
       "      <th>AC.TO</th>\n",
       "      <td>0.402733</td>\n",
       "      <td>0.477568</td>\n",
       "      <td>0.619674</td>\n",
       "      <td>0.564155</td>\n",
       "      <td>1.000000</td>\n",
       "      <td>0.116829</td>\n",
       "      <td>NaN</td>\n",
       "    </tr>\n",
       "    <tr>\n",
       "      <th>BZ=F</th>\n",
       "      <td>0.000292</td>\n",
       "      <td>0.249997</td>\n",
       "      <td>0.179599</td>\n",
       "      <td>0.045416</td>\n",
       "      <td>0.116829</td>\n",
       "      <td>1.000000</td>\n",
       "      <td>NaN</td>\n",
       "    </tr>\n",
       "    <tr>\n",
       "      <th>WJA.TO</th>\n",
       "      <td>NaN</td>\n",
       "      <td>NaN</td>\n",
       "      <td>NaN</td>\n",
       "      <td>NaN</td>\n",
       "      <td>NaN</td>\n",
       "      <td>NaN</td>\n",
       "      <td>NaN</td>\n",
       "    </tr>\n",
       "  </tbody>\n",
       "</table>\n",
       "</div>"
      ],
      "text/plain": [
       "Symbols    TRZ.TO       CNI      EXPE       AAL     AC.TO      BZ=F  WJA.TO\n",
       "Symbols                                                                    \n",
       "TRZ.TO   1.000000  0.312982  0.332636  0.129451  0.402733  0.000292     NaN\n",
       "CNI      0.312982  1.000000  0.545949  0.419728  0.477568  0.249997     NaN\n",
       "EXPE     0.332636  0.545949  1.000000  0.487744  0.619674  0.179599     NaN\n",
       "AAL      0.129451  0.419728  0.487744  1.000000  0.564155  0.045416     NaN\n",
       "AC.TO    0.402733  0.477568  0.619674  0.564155  1.000000  0.116829     NaN\n",
       "BZ=F     0.000292  0.249997  0.179599  0.045416  0.116829  1.000000     NaN\n",
       "WJA.TO        NaN       NaN       NaN       NaN       NaN       NaN     NaN"
      ]
     },
     "execution_count": 45,
     "metadata": {},
     "output_type": "execute_result"
    }
   ],
   "source": [
    "retscomp2 = dfcomp2.pct_change()\n",
    "corr2 = retscomp2.corr()\n",
    "corr2"
   ]
  },
  {
   "cell_type": "code",
   "execution_count": 46,
   "metadata": {},
   "outputs": [
    {
     "data": {
      "text/html": [
       "<div>\n",
       "<style scoped>\n",
       "    .dataframe tbody tr th:only-of-type {\n",
       "        vertical-align: middle;\n",
       "    }\n",
       "\n",
       "    .dataframe tbody tr th {\n",
       "        vertical-align: top;\n",
       "    }\n",
       "\n",
       "    .dataframe thead th {\n",
       "        text-align: right;\n",
       "    }\n",
       "</style>\n",
       "<table border=\"1\" class=\"dataframe\">\n",
       "  <thead>\n",
       "    <tr style=\"text-align: right;\">\n",
       "      <th>Symbols</th>\n",
       "      <th>AC.TO</th>\n",
       "      <th>TRZ.TO</th>\n",
       "      <th>DOL.TO</th>\n",
       "      <th>CNR.TO</th>\n",
       "      <th>BB.TO</th>\n",
       "      <th>GOOS.TO</th>\n",
       "      <th>BZ=F</th>\n",
       "    </tr>\n",
       "    <tr>\n",
       "      <th>Date</th>\n",
       "      <th></th>\n",
       "      <th></th>\n",
       "      <th></th>\n",
       "      <th></th>\n",
       "      <th></th>\n",
       "      <th></th>\n",
       "      <th></th>\n",
       "    </tr>\n",
       "  </thead>\n",
       "  <tbody>\n",
       "    <tr>\n",
       "      <th>2020-06-10</th>\n",
       "      <td>19.510000</td>\n",
       "      <td>6.11</td>\n",
       "      <td>48.020000</td>\n",
       "      <td>121.910004</td>\n",
       "      <td>7.48</td>\n",
       "      <td>32.750000</td>\n",
       "      <td>40.900002</td>\n",
       "    </tr>\n",
       "    <tr>\n",
       "      <th>2020-06-11</th>\n",
       "      <td>17.850000</td>\n",
       "      <td>6.47</td>\n",
       "      <td>46.980000</td>\n",
       "      <td>118.059998</td>\n",
       "      <td>6.88</td>\n",
       "      <td>30.690001</td>\n",
       "      <td>37.910000</td>\n",
       "    </tr>\n",
       "    <tr>\n",
       "      <th>2020-06-12</th>\n",
       "      <td>19.400000</td>\n",
       "      <td>6.52</td>\n",
       "      <td>47.900002</td>\n",
       "      <td>119.519997</td>\n",
       "      <td>7.14</td>\n",
       "      <td>31.200001</td>\n",
       "      <td>38.930000</td>\n",
       "    </tr>\n",
       "    <tr>\n",
       "      <th>2020-06-14</th>\n",
       "      <td>NaN</td>\n",
       "      <td>NaN</td>\n",
       "      <td>NaN</td>\n",
       "      <td>NaN</td>\n",
       "      <td>NaN</td>\n",
       "      <td>NaN</td>\n",
       "      <td>38.299999</td>\n",
       "    </tr>\n",
       "    <tr>\n",
       "      <th>2020-06-15</th>\n",
       "      <td>18.540001</td>\n",
       "      <td>6.42</td>\n",
       "      <td>47.040001</td>\n",
       "      <td>119.000000</td>\n",
       "      <td>6.76</td>\n",
       "      <td>31.709999</td>\n",
       "      <td>39.939999</td>\n",
       "    </tr>\n",
       "  </tbody>\n",
       "</table>\n",
       "</div>"
      ],
      "text/plain": [
       "Symbols         AC.TO  TRZ.TO     DOL.TO      CNR.TO  BB.TO    GOOS.TO  \\\n",
       "Date                                                                     \n",
       "2020-06-10  19.510000    6.11  48.020000  121.910004   7.48  32.750000   \n",
       "2020-06-11  17.850000    6.47  46.980000  118.059998   6.88  30.690001   \n",
       "2020-06-12  19.400000    6.52  47.900002  119.519997   7.14  31.200001   \n",
       "2020-06-14        NaN     NaN        NaN         NaN    NaN        NaN   \n",
       "2020-06-15  18.540001    6.42  47.040001  119.000000   6.76  31.709999   \n",
       "\n",
       "Symbols          BZ=F  \n",
       "Date                   \n",
       "2020-06-10  40.900002  \n",
       "2020-06-11  37.910000  \n",
       "2020-06-12  38.930000  \n",
       "2020-06-14  38.299999  \n",
       "2020-06-15  39.939999  "
      ]
     },
     "execution_count": 46,
     "metadata": {},
     "output_type": "execute_result"
    }
   ],
   "source": [
    "dfcomp.tail()"
   ]
  },
  {
   "cell_type": "code",
   "execution_count": 47,
   "metadata": {},
   "outputs": [
    {
     "data": {
      "text/html": [
       "<div>\n",
       "<style scoped>\n",
       "    .dataframe tbody tr th:only-of-type {\n",
       "        vertical-align: middle;\n",
       "    }\n",
       "\n",
       "    .dataframe tbody tr th {\n",
       "        vertical-align: top;\n",
       "    }\n",
       "\n",
       "    .dataframe thead th {\n",
       "        text-align: right;\n",
       "    }\n",
       "</style>\n",
       "<table border=\"1\" class=\"dataframe\">\n",
       "  <thead>\n",
       "    <tr style=\"text-align: right;\">\n",
       "      <th>Symbols</th>\n",
       "      <th>AC.TO</th>\n",
       "      <th>TRZ.TO</th>\n",
       "      <th>DOL.TO</th>\n",
       "      <th>CNR.TO</th>\n",
       "      <th>BB.TO</th>\n",
       "      <th>GOOS.TO</th>\n",
       "      <th>BZ=F</th>\n",
       "    </tr>\n",
       "    <tr>\n",
       "      <th>Symbols</th>\n",
       "      <th></th>\n",
       "      <th></th>\n",
       "      <th></th>\n",
       "      <th></th>\n",
       "      <th></th>\n",
       "      <th></th>\n",
       "      <th></th>\n",
       "    </tr>\n",
       "  </thead>\n",
       "  <tbody>\n",
       "    <tr>\n",
       "      <th>AC.TO</th>\n",
       "      <td>1.000000</td>\n",
       "      <td>0.402736</td>\n",
       "      <td>0.319621</td>\n",
       "      <td>0.432754</td>\n",
       "      <td>0.344158</td>\n",
       "      <td>0.406191</td>\n",
       "      <td>0.096901</td>\n",
       "    </tr>\n",
       "    <tr>\n",
       "      <th>TRZ.TO</th>\n",
       "      <td>0.402736</td>\n",
       "      <td>1.000000</td>\n",
       "      <td>0.180619</td>\n",
       "      <td>0.285052</td>\n",
       "      <td>0.251618</td>\n",
       "      <td>0.172381</td>\n",
       "      <td>-0.019564</td>\n",
       "    </tr>\n",
       "    <tr>\n",
       "      <th>DOL.TO</th>\n",
       "      <td>0.319621</td>\n",
       "      <td>0.180619</td>\n",
       "      <td>1.000000</td>\n",
       "      <td>0.454477</td>\n",
       "      <td>0.211033</td>\n",
       "      <td>0.316181</td>\n",
       "      <td>0.069022</td>\n",
       "    </tr>\n",
       "    <tr>\n",
       "      <th>CNR.TO</th>\n",
       "      <td>0.432754</td>\n",
       "      <td>0.285052</td>\n",
       "      <td>0.454477</td>\n",
       "      <td>1.000000</td>\n",
       "      <td>0.482462</td>\n",
       "      <td>0.506335</td>\n",
       "      <td>0.178539</td>\n",
       "    </tr>\n",
       "    <tr>\n",
       "      <th>BB.TO</th>\n",
       "      <td>0.344158</td>\n",
       "      <td>0.251618</td>\n",
       "      <td>0.211033</td>\n",
       "      <td>0.482462</td>\n",
       "      <td>1.000000</td>\n",
       "      <td>0.333119</td>\n",
       "      <td>0.195049</td>\n",
       "    </tr>\n",
       "    <tr>\n",
       "      <th>GOOS.TO</th>\n",
       "      <td>0.406191</td>\n",
       "      <td>0.172381</td>\n",
       "      <td>0.316181</td>\n",
       "      <td>0.506335</td>\n",
       "      <td>0.333119</td>\n",
       "      <td>1.000000</td>\n",
       "      <td>0.061211</td>\n",
       "    </tr>\n",
       "    <tr>\n",
       "      <th>BZ=F</th>\n",
       "      <td>0.096901</td>\n",
       "      <td>-0.019564</td>\n",
       "      <td>0.069022</td>\n",
       "      <td>0.178539</td>\n",
       "      <td>0.195049</td>\n",
       "      <td>0.061211</td>\n",
       "      <td>1.000000</td>\n",
       "    </tr>\n",
       "  </tbody>\n",
       "</table>\n",
       "</div>"
      ],
      "text/plain": [
       "Symbols     AC.TO    TRZ.TO    DOL.TO    CNR.TO     BB.TO   GOOS.TO      BZ=F\n",
       "Symbols                                                                      \n",
       "AC.TO    1.000000  0.402736  0.319621  0.432754  0.344158  0.406191  0.096901\n",
       "TRZ.TO   0.402736  1.000000  0.180619  0.285052  0.251618  0.172381 -0.019564\n",
       "DOL.TO   0.319621  0.180619  1.000000  0.454477  0.211033  0.316181  0.069022\n",
       "CNR.TO   0.432754  0.285052  0.454477  1.000000  0.482462  0.506335  0.178539\n",
       "BB.TO    0.344158  0.251618  0.211033  0.482462  1.000000  0.333119  0.195049\n",
       "GOOS.TO  0.406191  0.172381  0.316181  0.506335  0.333119  1.000000  0.061211\n",
       "BZ=F     0.096901 -0.019564  0.069022  0.178539  0.195049  0.061211  1.000000"
      ]
     },
     "execution_count": 47,
     "metadata": {},
     "output_type": "execute_result"
    }
   ],
   "source": [
    "retscomp = dfcomp.pct_change()\n",
    "corr = retscomp.corr()\n",
    "corr"
   ]
  },
  {
   "cell_type": "code",
   "execution_count": 48,
   "metadata": {},
   "outputs": [
    {
     "data": {
      "text/html": [
       "<div>\n",
       "<style scoped>\n",
       "    .dataframe tbody tr th:only-of-type {\n",
       "        vertical-align: middle;\n",
       "    }\n",
       "\n",
       "    .dataframe tbody tr th {\n",
       "        vertical-align: top;\n",
       "    }\n",
       "\n",
       "    .dataframe thead th {\n",
       "        text-align: right;\n",
       "    }\n",
       "</style>\n",
       "<table border=\"1\" class=\"dataframe\">\n",
       "  <thead>\n",
       "    <tr style=\"text-align: right;\">\n",
       "      <th>Symbols</th>\n",
       "      <th>AC.TO</th>\n",
       "    </tr>\n",
       "    <tr>\n",
       "      <th>Symbols</th>\n",
       "      <th></th>\n",
       "    </tr>\n",
       "  </thead>\n",
       "  <tbody>\n",
       "    <tr>\n",
       "      <th>AC.TO</th>\n",
       "      <td>1.000000</td>\n",
       "    </tr>\n",
       "    <tr>\n",
       "      <th>TRZ.TO</th>\n",
       "      <td>0.402736</td>\n",
       "    </tr>\n",
       "    <tr>\n",
       "      <th>DOL.TO</th>\n",
       "      <td>0.319621</td>\n",
       "    </tr>\n",
       "    <tr>\n",
       "      <th>CNR.TO</th>\n",
       "      <td>0.432754</td>\n",
       "    </tr>\n",
       "    <tr>\n",
       "      <th>BB.TO</th>\n",
       "      <td>0.344158</td>\n",
       "    </tr>\n",
       "    <tr>\n",
       "      <th>GOOS.TO</th>\n",
       "      <td>0.406191</td>\n",
       "    </tr>\n",
       "    <tr>\n",
       "      <th>BZ=F</th>\n",
       "      <td>0.096901</td>\n",
       "    </tr>\n",
       "  </tbody>\n",
       "</table>\n",
       "</div>"
      ],
      "text/plain": [
       "Symbols     AC.TO\n",
       "Symbols          \n",
       "AC.TO    1.000000\n",
       "TRZ.TO   0.402736\n",
       "DOL.TO   0.319621\n",
       "CNR.TO   0.432754\n",
       "BB.TO    0.344158\n",
       "GOOS.TO  0.406191\n",
       "BZ=F     0.096901"
      ]
     },
     "execution_count": 48,
     "metadata": {},
     "output_type": "execute_result"
    }
   ],
   "source": [
    "corr[['AC.TO']]"
   ]
  },
  {
   "cell_type": "code",
   "execution_count": 49,
   "metadata": {},
   "outputs": [
    {
     "data": {
      "text/plain": [
       "<matplotlib.collections.PathCollection at 0x1d2af6e98d0>"
      ]
     },
     "execution_count": 49,
     "metadata": {},
     "output_type": "execute_result"
    },
    {
     "data": {
      "image/png": "[encoded data removed]",
      "text/plain": [
       "<Figure size 720x504 with 1 Axes>"
      ]
     },
     "metadata": {},
     "output_type": "display_data"
    }
   ],
   "source": [
    "plt.scatter(retscomp['TRZ.TO'], retscomp['DOL.TO'], c='b')"
   ]
  },
  {
   "cell_type": "code",
   "execution_count": 50,
   "metadata": {},
   "outputs": [
    {
     "data": {
      "text/plain": [
       "<matplotlib.collections.PathCollection at 0x1d2af5f9208>"
      ]
     },
     "execution_count": 50,
     "metadata": {},
     "output_type": "execute_result"
    },
    {
     "data": {
      "image/png": "[encoded data removed]",
      "text/plain": [
       "<Figure size 720x504 with 1 Axes>"
      ]
     },
     "metadata": {},
     "output_type": "display_data"
    }
   ],
   "source": [
    "plt.scatter(retscomp['BB.TO'], retscomp['GOOS.TO'], c='b')"
   ]
  },
  {
   "cell_type": "code",
   "execution_count": 51,
   "metadata": {},
   "outputs": [
    {
     "data": {
      "text/plain": [
       "<matplotlib.collections.PathCollection at 0x1d2af698780>"
      ]
     },
     "execution_count": 51,
     "metadata": {},
     "output_type": "execute_result"
    },
    {
     "data": {
      "image/png": "[encoded data removed]",
      "text/plain": [
       "<Figure size 720x504 with 1 Axes>"
      ]
     },
     "metadata": {},
     "output_type": "display_data"
    }
   ],
   "source": [
    "plt.scatter(retscomp['CNR.TO'], retscomp['GOOS.TO'], c='b')"
   ]
  },
  {
   "cell_type": "code",
   "execution_count": 52,
   "metadata": {},
   "outputs": [
    {
     "data": {
      "image/png": "[encoded data removed]",
      "text/plain": [
       "<Figure size 720x720 with 49 Axes>"
      ]
     },
     "metadata": {},
     "output_type": "display_data"
    }
   ],
   "source": [
    "from pandas import plotting\n",
    "plotting.scatter_matrix(retscomp, diagonal='kde', figsize=(10, 10));"
   ]
  },
  {
   "cell_type": "code",
   "execution_count": 53,
   "metadata": {},
   "outputs": [
    {
     "data": {
      "image/png": "[encoded data removed]",
      "text/plain": [
       "<Figure size 720x504 with 2 Axes>"
      ]
     },
     "metadata": {},
     "output_type": "display_data"
    }
   ],
   "source": [
    "plt.imshow(corr, cmap='hot', interpolation='none')\n",
    "plt.colorbar()\n",
    "plt.xticks(range(len(corr)), corr.columns)\n",
    "plt.yticks(range(len(corr)), corr.columns);"
   ]
  },
  {
   "cell_type": "code",
   "execution_count": 54,
   "metadata": {},
   "outputs": [
    {
     "data": {
      "image/png": "[encoded data removed]",
      "text/plain": [
       "<Figure size 720x504 with 1 Axes>"
      ]
     },
     "metadata": {},
     "output_type": "display_data"
    }
   ],
   "source": [
    "plt.scatter(retscomp.mean(), retscomp.std())\n",
    "plt.xlabel('Expected returns')\n",
    "plt.ylabel('Risk')\n",
    "for label, x, y in zip(retscomp.columns, retscomp.mean(), retscomp.std()):\n",
    "    plt.annotate(\n",
    "        label, \n",
    "        xy = (x, y), xytext = (20, -20),\n",
    "        textcoords = 'offset points', ha = 'right', va = 'bottom',\n",
    "        bbox = dict(boxstyle = 'round,pad=0.5', fc = 'yellow', alpha = 0.5),\n",
    "        arrowprops = dict(arrowstyle = '->', connectionstyle = 'arc3,rad=0'))"
   ]
  },
  {
   "cell_type": "code",
   "execution_count": 55,
   "metadata": {},
   "outputs": [
    {
     "name": "stderr",
     "output_type": "stream",
     "text": [
      "\n"
     ]
    }
   ],
   "source": [
    "!curl -o time_corona.csv https://raw.githubusercontent.com/datasets/covid-19/master/data/time-series-19-covid-combined.csv?accessType=DOWNLOAD"
   ]
  },
  {
   "cell_type": "code",
   "execution_count": 56,
   "metadata": {},
   "outputs": [
    {
     "data": {
      "text/html": [
       "<div>\n",
       "<style scoped>\n",
       "    .dataframe tbody tr th:only-of-type {\n",
       "        vertical-align: middle;\n",
       "    }\n",
       "\n",
       "    .dataframe tbody tr th {\n",
       "        vertical-align: top;\n",
       "    }\n",
       "\n",
       "    .dataframe thead th {\n",
       "        text-align: right;\n",
       "    }\n",
       "</style>\n",
       "<table border=\"1\" class=\"dataframe\">\n",
       "  <thead>\n",
       "    <tr style=\"text-align: right;\">\n",
       "      <th></th>\n",
       "      <th>Date</th>\n",
       "      <th>Country/Region</th>\n",
       "      <th>Province/State</th>\n",
       "      <th>Lat</th>\n",
       "      <th>Long</th>\n",
       "      <th>Confirmed</th>\n",
       "      <th>Recovered</th>\n",
       "      <th>Deaths</th>\n",
       "    </tr>\n",
       "  </thead>\n",
       "  <tbody>\n",
       "    <tr>\n",
       "      <th>0</th>\n",
       "      <td>2020-01-22</td>\n",
       "      <td>Afghanistan</td>\n",
       "      <td>NaN</td>\n",
       "      <td>33.0</td>\n",
       "      <td>65.0</td>\n",
       "      <td>0.0</td>\n",
       "      <td>0.0</td>\n",
       "      <td>0.0</td>\n",
       "    </tr>\n",
       "    <tr>\n",
       "      <th>1</th>\n",
       "      <td>2020-01-23</td>\n",
       "      <td>Afghanistan</td>\n",
       "      <td>NaN</td>\n",
       "      <td>33.0</td>\n",
       "      <td>65.0</td>\n",
       "      <td>0.0</td>\n",
       "      <td>0.0</td>\n",
       "      <td>0.0</td>\n",
       "    </tr>\n",
       "    <tr>\n",
       "      <th>2</th>\n",
       "      <td>2020-01-24</td>\n",
       "      <td>Afghanistan</td>\n",
       "      <td>NaN</td>\n",
       "      <td>33.0</td>\n",
       "      <td>65.0</td>\n",
       "      <td>0.0</td>\n",
       "      <td>0.0</td>\n",
       "      <td>0.0</td>\n",
       "    </tr>\n",
       "    <tr>\n",
       "      <th>3</th>\n",
       "      <td>2020-01-25</td>\n",
       "      <td>Afghanistan</td>\n",
       "      <td>NaN</td>\n",
       "      <td>33.0</td>\n",
       "      <td>65.0</td>\n",
       "      <td>0.0</td>\n",
       "      <td>0.0</td>\n",
       "      <td>0.0</td>\n",
       "    </tr>\n",
       "    <tr>\n",
       "      <th>4</th>\n",
       "      <td>2020-01-26</td>\n",
       "      <td>Afghanistan</td>\n",
       "      <td>NaN</td>\n",
       "      <td>33.0</td>\n",
       "      <td>65.0</td>\n",
       "      <td>0.0</td>\n",
       "      <td>0.0</td>\n",
       "      <td>0.0</td>\n",
       "    </tr>\n",
       "  </tbody>\n",
       "</table>\n",
       "</div>"
      ],
      "text/plain": [
       "         Date Country/Region Province/State   Lat  Long  Confirmed  Recovered  \\\n",
       "0  2020-01-22    Afghanistan            NaN  33.0  65.0        0.0        0.0   \n",
       "1  2020-01-23    Afghanistan            NaN  33.0  65.0        0.0        0.0   \n",
       "2  2020-01-24    Afghanistan            NaN  33.0  65.0        0.0        0.0   \n",
       "3  2020-01-25    Afghanistan            NaN  33.0  65.0        0.0        0.0   \n",
       "4  2020-01-26    Afghanistan            NaN  33.0  65.0        0.0        0.0   \n",
       "\n",
       "   Deaths  \n",
       "0     0.0  \n",
       "1     0.0  \n",
       "2     0.0  \n",
       "3     0.0  \n",
       "4     0.0  "
      ]
     },
     "execution_count": 56,
     "metadata": {},
     "output_type": "execute_result"
    }
   ],
   "source": [
    "path = \"D:\\Machine Learnaing\\corona_live\"\n",
    "co = pd.read_csv(path+'\\\\time_corona.csv')\n",
    "co.head()"
   ]
  },
  {
   "cell_type": "code",
   "execution_count": 57,
   "metadata": {},
   "outputs": [
    {
     "name": "stderr",
     "output_type": "stream",
     "text": [
      "C:\\Users\\hanif\\AppData\\Roaming\\Python\\Python37\\site-packages\\ipykernel_launcher.py:1: FutureWarning: Indexing with multiple keys (implicitly converted to a tuple of keys) will be deprecated, use a list instead.\n",
      "  \"\"\"Entry point for launching an IPython kernel.\n"
     ]
    },
    {
     "data": {
      "text/html": [
       "<div>\n",
       "<style scoped>\n",
       "    .dataframe tbody tr th:only-of-type {\n",
       "        vertical-align: middle;\n",
       "    }\n",
       "\n",
       "    .dataframe tbody tr th {\n",
       "        vertical-align: top;\n",
       "    }\n",
       "\n",
       "    .dataframe thead th {\n",
       "        text-align: right;\n",
       "    }\n",
       "</style>\n",
       "<table border=\"1\" class=\"dataframe\">\n",
       "  <thead>\n",
       "    <tr style=\"text-align: right;\">\n",
       "      <th></th>\n",
       "      <th>Confirmed</th>\n",
       "    </tr>\n",
       "    <tr>\n",
       "      <th>Date</th>\n",
       "      <th></th>\n",
       "    </tr>\n",
       "  </thead>\n",
       "  <tbody>\n",
       "    <tr>\n",
       "      <th>2020-05-26</th>\n",
       "      <td>5589626.0</td>\n",
       "    </tr>\n",
       "    <tr>\n",
       "      <th>2020-05-27</th>\n",
       "      <td>5691790.0</td>\n",
       "    </tr>\n",
       "    <tr>\n",
       "      <th>2020-05-28</th>\n",
       "      <td>5808946.0</td>\n",
       "    </tr>\n",
       "    <tr>\n",
       "      <th>2020-05-29</th>\n",
       "      <td>5924275.0</td>\n",
       "    </tr>\n",
       "    <tr>\n",
       "      <th>2020-05-30</th>\n",
       "      <td>6059017.0</td>\n",
       "    </tr>\n",
       "  </tbody>\n",
       "</table>\n",
       "</div>"
      ],
      "text/plain": [
       "            Confirmed\n",
       "Date                 \n",
       "2020-05-26  5589626.0\n",
       "2020-05-27  5691790.0\n",
       "2020-05-28  5808946.0\n",
       "2020-05-29  5924275.0\n",
       "2020-05-30  6059017.0"
      ]
     },
     "execution_count": 57,
     "metadata": {},
     "output_type": "execute_result"
    }
   ],
   "source": [
    "time_confirmed = co.groupby('Date')['Country/Region','Confirmed'].sum()\n",
    "time_confirmed.tail()"
   ]
  },
  {
   "cell_type": "code",
   "execution_count": 58,
   "metadata": {},
   "outputs": [],
   "source": [
    "time_confirmed.to_csv('time_confirmed.csv')"
   ]
  },
  {
   "cell_type": "code",
   "execution_count": 59,
   "metadata": {},
   "outputs": [
    {
     "data": {
      "text/html": [
       "<div>\n",
       "<style scoped>\n",
       "    .dataframe tbody tr th:only-of-type {\n",
       "        vertical-align: middle;\n",
       "    }\n",
       "\n",
       "    .dataframe tbody tr th {\n",
       "        vertical-align: top;\n",
       "    }\n",
       "\n",
       "    .dataframe thead th {\n",
       "        text-align: right;\n",
       "    }\n",
       "</style>\n",
       "<table border=\"1\" class=\"dataframe\">\n",
       "  <thead>\n",
       "    <tr style=\"text-align: right;\">\n",
       "      <th></th>\n",
       "      <th>Date</th>\n",
       "      <th>Confirmed</th>\n",
       "    </tr>\n",
       "  </thead>\n",
       "  <tbody>\n",
       "    <tr>\n",
       "      <th>125</th>\n",
       "      <td>2020-05-26</td>\n",
       "      <td>5589626.0</td>\n",
       "    </tr>\n",
       "    <tr>\n",
       "      <th>126</th>\n",
       "      <td>2020-05-27</td>\n",
       "      <td>5691790.0</td>\n",
       "    </tr>\n",
       "    <tr>\n",
       "      <th>127</th>\n",
       "      <td>2020-05-28</td>\n",
       "      <td>5808946.0</td>\n",
       "    </tr>\n",
       "    <tr>\n",
       "      <th>128</th>\n",
       "      <td>2020-05-29</td>\n",
       "      <td>5924275.0</td>\n",
       "    </tr>\n",
       "    <tr>\n",
       "      <th>129</th>\n",
       "      <td>2020-05-30</td>\n",
       "      <td>6059017.0</td>\n",
       "    </tr>\n",
       "  </tbody>\n",
       "</table>\n",
       "</div>"
      ],
      "text/plain": [
       "           Date  Confirmed\n",
       "125  2020-05-26  5589626.0\n",
       "126  2020-05-27  5691790.0\n",
       "127  2020-05-28  5808946.0\n",
       "128  2020-05-29  5924275.0\n",
       "129  2020-05-30  6059017.0"
      ]
     },
     "execution_count": 59,
     "metadata": {},
     "output_type": "execute_result"
    }
   ],
   "source": [
    "corona = pd.read_csv('D:\\Machine Learnaing\\corona_live\\\\time_confirmed.csv')\n",
    "corona.tail()"
   ]
  },
  {
   "cell_type": "code",
   "execution_count": 60,
   "metadata": {},
   "outputs": [
    {
     "data": {
      "text/plain": [
       "130"
      ]
     },
     "execution_count": 60,
     "metadata": {},
     "output_type": "execute_result"
    }
   ],
   "source": [
    "len(corona)"
   ]
  },
  {
   "cell_type": "code",
   "execution_count": 61,
   "metadata": {},
   "outputs": [
    {
     "name": "stderr",
     "output_type": "stream",
     "text": [
      "C:\\Users\\hanif\\AppData\\Roaming\\Python\\Python37\\site-packages\\ipykernel_launcher.py:1: FutureWarning: Indexing with multiple keys (implicitly converted to a tuple of keys) will be deprecated, use a list instead.\n",
      "  \"\"\"Entry point for launching an IPython kernel.\n"
     ]
    },
    {
     "data": {
      "text/html": [
       "<div>\n",
       "<style scoped>\n",
       "    .dataframe tbody tr th:only-of-type {\n",
       "        vertical-align: middle;\n",
       "    }\n",
       "\n",
       "    .dataframe tbody tr th {\n",
       "        vertical-align: top;\n",
       "    }\n",
       "\n",
       "    .dataframe thead th {\n",
       "        text-align: right;\n",
       "    }\n",
       "</style>\n",
       "<table border=\"1\" class=\"dataframe\">\n",
       "  <thead>\n",
       "    <tr style=\"text-align: right;\">\n",
       "      <th></th>\n",
       "      <th>Date</th>\n",
       "      <th>Confirmed</th>\n",
       "    </tr>\n",
       "  </thead>\n",
       "  <tbody>\n",
       "    <tr>\n",
       "      <th>125</th>\n",
       "      <td>2020-05-26</td>\n",
       "      <td>5589626.0</td>\n",
       "    </tr>\n",
       "    <tr>\n",
       "      <th>126</th>\n",
       "      <td>2020-05-27</td>\n",
       "      <td>5691790.0</td>\n",
       "    </tr>\n",
       "    <tr>\n",
       "      <th>127</th>\n",
       "      <td>2020-05-28</td>\n",
       "      <td>5808946.0</td>\n",
       "    </tr>\n",
       "    <tr>\n",
       "      <th>128</th>\n",
       "      <td>2020-05-29</td>\n",
       "      <td>5924275.0</td>\n",
       "    </tr>\n",
       "    <tr>\n",
       "      <th>129</th>\n",
       "      <td>2020-05-30</td>\n",
       "      <td>6059017.0</td>\n",
       "    </tr>\n",
       "  </tbody>\n",
       "</table>\n",
       "</div>"
      ],
      "text/plain": [
       "           Date  Confirmed\n",
       "125  2020-05-26  5589626.0\n",
       "126  2020-05-27  5691790.0\n",
       "127  2020-05-28  5808946.0\n",
       "128  2020-05-29  5924275.0\n",
       "129  2020-05-30  6059017.0"
      ]
     },
     "execution_count": 61,
     "metadata": {},
     "output_type": "execute_result"
    }
   ],
   "source": [
    "corona = corona.groupby('Date')['Date', 'Confirmed'].sum()\n",
    "corona = corona.reset_index()\n",
    "corona.tail()"
   ]
  },
  {
   "cell_type": "code",
   "execution_count": 62,
   "metadata": {},
   "outputs": [],
   "source": [
    "df_2020 = df[df.index > '2020-01-21']"
   ]
  },
  {
   "cell_type": "code",
   "execution_count": 63,
   "metadata": {},
   "outputs": [
    {
     "data": {
      "text/html": [
       "<div>\n",
       "<style scoped>\n",
       "    .dataframe tbody tr th:only-of-type {\n",
       "        vertical-align: middle;\n",
       "    }\n",
       "\n",
       "    .dataframe tbody tr th {\n",
       "        vertical-align: top;\n",
       "    }\n",
       "\n",
       "    .dataframe thead th {\n",
       "        text-align: right;\n",
       "    }\n",
       "</style>\n",
       "<table border=\"1\" class=\"dataframe\">\n",
       "  <thead>\n",
       "    <tr style=\"text-align: right;\">\n",
       "      <th></th>\n",
       "      <th>High</th>\n",
       "      <th>Low</th>\n",
       "      <th>Open</th>\n",
       "      <th>Close</th>\n",
       "      <th>Volume</th>\n",
       "      <th>Adj Close</th>\n",
       "    </tr>\n",
       "    <tr>\n",
       "      <th>Date</th>\n",
       "      <th></th>\n",
       "      <th></th>\n",
       "      <th></th>\n",
       "      <th></th>\n",
       "      <th></th>\n",
       "      <th></th>\n",
       "    </tr>\n",
       "  </thead>\n",
       "  <tbody>\n",
       "    <tr>\n",
       "      <th>2020-06-09</th>\n",
       "      <td>22.280001</td>\n",
       "      <td>20.559999</td>\n",
       "      <td>22.25</td>\n",
       "      <td>21.010000</td>\n",
       "      <td>14740665</td>\n",
       "      <td>21.010000</td>\n",
       "    </tr>\n",
       "    <tr>\n",
       "      <th>2020-06-10</th>\n",
       "      <td>20.680000</td>\n",
       "      <td>19.010000</td>\n",
       "      <td>20.50</td>\n",
       "      <td>19.510000</td>\n",
       "      <td>12646157</td>\n",
       "      <td>19.510000</td>\n",
       "    </tr>\n",
       "    <tr>\n",
       "      <th>2020-06-11</th>\n",
       "      <td>18.830000</td>\n",
       "      <td>17.049999</td>\n",
       "      <td>17.50</td>\n",
       "      <td>17.850000</td>\n",
       "      <td>12470911</td>\n",
       "      <td>17.850000</td>\n",
       "    </tr>\n",
       "    <tr>\n",
       "      <th>2020-06-12</th>\n",
       "      <td>19.639999</td>\n",
       "      <td>18.160000</td>\n",
       "      <td>19.35</td>\n",
       "      <td>19.400000</td>\n",
       "      <td>14378888</td>\n",
       "      <td>19.400000</td>\n",
       "    </tr>\n",
       "    <tr>\n",
       "      <th>2020-06-15</th>\n",
       "      <td>19.280001</td>\n",
       "      <td>18.100000</td>\n",
       "      <td>19.35</td>\n",
       "      <td>18.540001</td>\n",
       "      <td>10437549</td>\n",
       "      <td>18.540001</td>\n",
       "    </tr>\n",
       "  </tbody>\n",
       "</table>\n",
       "</div>"
      ],
      "text/plain": [
       "                 High        Low   Open      Close    Volume  Adj Close\n",
       "Date                                                                   \n",
       "2020-06-09  22.280001  20.559999  22.25  21.010000  14740665  21.010000\n",
       "2020-06-10  20.680000  19.010000  20.50  19.510000  12646157  19.510000\n",
       "2020-06-11  18.830000  17.049999  17.50  17.850000  12470911  17.850000\n",
       "2020-06-12  19.639999  18.160000  19.35  19.400000  14378888  19.400000\n",
       "2020-06-15  19.280001  18.100000  19.35  18.540001  10437549  18.540001"
      ]
     },
     "execution_count": 63,
     "metadata": {},
     "output_type": "execute_result"
    }
   ],
   "source": [
    "df_2020.tail()"
   ]
  },
  {
   "cell_type": "code",
   "execution_count": 64,
   "metadata": {},
   "outputs": [],
   "source": [
    "df_20Close = df_2020[['Adj Close']]\n",
    "# df_20Close.to_csv('D:\\Machine Learnaing\\corona_v\\\\2020.csv')"
   ]
  },
  {
   "cell_type": "code",
   "execution_count": 65,
   "metadata": {},
   "outputs": [
    {
     "data": {
      "text/html": [
       "<div>\n",
       "<style scoped>\n",
       "    .dataframe tbody tr th:only-of-type {\n",
       "        vertical-align: middle;\n",
       "    }\n",
       "\n",
       "    .dataframe tbody tr th {\n",
       "        vertical-align: top;\n",
       "    }\n",
       "\n",
       "    .dataframe thead th {\n",
       "        text-align: right;\n",
       "    }\n",
       "</style>\n",
       "<table border=\"1\" class=\"dataframe\">\n",
       "  <thead>\n",
       "    <tr style=\"text-align: right;\">\n",
       "      <th></th>\n",
       "      <th>Date</th>\n",
       "      <th>Adj Close</th>\n",
       "    </tr>\n",
       "  </thead>\n",
       "  <tbody>\n",
       "    <tr>\n",
       "      <th>0</th>\n",
       "      <td>2020-01-22</td>\n",
       "      <td>48.680000</td>\n",
       "    </tr>\n",
       "    <tr>\n",
       "      <th>1</th>\n",
       "      <td>2020-01-23</td>\n",
       "      <td>48.419998</td>\n",
       "    </tr>\n",
       "    <tr>\n",
       "      <th>2</th>\n",
       "      <td>2020-01-24</td>\n",
       "      <td>47.180000</td>\n",
       "    </tr>\n",
       "    <tr>\n",
       "      <th>3</th>\n",
       "      <td>2020-01-27</td>\n",
       "      <td>44.740002</td>\n",
       "    </tr>\n",
       "    <tr>\n",
       "      <th>4</th>\n",
       "      <td>2020-01-28</td>\n",
       "      <td>45.099998</td>\n",
       "    </tr>\n",
       "  </tbody>\n",
       "</table>\n",
       "</div>"
      ],
      "text/plain": [
       "        Date  Adj Close\n",
       "0 2020-01-22  48.680000\n",
       "1 2020-01-23  48.419998\n",
       "2 2020-01-24  47.180000\n",
       "3 2020-01-27  44.740002\n",
       "4 2020-01-28  45.099998"
      ]
     },
     "execution_count": 65,
     "metadata": {},
     "output_type": "execute_result"
    }
   ],
   "source": [
    "df_20C = df_20Close.reset_index()\n",
    "df_20C.head()"
   ]
  },
  {
   "cell_type": "code",
   "execution_count": 66,
   "metadata": {},
   "outputs": [
    {
     "data": {
      "text/html": [
       "<div>\n",
       "<style scoped>\n",
       "    .dataframe tbody tr th:only-of-type {\n",
       "        vertical-align: middle;\n",
       "    }\n",
       "\n",
       "    .dataframe tbody tr th {\n",
       "        vertical-align: top;\n",
       "    }\n",
       "\n",
       "    .dataframe thead th {\n",
       "        text-align: right;\n",
       "    }\n",
       "</style>\n",
       "<table border=\"1\" class=\"dataframe\">\n",
       "  <thead>\n",
       "    <tr style=\"text-align: right;\">\n",
       "      <th></th>\n",
       "      <th>Confirmed</th>\n",
       "      <th>Price</th>\n",
       "    </tr>\n",
       "  </thead>\n",
       "  <tbody>\n",
       "    <tr>\n",
       "      <th>0</th>\n",
       "      <td>555</td>\n",
       "      <td>48.680000</td>\n",
       "    </tr>\n",
       "    <tr>\n",
       "      <th>1</th>\n",
       "      <td>654</td>\n",
       "      <td>48.419998</td>\n",
       "    </tr>\n",
       "    <tr>\n",
       "      <th>2</th>\n",
       "      <td>941</td>\n",
       "      <td>47.180000</td>\n",
       "    </tr>\n",
       "    <tr>\n",
       "      <th>3</th>\n",
       "      <td>1434</td>\n",
       "      <td>47.180000</td>\n",
       "    </tr>\n",
       "    <tr>\n",
       "      <th>4</th>\n",
       "      <td>2118</td>\n",
       "      <td>47.180000</td>\n",
       "    </tr>\n",
       "  </tbody>\n",
       "</table>\n",
       "</div>"
      ],
      "text/plain": [
       "   Confirmed      Price\n",
       "0        555  48.680000\n",
       "1        654  48.419998\n",
       "2        941  47.180000\n",
       "3       1434  47.180000\n",
       "4       2118  47.180000"
      ]
     },
     "execution_count": 66,
     "metadata": {},
     "output_type": "execute_result"
    }
   ],
   "source": [
    "cp = pd.read_csv('D:\\Machine Learnaing\\stock\\confi_price.csv')\n",
    "cp = cp[['Confirmed', 'Price']]\n",
    "cp.head()"
   ]
  },
  {
   "cell_type": "code",
   "execution_count": 67,
   "metadata": {},
   "outputs": [
    {
     "data": {
      "text/html": [
       "<div>\n",
       "<style scoped>\n",
       "    .dataframe tbody tr th:only-of-type {\n",
       "        vertical-align: middle;\n",
       "    }\n",
       "\n",
       "    .dataframe tbody tr th {\n",
       "        vertical-align: top;\n",
       "    }\n",
       "\n",
       "    .dataframe thead th {\n",
       "        text-align: right;\n",
       "    }\n",
       "</style>\n",
       "<table border=\"1\" class=\"dataframe\">\n",
       "  <thead>\n",
       "    <tr style=\"text-align: right;\">\n",
       "      <th></th>\n",
       "      <th>Confirmed</th>\n",
       "      <th>Price</th>\n",
       "    </tr>\n",
       "  </thead>\n",
       "  <tbody>\n",
       "    <tr>\n",
       "      <th>Confirmed</th>\n",
       "      <td>1.000000</td>\n",
       "      <td>-0.727802</td>\n",
       "    </tr>\n",
       "    <tr>\n",
       "      <th>Price</th>\n",
       "      <td>-0.727802</td>\n",
       "      <td>1.000000</td>\n",
       "    </tr>\n",
       "  </tbody>\n",
       "</table>\n",
       "</div>"
      ],
      "text/plain": [
       "           Confirmed     Price\n",
       "Confirmed   1.000000 -0.727802\n",
       "Price      -0.727802  1.000000"
      ]
     },
     "execution_count": 67,
     "metadata": {},
     "output_type": "execute_result"
    }
   ],
   "source": [
    "cp.corr()"
   ]
  },
  {
   "cell_type": "markdown",
   "metadata": {},
   "source": [
    "# Airlines in Defrent cuntinent"
   ]
  },
  {
   "cell_type": "code",
   "execution_count": 68,
   "metadata": {},
   "outputs": [],
   "source": [
    "dfcomp = web.DataReader(['AC.TO', 'JAPSY'],\n",
    "                        'yahoo', start=start, end=end)['Adj Close']"
   ]
  },
  {
   "cell_type": "code",
   "execution_count": 69,
   "metadata": {},
   "outputs": [
    {
     "data": {
      "text/html": [
       "<div>\n",
       "<style scoped>\n",
       "    .dataframe tbody tr th:only-of-type {\n",
       "        vertical-align: middle;\n",
       "    }\n",
       "\n",
       "    .dataframe tbody tr th {\n",
       "        vertical-align: top;\n",
       "    }\n",
       "\n",
       "    .dataframe thead th {\n",
       "        text-align: right;\n",
       "    }\n",
       "</style>\n",
       "<table border=\"1\" class=\"dataframe\">\n",
       "  <thead>\n",
       "    <tr style=\"text-align: right;\">\n",
       "      <th>Symbols</th>\n",
       "      <th>AC.TO</th>\n",
       "      <th>JAPSY</th>\n",
       "    </tr>\n",
       "    <tr>\n",
       "      <th>Symbols</th>\n",
       "      <th></th>\n",
       "      <th></th>\n",
       "    </tr>\n",
       "  </thead>\n",
       "  <tbody>\n",
       "    <tr>\n",
       "      <th>AC.TO</th>\n",
       "      <td>1.000000</td>\n",
       "      <td>0.435713</td>\n",
       "    </tr>\n",
       "    <tr>\n",
       "      <th>JAPSY</th>\n",
       "      <td>0.435713</td>\n",
       "      <td>1.000000</td>\n",
       "    </tr>\n",
       "  </tbody>\n",
       "</table>\n",
       "</div>"
      ],
      "text/plain": [
       "Symbols     AC.TO     JAPSY\n",
       "Symbols                    \n",
       "AC.TO    1.000000  0.435713\n",
       "JAPSY    0.435713  1.000000"
      ]
     },
     "execution_count": 69,
     "metadata": {},
     "output_type": "execute_result"
    }
   ],
   "source": [
    "retscomp = dfcomp.pct_change()\n",
    "corr = retscomp.corr()\n",
    "corr"
   ]
  },
  {
   "cell_type": "code",
   "execution_count": 70,
   "metadata": {},
   "outputs": [
    {
     "data": {
      "image/png": "[encoded data removed]",
      "text/plain": [
       "<Figure size 720x720 with 4 Axes>"
      ]
     },
     "metadata": {},
     "output_type": "display_data"
    }
   ],
   "source": [
    "from pandas import plotting\n",
    "plotting.scatter_matrix(retscomp, diagonal='kde', figsize=(10, 10));"
   ]
  },
  {
   "cell_type": "code",
   "execution_count": 71,
   "metadata": {},
   "outputs": [
    {
     "data": {
      "text/html": [
       "<div>\n",
       "<style scoped>\n",
       "    .dataframe tbody tr th:only-of-type {\n",
       "        vertical-align: middle;\n",
       "    }\n",
       "\n",
       "    .dataframe tbody tr th {\n",
       "        vertical-align: top;\n",
       "    }\n",
       "\n",
       "    .dataframe thead th {\n",
       "        text-align: right;\n",
       "    }\n",
       "</style>\n",
       "<table border=\"1\" class=\"dataframe\">\n",
       "  <thead>\n",
       "    <tr style=\"text-align: right;\">\n",
       "      <th></th>\n",
       "      <th>High</th>\n",
       "      <th>Low</th>\n",
       "      <th>Open</th>\n",
       "      <th>Close</th>\n",
       "      <th>Volume</th>\n",
       "      <th>Adj Close</th>\n",
       "    </tr>\n",
       "    <tr>\n",
       "      <th>Date</th>\n",
       "      <th></th>\n",
       "      <th></th>\n",
       "      <th></th>\n",
       "      <th></th>\n",
       "      <th></th>\n",
       "      <th></th>\n",
       "    </tr>\n",
       "  </thead>\n",
       "  <tbody>\n",
       "    <tr>\n",
       "      <th>2018-01-02</th>\n",
       "      <td>26.209999</td>\n",
       "      <td>25.799999</td>\n",
       "      <td>25.90</td>\n",
       "      <td>26.190001</td>\n",
       "      <td>977849</td>\n",
       "      <td>26.190001</td>\n",
       "    </tr>\n",
       "    <tr>\n",
       "      <th>2018-01-03</th>\n",
       "      <td>26.240000</td>\n",
       "      <td>25.165001</td>\n",
       "      <td>26.24</td>\n",
       "      <td>25.370001</td>\n",
       "      <td>2146178</td>\n",
       "      <td>25.370001</td>\n",
       "    </tr>\n",
       "    <tr>\n",
       "      <th>2018-01-04</th>\n",
       "      <td>25.360001</td>\n",
       "      <td>24.980000</td>\n",
       "      <td>25.25</td>\n",
       "      <td>24.990000</td>\n",
       "      <td>1049620</td>\n",
       "      <td>24.990000</td>\n",
       "    </tr>\n",
       "    <tr>\n",
       "      <th>2018-01-05</th>\n",
       "      <td>25.090000</td>\n",
       "      <td>24.520000</td>\n",
       "      <td>25.08</td>\n",
       "      <td>24.680000</td>\n",
       "      <td>1059440</td>\n",
       "      <td>24.680000</td>\n",
       "    </tr>\n",
       "    <tr>\n",
       "      <th>2018-01-08</th>\n",
       "      <td>24.730000</td>\n",
       "      <td>23.700001</td>\n",
       "      <td>24.73</td>\n",
       "      <td>23.879999</td>\n",
       "      <td>1265645</td>\n",
       "      <td>23.879999</td>\n",
       "    </tr>\n",
       "  </tbody>\n",
       "</table>\n",
       "</div>"
      ],
      "text/plain": [
       "                 High        Low   Open      Close   Volume  Adj Close\n",
       "Date                                                                  \n",
       "2018-01-02  26.209999  25.799999  25.90  26.190001   977849  26.190001\n",
       "2018-01-03  26.240000  25.165001  26.24  25.370001  2146178  25.370001\n",
       "2018-01-04  25.360001  24.980000  25.25  24.990000  1049620  24.990000\n",
       "2018-01-05  25.090000  24.520000  25.08  24.680000  1059440  24.680000\n",
       "2018-01-08  24.730000  23.700001  24.73  23.879999  1265645  23.879999"
      ]
     },
     "execution_count": 71,
     "metadata": {},
     "output_type": "execute_result"
    }
   ],
   "source": [
    "start = datetime.datetime(2018, 1, 1)\n",
    "end = datetime.datetime.now()\n",
    "\n",
    "Ac = web.DataReader(var, 'yahoo', start , end)\n",
    "Ac.head()"
   ]
  },
  {
   "cell_type": "code",
   "execution_count": 72,
   "metadata": {},
   "outputs": [
    {
     "data": {
      "text/html": [
       "<div>\n",
       "<style scoped>\n",
       "    .dataframe tbody tr th:only-of-type {\n",
       "        vertical-align: middle;\n",
       "    }\n",
       "\n",
       "    .dataframe tbody tr th {\n",
       "        vertical-align: top;\n",
       "    }\n",
       "\n",
       "    .dataframe thead th {\n",
       "        text-align: right;\n",
       "    }\n",
       "</style>\n",
       "<table border=\"1\" class=\"dataframe\">\n",
       "  <thead>\n",
       "    <tr style=\"text-align: right;\">\n",
       "      <th></th>\n",
       "      <th>High</th>\n",
       "      <th>Low</th>\n",
       "      <th>Open</th>\n",
       "      <th>Close</th>\n",
       "      <th>Volume</th>\n",
       "      <th>Adj Close</th>\n",
       "    </tr>\n",
       "  </thead>\n",
       "  <tbody>\n",
       "    <tr>\n",
       "      <th>count</th>\n",
       "      <td>617.000000</td>\n",
       "      <td>617.000000</td>\n",
       "      <td>617.000000</td>\n",
       "      <td>617.000000</td>\n",
       "      <td>6.170000e+02</td>\n",
       "      <td>617.000000</td>\n",
       "    </tr>\n",
       "    <tr>\n",
       "      <th>mean</th>\n",
       "      <td>32.152220</td>\n",
       "      <td>31.112366</td>\n",
       "      <td>31.629757</td>\n",
       "      <td>31.628023</td>\n",
       "      <td>2.004850e+06</td>\n",
       "      <td>31.628023</td>\n",
       "    </tr>\n",
       "    <tr>\n",
       "      <th>std</th>\n",
       "      <td>10.155159</td>\n",
       "      <td>10.114372</td>\n",
       "      <td>10.086740</td>\n",
       "      <td>10.149179</td>\n",
       "      <td>2.504601e+06</td>\n",
       "      <td>10.149179</td>\n",
       "    </tr>\n",
       "    <tr>\n",
       "      <th>min</th>\n",
       "      <td>13.740000</td>\n",
       "      <td>9.260000</td>\n",
       "      <td>13.060000</td>\n",
       "      <td>12.150000</td>\n",
       "      <td>1.457940e+05</td>\n",
       "      <td>12.150000</td>\n",
       "    </tr>\n",
       "    <tr>\n",
       "      <th>25%</th>\n",
       "      <td>24.355000</td>\n",
       "      <td>23.510000</td>\n",
       "      <td>23.950001</td>\n",
       "      <td>23.910000</td>\n",
       "      <td>8.711850e+05</td>\n",
       "      <td>23.910000</td>\n",
       "    </tr>\n",
       "    <tr>\n",
       "      <th>50%</th>\n",
       "      <td>28.040001</td>\n",
       "      <td>27.280001</td>\n",
       "      <td>27.639999</td>\n",
       "      <td>27.580000</td>\n",
       "      <td>1.170393e+06</td>\n",
       "      <td>27.580000</td>\n",
       "    </tr>\n",
       "    <tr>\n",
       "      <th>75%</th>\n",
       "      <td>42.500000</td>\n",
       "      <td>41.459999</td>\n",
       "      <td>41.759998</td>\n",
       "      <td>41.860001</td>\n",
       "      <td>1.771017e+06</td>\n",
       "      <td>41.860001</td>\n",
       "    </tr>\n",
       "    <tr>\n",
       "      <th>max</th>\n",
       "      <td>52.709999</td>\n",
       "      <td>51.560001</td>\n",
       "      <td>52.029999</td>\n",
       "      <td>52.090000</td>\n",
       "      <td>1.974254e+07</td>\n",
       "      <td>52.090000</td>\n",
       "    </tr>\n",
       "  </tbody>\n",
       "</table>\n",
       "</div>"
      ],
      "text/plain": [
       "             High         Low        Open       Close        Volume  \\\n",
       "count  617.000000  617.000000  617.000000  617.000000  6.170000e+02   \n",
       "mean    32.152220   31.112366   31.629757   31.628023  2.004850e+06   \n",
       "std     10.155159   10.114372   10.086740   10.149179  2.504601e+06   \n",
       "min     13.740000    9.260000   13.060000   12.150000  1.457940e+05   \n",
       "25%     24.355000   23.510000   23.950001   23.910000  8.711850e+05   \n",
       "50%     28.040001   27.280001   27.639999   27.580000  1.170393e+06   \n",
       "75%     42.500000   41.459999   41.759998   41.860001  1.771017e+06   \n",
       "max     52.709999   51.560001   52.029999   52.090000  1.974254e+07   \n",
       "\n",
       "        Adj Close  \n",
       "count  617.000000  \n",
       "mean    31.628023  \n",
       "std     10.149179  \n",
       "min     12.150000  \n",
       "25%     23.910000  \n",
       "50%     27.580000  \n",
       "75%     41.860001  \n",
       "max     52.090000  "
      ]
     },
     "execution_count": 72,
     "metadata": {},
     "output_type": "execute_result"
    }
   ],
   "source": [
    "Ac.describe()"
   ]
  },
  {
   "cell_type": "code",
   "execution_count": null,
   "metadata": {},
   "outputs": [],
   "source": []
  },
  {
   "cell_type": "code",
   "execution_count": null,
   "metadata": {},
   "outputs": [],
   "source": []
  }
 ],
 "metadata": {
  "kernelspec": {
   "display_name": "Python 3",
   "language": "python",
   "name": "python3"
  },
  "language_info": {
   "codemirror_mode": {
    "name": "ipython",
    "version": 3
   },
   "file_extension": ".py",
   "mimetype": "text/x-python",
   "name": "python",
   "nbconvert_exporter": "python",
   "pygments_lexer": "ipython3",
   "version": "3.7.3"
  }
 },
 "nbformat": 4,
 "nbformat_minor": 2
}
