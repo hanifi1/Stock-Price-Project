{
 "cells": [
  {
   "cell_type": "code",
   "execution_count": 1,
   "metadata": {},
   "outputs": [],
   "source": [
    "# https://towardsdatascience.com/in-12-minutes-stocks-analysis-with-pandas-and-scikit-learn-a8d8a7b50ee7"
   ]
  },
  {
   "cell_type": "code",
   "execution_count": 1,
   "metadata": {},
   "outputs": [
    {
     "name": "stderr",
     "output_type": "stream",
     "text": [
      "C:\\Users\\hanif\\Anaconda3\\lib\\site-packages\\pandas_datareader\\compat\\__init__.py:7: FutureWarning: pandas.util.testing is deprecated. Use the functions in the public API at pandas.testing instead.\n",
      "  from pandas.util.testing import assert_frame_equal\n",
      "In C:\\Users\\hanif\\Anaconda3\\lib\\site-packages\\matplotlib\\mpl-data\\stylelib\\_classic_test.mplstyle: \n",
      "The text.latex.preview rcparam was deprecated in Matplotlib 3.3 and will be removed two minor releases later.\n",
      "In C:\\Users\\hanif\\Anaconda3\\lib\\site-packages\\matplotlib\\mpl-data\\stylelib\\_classic_test.mplstyle: \n",
      "The mathtext.fallback_to_cm rcparam was deprecated in Matplotlib 3.3 and will be removed two minor releases later.\n",
      "In C:\\Users\\hanif\\Anaconda3\\lib\\site-packages\\matplotlib\\mpl-data\\stylelib\\_classic_test.mplstyle: Support for setting the 'mathtext.fallback_to_cm' rcParam is deprecated since 3.3 and will be removed two minor releases later; use 'mathtext.fallback : 'cm' instead.\n",
      "In C:\\Users\\hanif\\Anaconda3\\lib\\site-packages\\matplotlib\\mpl-data\\stylelib\\_classic_test.mplstyle: \n",
      "The validate_bool_maybe_none function was deprecated in Matplotlib 3.3 and will be removed two minor releases later.\n",
      "In C:\\Users\\hanif\\Anaconda3\\lib\\site-packages\\matplotlib\\mpl-data\\stylelib\\_classic_test.mplstyle: \n",
      "The savefig.jpeg_quality rcparam was deprecated in Matplotlib 3.3 and will be removed two minor releases later.\n",
      "In C:\\Users\\hanif\\Anaconda3\\lib\\site-packages\\matplotlib\\mpl-data\\stylelib\\_classic_test.mplstyle: \n",
      "The keymap.all_axes rcparam was deprecated in Matplotlib 3.3 and will be removed two minor releases later.\n",
      "In C:\\Users\\hanif\\Anaconda3\\lib\\site-packages\\matplotlib\\mpl-data\\stylelib\\_classic_test.mplstyle: \n",
      "The animation.avconv_path rcparam was deprecated in Matplotlib 3.3 and will be removed two minor releases later.\n",
      "In C:\\Users\\hanif\\Anaconda3\\lib\\site-packages\\matplotlib\\mpl-data\\stylelib\\_classic_test.mplstyle: \n",
      "The animation.avconv_args rcparam was deprecated in Matplotlib 3.3 and will be removed two minor releases later.\n"
     ]
    }
   ],
   "source": [
    "import pandas as pd\n",
    "import datetime \n",
    "import pandas_datareader.data as web\n",
    "from pandas import Series, DataFrame\n",
    "import matplotlib.pyplot as plt\n",
    "from tensorflow import keras\n",
    "from tensorflow.keras import metrics\n",
    "from tensorflow.keras.utils import plot_model\n",
    "import datetime\n",
    "import quandl"
   ]
  },
  {
   "cell_type": "code",
   "execution_count": 2,
   "metadata": {},
   "outputs": [],
   "source": [
    "ac = 'AC.TO'\n",
    "trz = 'TRZ.TO'      # Transat A.T. Inc. (TRZ.TO)\n",
    "west = 'WJT.TO'     # WestJet Airlines Ltd. (WJA.TO)\n",
    "cn = 'CNI'         # 'CNI' (Canadian National Railway)\n",
    "# EXPE (online travel shopping company) \n",
    "# AAL American Airlines Groups Inc\n",
    "# LHA.DE (Lufthunza)\n",
    "cost = 'COST'   # Costco Wholesale Corporation\n",
    "oil = 'BZ=F'"
   ]
  },
  {
   "cell_type": "code",
   "execution_count": 3,
   "metadata": {},
   "outputs": [
    {
     "data": {
      "text/plain": [
       "datetime.datetime(2020, 8, 30, 14, 16, 21, 623868)"
      ]
     },
     "execution_count": 3,
     "metadata": {},
     "output_type": "execute_result"
    }
   ],
   "source": [
    "datetime.datetime.now()"
   ]
  },
  {
   "cell_type": "code",
   "execution_count": 4,
   "metadata": {},
   "outputs": [
    {
     "data": {
      "text/plain": [
       "'AC.TO_2020-08-30_14.csv'"
      ]
     },
     "execution_count": 4,
     "metadata": {},
     "output_type": "execute_result"
    }
   ],
   "source": [
    "var = ac\n",
    "x = datetime.datetime.now()\n",
    "# x = var + '_' + str(x)[0:10] + \"_\" +str(x)[11:13] + str(x)[14:16]+ '.csv'\n",
    "x = var + '_' + str(x)[0:10] + \"_\" +str(x)[11:13] + '.csv'\n",
    "x"
   ]
  },
  {
   "cell_type": "code",
   "execution_count": 5,
   "metadata": {},
   "outputs": [
    {
     "data": {
      "text/html": [
       "<div>\n",
       "<style scoped>\n",
       "    .dataframe tbody tr th:only-of-type {\n",
       "        vertical-align: middle;\n",
       "    }\n",
       "\n",
       "    .dataframe tbody tr th {\n",
       "        vertical-align: top;\n",
       "    }\n",
       "\n",
       "    .dataframe thead th {\n",
       "        text-align: right;\n",
       "    }\n",
       "</style>\n",
       "<table border=\"1\" class=\"dataframe\">\n",
       "  <thead>\n",
       "    <tr style=\"text-align: right;\">\n",
       "      <th></th>\n",
       "      <th>High</th>\n",
       "      <th>Low</th>\n",
       "      <th>Open</th>\n",
       "      <th>Close</th>\n",
       "      <th>Volume</th>\n",
       "      <th>Adj Close</th>\n",
       "    </tr>\n",
       "    <tr>\n",
       "      <th>Date</th>\n",
       "      <th></th>\n",
       "      <th></th>\n",
       "      <th></th>\n",
       "      <th></th>\n",
       "      <th></th>\n",
       "      <th></th>\n",
       "    </tr>\n",
       "  </thead>\n",
       "  <tbody>\n",
       "    <tr>\n",
       "      <th>2020-08-24</th>\n",
       "      <td>17.000000</td>\n",
       "      <td>16.150000</td>\n",
       "      <td>16.200001</td>\n",
       "      <td>16.969999</td>\n",
       "      <td>7138499</td>\n",
       "      <td>16.969999</td>\n",
       "    </tr>\n",
       "    <tr>\n",
       "      <th>2020-08-25</th>\n",
       "      <td>17.330000</td>\n",
       "      <td>16.469999</td>\n",
       "      <td>17.100000</td>\n",
       "      <td>16.680000</td>\n",
       "      <td>4660719</td>\n",
       "      <td>16.680000</td>\n",
       "    </tr>\n",
       "    <tr>\n",
       "      <th>2020-08-26</th>\n",
       "      <td>16.754999</td>\n",
       "      <td>16.360001</td>\n",
       "      <td>16.690001</td>\n",
       "      <td>16.500000</td>\n",
       "      <td>3812658</td>\n",
       "      <td>16.500000</td>\n",
       "    </tr>\n",
       "    <tr>\n",
       "      <th>2020-08-27</th>\n",
       "      <td>17.299999</td>\n",
       "      <td>16.709999</td>\n",
       "      <td>16.780001</td>\n",
       "      <td>17.190001</td>\n",
       "      <td>9343146</td>\n",
       "      <td>17.190001</td>\n",
       "    </tr>\n",
       "    <tr>\n",
       "      <th>2020-08-28</th>\n",
       "      <td>17.990000</td>\n",
       "      <td>17.299999</td>\n",
       "      <td>17.299999</td>\n",
       "      <td>17.990000</td>\n",
       "      <td>8387496</td>\n",
       "      <td>17.990000</td>\n",
       "    </tr>\n",
       "  </tbody>\n",
       "</table>\n",
       "</div>"
      ],
      "text/plain": [
       "                 High        Low       Open      Close   Volume  Adj Close\n",
       "Date                                                                      \n",
       "2020-08-24  17.000000  16.150000  16.200001  16.969999  7138499  16.969999\n",
       "2020-08-25  17.330000  16.469999  17.100000  16.680000  4660719  16.680000\n",
       "2020-08-26  16.754999  16.360001  16.690001  16.500000  3812658  16.500000\n",
       "2020-08-27  17.299999  16.709999  16.780001  17.190001  9343146  17.190001\n",
       "2020-08-28  17.990000  17.299999  17.299999  17.990000  8387496  17.990000"
      ]
     },
     "execution_count": 5,
     "metadata": {},
     "output_type": "execute_result"
    }
   ],
   "source": [
    "start = datetime.datetime(2018, 1, 1)\n",
    "end = datetime.datetime.now()\n",
    "\n",
    "df = web.DataReader(var, 'yahoo', start , end)\n",
    "df.tail()"
   ]
  },
  {
   "cell_type": "code",
   "execution_count": 6,
   "metadata": {
    "scrolled": true
   },
   "outputs": [
    {
     "data": {
      "text/html": [
       "<div>\n",
       "<style scoped>\n",
       "    .dataframe tbody tr th:only-of-type {\n",
       "        vertical-align: middle;\n",
       "    }\n",
       "\n",
       "    .dataframe tbody tr th {\n",
       "        vertical-align: top;\n",
       "    }\n",
       "\n",
       "    .dataframe thead th {\n",
       "        text-align: right;\n",
       "    }\n",
       "</style>\n",
       "<table border=\"1\" class=\"dataframe\">\n",
       "  <thead>\n",
       "    <tr style=\"text-align: right;\">\n",
       "      <th></th>\n",
       "      <th>High</th>\n",
       "      <th>Low</th>\n",
       "      <th>Open</th>\n",
       "      <th>Close</th>\n",
       "      <th>Volume</th>\n",
       "      <th>Adj Close</th>\n",
       "    </tr>\n",
       "    <tr>\n",
       "      <th>Date</th>\n",
       "      <th></th>\n",
       "      <th></th>\n",
       "      <th></th>\n",
       "      <th></th>\n",
       "      <th></th>\n",
       "      <th></th>\n",
       "    </tr>\n",
       "  </thead>\n",
       "  <tbody>\n",
       "    <tr>\n",
       "      <th>2018-01-02</th>\n",
       "      <td>26.209999</td>\n",
       "      <td>25.799999</td>\n",
       "      <td>25.90</td>\n",
       "      <td>26.190001</td>\n",
       "      <td>977849</td>\n",
       "      <td>26.190001</td>\n",
       "    </tr>\n",
       "    <tr>\n",
       "      <th>2018-01-03</th>\n",
       "      <td>26.240000</td>\n",
       "      <td>25.165001</td>\n",
       "      <td>26.24</td>\n",
       "      <td>25.370001</td>\n",
       "      <td>2146178</td>\n",
       "      <td>25.370001</td>\n",
       "    </tr>\n",
       "    <tr>\n",
       "      <th>2018-01-04</th>\n",
       "      <td>25.360001</td>\n",
       "      <td>24.980000</td>\n",
       "      <td>25.25</td>\n",
       "      <td>24.990000</td>\n",
       "      <td>1049620</td>\n",
       "      <td>24.990000</td>\n",
       "    </tr>\n",
       "    <tr>\n",
       "      <th>2018-01-05</th>\n",
       "      <td>25.090000</td>\n",
       "      <td>24.520000</td>\n",
       "      <td>25.08</td>\n",
       "      <td>24.680000</td>\n",
       "      <td>1059440</td>\n",
       "      <td>24.680000</td>\n",
       "    </tr>\n",
       "    <tr>\n",
       "      <th>2018-01-08</th>\n",
       "      <td>24.730000</td>\n",
       "      <td>23.700001</td>\n",
       "      <td>24.73</td>\n",
       "      <td>23.879999</td>\n",
       "      <td>1265645</td>\n",
       "      <td>23.879999</td>\n",
       "    </tr>\n",
       "  </tbody>\n",
       "</table>\n",
       "</div>"
      ],
      "text/plain": [
       "                 High        Low   Open      Close   Volume  Adj Close\n",
       "Date                                                                  \n",
       "2018-01-02  26.209999  25.799999  25.90  26.190001   977849  26.190001\n",
       "2018-01-03  26.240000  25.165001  26.24  25.370001  2146178  25.370001\n",
       "2018-01-04  25.360001  24.980000  25.25  24.990000  1049620  24.990000\n",
       "2018-01-05  25.090000  24.520000  25.08  24.680000  1059440  24.680000\n",
       "2018-01-08  24.730000  23.700001  24.73  23.879999  1265645  23.879999"
      ]
     },
     "execution_count": 6,
     "metadata": {},
     "output_type": "execute_result"
    }
   ],
   "source": [
    "df.head()"
   ]
  },
  {
   "cell_type": "code",
   "execution_count": 7,
   "metadata": {},
   "outputs": [
    {
     "data": {
      "text/html": [
       "<div>\n",
       "<style scoped>\n",
       "    .dataframe tbody tr th:only-of-type {\n",
       "        vertical-align: middle;\n",
       "    }\n",
       "\n",
       "    .dataframe tbody tr th {\n",
       "        vertical-align: top;\n",
       "    }\n",
       "\n",
       "    .dataframe thead th {\n",
       "        text-align: right;\n",
       "    }\n",
       "</style>\n",
       "<table border=\"1\" class=\"dataframe\">\n",
       "  <thead>\n",
       "    <tr style=\"text-align: right;\">\n",
       "      <th></th>\n",
       "      <th>High</th>\n",
       "      <th>Low</th>\n",
       "      <th>Open</th>\n",
       "      <th>Close</th>\n",
       "      <th>Volume</th>\n",
       "      <th>Adj Close</th>\n",
       "    </tr>\n",
       "  </thead>\n",
       "  <tbody>\n",
       "    <tr>\n",
       "      <th>High</th>\n",
       "      <td>1.000000</td>\n",
       "      <td>0.997820</td>\n",
       "      <td>0.998839</td>\n",
       "      <td>0.998936</td>\n",
       "      <td>-0.427911</td>\n",
       "      <td>0.998936</td>\n",
       "    </tr>\n",
       "    <tr>\n",
       "      <th>Low</th>\n",
       "      <td>0.997820</td>\n",
       "      <td>1.000000</td>\n",
       "      <td>0.998389</td>\n",
       "      <td>0.998874</td>\n",
       "      <td>-0.460159</td>\n",
       "      <td>0.998874</td>\n",
       "    </tr>\n",
       "    <tr>\n",
       "      <th>Open</th>\n",
       "      <td>0.998839</td>\n",
       "      <td>0.998389</td>\n",
       "      <td>1.000000</td>\n",
       "      <td>0.997847</td>\n",
       "      <td>-0.439423</td>\n",
       "      <td>0.997847</td>\n",
       "    </tr>\n",
       "    <tr>\n",
       "      <th>Close</th>\n",
       "      <td>0.998936</td>\n",
       "      <td>0.998874</td>\n",
       "      <td>0.997847</td>\n",
       "      <td>1.000000</td>\n",
       "      <td>-0.444646</td>\n",
       "      <td>1.000000</td>\n",
       "    </tr>\n",
       "    <tr>\n",
       "      <th>Volume</th>\n",
       "      <td>-0.427911</td>\n",
       "      <td>-0.460159</td>\n",
       "      <td>-0.439423</td>\n",
       "      <td>-0.444646</td>\n",
       "      <td>1.000000</td>\n",
       "      <td>-0.444646</td>\n",
       "    </tr>\n",
       "    <tr>\n",
       "      <th>Adj Close</th>\n",
       "      <td>0.998936</td>\n",
       "      <td>0.998874</td>\n",
       "      <td>0.997847</td>\n",
       "      <td>1.000000</td>\n",
       "      <td>-0.444646</td>\n",
       "      <td>1.000000</td>\n",
       "    </tr>\n",
       "  </tbody>\n",
       "</table>\n",
       "</div>"
      ],
      "text/plain": [
       "               High       Low      Open     Close    Volume  Adj Close\n",
       "High       1.000000  0.997820  0.998839  0.998936 -0.427911   0.998936\n",
       "Low        0.997820  1.000000  0.998389  0.998874 -0.460159   0.998874\n",
       "Open       0.998839  0.998389  1.000000  0.997847 -0.439423   0.997847\n",
       "Close      0.998936  0.998874  0.997847  1.000000 -0.444646   1.000000\n",
       "Volume    -0.427911 -0.460159 -0.439423 -0.444646  1.000000  -0.444646\n",
       "Adj Close  0.998936  0.998874  0.997847  1.000000 -0.444646   1.000000"
      ]
     },
     "execution_count": 7,
     "metadata": {},
     "output_type": "execute_result"
    }
   ],
   "source": [
    "df.corr()"
   ]
  },
  {
   "cell_type": "code",
   "execution_count": 8,
   "metadata": {},
   "outputs": [
    {
     "data": {
      "text/plain": [
       "Date\n",
       "2020-08-24    16.452000\n",
       "2020-08-25    16.462667\n",
       "2020-08-26    16.479667\n",
       "2020-08-27    16.446000\n",
       "2020-08-28    16.463000\n",
       "Name: Adj Close, dtype: float64"
      ]
     },
     "execution_count": 8,
     "metadata": {},
     "output_type": "execute_result"
    }
   ],
   "source": [
    "close_px = df['Adj Close']\n",
    "mavg = close_px.rolling(window=30).mean()\n",
    "mavg.tail()"
   ]
  },
  {
   "cell_type": "code",
   "execution_count": 9,
   "metadata": {},
   "outputs": [
    {
     "name": "stderr",
     "output_type": "stream",
     "text": [
      "C:\\Users\\hanif\\Anaconda3\\lib\\site-packages\\pandas\\plotting\\_matplotlib\\converter.py:256: MatplotlibDeprecationWarning: \n",
      "The epoch2num function was deprecated in Matplotlib 3.3 and will be removed two minor releases later.\n",
      "  base = dates.epoch2num(dt.asi8 / 1.0e9)\n",
      "C:\\Users\\hanif\\Anaconda3\\lib\\site-packages\\pandas\\plotting\\_matplotlib\\converter.py:256: MatplotlibDeprecationWarning: \n",
      "The epoch2num function was deprecated in Matplotlib 3.3 and will be removed two minor releases later.\n",
      "  base = dates.epoch2num(dt.asi8 / 1.0e9)\n"
     ]
    },
    {
     "data": {
      "text/plain": [
       "<matplotlib.legend.Legend at 0x1ef321d8a20>"
      ]
     },
     "execution_count": 9,
     "metadata": {},
     "output_type": "execute_result"
    },
    {
     "data": {
      "image/png": "[encoded data removed]",
      "text/plain": [
       "<Figure size 720x504 with 1 Axes>"
      ]
     },
     "metadata": {},
     "output_type": "display_data"
    }
   ],
   "source": [
    "%matplotlib inline\n",
    "import matplotlib.pyplot as plt\n",
    "from matplotlib import style\n",
    "\n",
    "# Adjusting the size of matplotlib\n",
    "import matplotlib as mpl\n",
    "mpl.rc('figure', figsize=(10, 7))\n",
    "mpl.__version__\n",
    "\n",
    "# Adjusting the style of matplotlib\n",
    "style.use('ggplot')\n",
    "\n",
    "close_px.plot(label='AAPL')\n",
    "mavg.plot(label='mavg')\n",
    "plt.legend()"
   ]
  },
  {
   "cell_type": "code",
   "execution_count": 10,
   "metadata": {},
   "outputs": [],
   "source": [
    "from statsmodels.graphics.tsaplots import plot_acf, plot_pacf"
   ]
  },
  {
   "cell_type": "code",
   "execution_count": 11,
   "metadata": {},
   "outputs": [],
   "source": [
    "# # Autocorrelation and partical autocorrelation in the Lynx dataset\n",
    "# # Two plots on one sheet\n",
    "\n",
    "# fig = plt.figure(figsize=(12,8))\n",
    "# ax1 = fig.add_subplot(211)\n",
    "# fig = plot_acf(mavg, lags=1000, ax=ax1)\n",
    "# ax2 = fig.add_subplot(212)\n",
    "# fig = plot_pacf(mavg, lags=1000, ax=ax2)"
   ]
  },
  {
   "cell_type": "code",
   "execution_count": 12,
   "metadata": {},
   "outputs": [
    {
     "name": "stderr",
     "output_type": "stream",
     "text": [
      "C:\\Users\\hanif\\Anaconda3\\lib\\site-packages\\pandas\\plotting\\_matplotlib\\converter.py:256: MatplotlibDeprecationWarning: \n",
      "The epoch2num function was deprecated in Matplotlib 3.3 and will be removed two minor releases later.\n",
      "  base = dates.epoch2num(dt.asi8 / 1.0e9)\n"
     ]
    },
    {
     "data": {
      "text/plain": [
       "<AxesSubplot:xlabel='Date'>"
      ]
     },
     "execution_count": 12,
     "metadata": {},
     "output_type": "execute_result"
    },
    {
     "data": {
      "image/png": "[encoded data removed]",
      "text/plain": [
       "<Figure size 720x504 with 1 Axes>"
      ]
     },
     "metadata": {},
     "output_type": "display_data"
    }
   ],
   "source": [
    "rets = close_px / close_px.shift(1) - 1\n",
    "rets.plot(label='return')"
   ]
  },
  {
   "cell_type": "code",
   "execution_count": 13,
   "metadata": {},
   "outputs": [
    {
     "data": {
      "text/html": [
       "<div>\n",
       "<style scoped>\n",
       "    .dataframe tbody tr th:only-of-type {\n",
       "        vertical-align: middle;\n",
       "    }\n",
       "\n",
       "    .dataframe tbody tr th {\n",
       "        vertical-align: top;\n",
       "    }\n",
       "\n",
       "    .dataframe thead th {\n",
       "        text-align: right;\n",
       "    }\n",
       "</style>\n",
       "<table border=\"1\" class=\"dataframe\">\n",
       "  <thead>\n",
       "    <tr style=\"text-align: right;\">\n",
       "      <th></th>\n",
       "      <th>Adj Close</th>\n",
       "      <th>Volume</th>\n",
       "      <th>HL_PCT</th>\n",
       "      <th>PCT_change</th>\n",
       "    </tr>\n",
       "    <tr>\n",
       "      <th>Date</th>\n",
       "      <th></th>\n",
       "      <th></th>\n",
       "      <th></th>\n",
       "      <th></th>\n",
       "    </tr>\n",
       "  </thead>\n",
       "  <tbody>\n",
       "    <tr>\n",
       "      <th>2020-08-24</th>\n",
       "      <td>16.969999</td>\n",
       "      <td>7138499</td>\n",
       "      <td>5.008842</td>\n",
       "      <td>4.753077</td>\n",
       "    </tr>\n",
       "    <tr>\n",
       "      <th>2020-08-25</th>\n",
       "      <td>16.680000</td>\n",
       "      <td>4660719</td>\n",
       "      <td>5.155879</td>\n",
       "      <td>-2.456141</td>\n",
       "    </tr>\n",
       "    <tr>\n",
       "      <th>2020-08-26</th>\n",
       "      <td>16.500000</td>\n",
       "      <td>3812658</td>\n",
       "      <td>2.393931</td>\n",
       "      <td>-1.138409</td>\n",
       "    </tr>\n",
       "    <tr>\n",
       "      <th>2020-08-27</th>\n",
       "      <td>17.190001</td>\n",
       "      <td>9343146</td>\n",
       "      <td>3.432229</td>\n",
       "      <td>2.443384</td>\n",
       "    </tr>\n",
       "    <tr>\n",
       "      <th>2020-08-28</th>\n",
       "      <td>17.990000</td>\n",
       "      <td>8387496</td>\n",
       "      <td>3.835467</td>\n",
       "      <td>3.988443</td>\n",
       "    </tr>\n",
       "  </tbody>\n",
       "</table>\n",
       "</div>"
      ],
      "text/plain": [
       "            Adj Close   Volume    HL_PCT  PCT_change\n",
       "Date                                                \n",
       "2020-08-24  16.969999  7138499  5.008842    4.753077\n",
       "2020-08-25  16.680000  4660719  5.155879   -2.456141\n",
       "2020-08-26  16.500000  3812658  2.393931   -1.138409\n",
       "2020-08-27  17.190001  9343146  3.432229    2.443384\n",
       "2020-08-28  17.990000  8387496  3.835467    3.988443"
      ]
     },
     "execution_count": 13,
     "metadata": {},
     "output_type": "execute_result"
    }
   ],
   "source": [
    "dfreg = df.loc[:,['Adj Close','Volume']]\n",
    "dfreg['HL_PCT'] = (df['High'] - df['Low']) / df['Close'] * 100.0\n",
    "dfreg['PCT_change'] = (df['Close'] - df['Open']) / df['Open'] * 100.0\n",
    "dfreg.tail()"
   ]
  },
  {
   "cell_type": "code",
   "execution_count": 14,
   "metadata": {},
   "outputs": [
    {
     "data": {
      "text/html": [
       "<div>\n",
       "<style scoped>\n",
       "    .dataframe tbody tr th:only-of-type {\n",
       "        vertical-align: middle;\n",
       "    }\n",
       "\n",
       "    .dataframe tbody tr th {\n",
       "        vertical-align: top;\n",
       "    }\n",
       "\n",
       "    .dataframe thead th {\n",
       "        text-align: right;\n",
       "    }\n",
       "</style>\n",
       "<table border=\"1\" class=\"dataframe\">\n",
       "  <thead>\n",
       "    <tr style=\"text-align: right;\">\n",
       "      <th></th>\n",
       "      <th>Adj Close</th>\n",
       "      <th>Volume</th>\n",
       "      <th>HL_PCT</th>\n",
       "      <th>PCT_change</th>\n",
       "    </tr>\n",
       "  </thead>\n",
       "  <tbody>\n",
       "    <tr>\n",
       "      <th>Adj Close</th>\n",
       "      <td>1.000000</td>\n",
       "      <td>-0.444646</td>\n",
       "      <td>-0.323789</td>\n",
       "      <td>0.131402</td>\n",
       "    </tr>\n",
       "    <tr>\n",
       "      <th>Volume</th>\n",
       "      <td>-0.444646</td>\n",
       "      <td>1.000000</td>\n",
       "      <td>0.646673</td>\n",
       "      <td>-0.146686</td>\n",
       "    </tr>\n",
       "    <tr>\n",
       "      <th>HL_PCT</th>\n",
       "      <td>-0.323789</td>\n",
       "      <td>0.646673</td>\n",
       "      <td>1.000000</td>\n",
       "      <td>-0.290032</td>\n",
       "    </tr>\n",
       "    <tr>\n",
       "      <th>PCT_change</th>\n",
       "      <td>0.131402</td>\n",
       "      <td>-0.146686</td>\n",
       "      <td>-0.290032</td>\n",
       "      <td>1.000000</td>\n",
       "    </tr>\n",
       "  </tbody>\n",
       "</table>\n",
       "</div>"
      ],
      "text/plain": [
       "            Adj Close    Volume    HL_PCT  PCT_change\n",
       "Adj Close    1.000000 -0.444646 -0.323789    0.131402\n",
       "Volume      -0.444646  1.000000  0.646673   -0.146686\n",
       "HL_PCT      -0.323789  0.646673  1.000000   -0.290032\n",
       "PCT_change   0.131402 -0.146686 -0.290032    1.000000"
      ]
     },
     "execution_count": 14,
     "metadata": {},
     "output_type": "execute_result"
    }
   ],
   "source": [
    "dfreg.corr()"
   ]
  },
  {
   "cell_type": "code",
   "execution_count": 15,
   "metadata": {},
   "outputs": [
    {
     "data": {
      "text/html": [
       "<div>\n",
       "<style scoped>\n",
       "    .dataframe tbody tr th:only-of-type {\n",
       "        vertical-align: middle;\n",
       "    }\n",
       "\n",
       "    .dataframe tbody tr th {\n",
       "        vertical-align: top;\n",
       "    }\n",
       "\n",
       "    .dataframe thead th {\n",
       "        text-align: right;\n",
       "    }\n",
       "</style>\n",
       "<table border=\"1\" class=\"dataframe\">\n",
       "  <thead>\n",
       "    <tr style=\"text-align: right;\">\n",
       "      <th></th>\n",
       "      <th>Adj Close</th>\n",
       "      <th>Volume</th>\n",
       "      <th>HL_PCT</th>\n",
       "      <th>PCT_change</th>\n",
       "    </tr>\n",
       "    <tr>\n",
       "      <th>Date</th>\n",
       "      <th></th>\n",
       "      <th></th>\n",
       "      <th></th>\n",
       "      <th></th>\n",
       "    </tr>\n",
       "  </thead>\n",
       "  <tbody>\n",
       "    <tr>\n",
       "      <th>2020-08-24</th>\n",
       "      <td>16.969999</td>\n",
       "      <td>7138499</td>\n",
       "      <td>5.008842</td>\n",
       "      <td>4.753077</td>\n",
       "    </tr>\n",
       "    <tr>\n",
       "      <th>2020-08-25</th>\n",
       "      <td>16.680000</td>\n",
       "      <td>4660719</td>\n",
       "      <td>5.155879</td>\n",
       "      <td>-2.456141</td>\n",
       "    </tr>\n",
       "    <tr>\n",
       "      <th>2020-08-26</th>\n",
       "      <td>16.500000</td>\n",
       "      <td>3812658</td>\n",
       "      <td>2.393931</td>\n",
       "      <td>-1.138409</td>\n",
       "    </tr>\n",
       "    <tr>\n",
       "      <th>2020-08-27</th>\n",
       "      <td>17.190001</td>\n",
       "      <td>9343146</td>\n",
       "      <td>3.432229</td>\n",
       "      <td>2.443384</td>\n",
       "    </tr>\n",
       "    <tr>\n",
       "      <th>2020-08-28</th>\n",
       "      <td>17.990000</td>\n",
       "      <td>8387496</td>\n",
       "      <td>3.835467</td>\n",
       "      <td>3.988443</td>\n",
       "    </tr>\n",
       "  </tbody>\n",
       "</table>\n",
       "</div>"
      ],
      "text/plain": [
       "            Adj Close   Volume    HL_PCT  PCT_change\n",
       "Date                                                \n",
       "2020-08-24  16.969999  7138499  5.008842    4.753077\n",
       "2020-08-25  16.680000  4660719  5.155879   -2.456141\n",
       "2020-08-26  16.500000  3812658  2.393931   -1.138409\n",
       "2020-08-27  17.190001  9343146  3.432229    2.443384\n",
       "2020-08-28  17.990000  8387496  3.835467    3.988443"
      ]
     },
     "execution_count": 15,
     "metadata": {},
     "output_type": "execute_result"
    }
   ],
   "source": [
    "import math\n",
    "import numpy as np\n",
    "\n",
    "#Drop missing value\n",
    "dfreg.fillna(value=-99999, inplace=True)\n",
    "dfreg.tail()"
   ]
  },
  {
   "cell_type": "code",
   "execution_count": 16,
   "metadata": {},
   "outputs": [
    {
     "data": {
      "text/plain": [
       "7"
      ]
     },
     "execution_count": 16,
     "metadata": {},
     "output_type": "execute_result"
    }
   ],
   "source": [
    "# We want to separate 1 percent of the data to forecast\n",
    "forecast_out = int(math.ceil(0.01 * len(dfreg)))\n",
    "forecast_out"
   ]
  },
  {
   "cell_type": "code",
   "execution_count": 17,
   "metadata": {},
   "outputs": [
    {
     "data": {
      "text/plain": [
       "array([[ 2.61900005e+01,  9.77849000e+05,  1.56548239e+00,\n",
       "         1.11969467e+00],\n",
       "       [ 2.53700008e+01,  2.14617800e+06,  4.23728348e+00,\n",
       "        -3.31554474e+00],\n",
       "       [ 2.49899998e+01,  1.04962000e+06,  1.52061253e+00,\n",
       "        -1.02970388e+00],\n",
       "       ...,\n",
       "       [ 1.65000000e+01,  3.81265800e+06,  2.39393061e+00,\n",
       "        -1.13840939e+00],\n",
       "       [ 1.71900005e+01,  9.34314600e+06,  3.43222882e+00,\n",
       "         2.44338397e+00],\n",
       "       [ 1.79899998e+01,  8.38749600e+06,  3.83546716e+00,\n",
       "         3.98844257e+00]])"
      ]
     },
     "execution_count": 17,
     "metadata": {},
     "output_type": "execute_result"
    }
   ],
   "source": [
    "# Separating the label here, we want to predict the AdjClose\n",
    "forecast_col = 'Adj Close'\n",
    "dfreg['label'] = dfreg[forecast_col].shift(-forecast_out)\n",
    "X = np.array(dfreg.drop(['label'], 1))\n",
    "X"
   ]
  },
  {
   "cell_type": "code",
   "execution_count": 18,
   "metadata": {},
   "outputs": [
    {
     "data": {
      "text/plain": [
       "array([[-0.40777747, -0.48155355, -0.59477159,  0.45009975],\n",
       "       [-0.48575218, -0.02700891,  0.14028439, -1.21803753],\n",
       "       [-0.52188691, -0.45363066, -0.60711602, -0.35831024],\n",
       "       ...,\n",
       "       [-1.32921067,  0.62134404, -0.366852  , -0.39919546],\n",
       "       [-1.26359773,  2.77300994, -0.08119926,  0.94795235],\n",
       "       [-1.18752489,  2.40120921,  0.02973817,  1.52906412]])"
      ]
     },
     "execution_count": 18,
     "metadata": {},
     "output_type": "execute_result"
    }
   ],
   "source": [
    "# Scale the X so that everyone can have the same distribution for linear regression\n",
    "from sklearn import preprocessing\n",
    "\n",
    "X = preprocessing.scale(X)\n",
    "X"
   ]
  },
  {
   "cell_type": "code",
   "execution_count": 19,
   "metadata": {},
   "outputs": [
    {
     "data": {
      "text/plain": [
       "array([[-0.40777747, -0.48155355, -0.59477159,  0.45009975],\n",
       "       [-0.48575218, -0.02700891,  0.14028439, -1.21803753],\n",
       "       [-0.52188691, -0.45363066, -0.60711602, -0.35831024],\n",
       "       ...,\n",
       "       [-1.3596398 ,  0.74106454,  0.3688234 , -1.61595287],\n",
       "       [-1.38911809,  0.42143223, -0.05466586, -0.75990606],\n",
       "       [-1.33967075,  0.86103442,  0.25024772,  1.26134043]])"
      ]
     },
     "execution_count": 19,
     "metadata": {},
     "output_type": "execute_result"
    }
   ],
   "source": [
    "# Finally We want to find Data Series of late X and early X (train) for model generation and evaluation\n",
    "X_lately = X[-forecast_out:]\n",
    "X = X[:-forecast_out]\n",
    "X"
   ]
  },
  {
   "cell_type": "code",
   "execution_count": 20,
   "metadata": {},
   "outputs": [
    {
     "data": {
      "text/plain": [
       "array([23.79000092, 24.48999977, 23.90999985, 23.06999969, 22.90999985,\n",
       "       22.95999908, 22.93000031, 23.44000053, 23.15999985, 22.79999924,\n",
       "       23.02000046, 23.05999947, 23.37999916, 23.90999985, 23.90999985,\n",
       "       23.85000038, 23.70000076, 23.14999962, 23.36000061, 23.94000053,\n",
       "       23.54000092, 22.59000015, 22.93000031, 22.71999931, 23.25      ,\n",
       "       24.32999992, 24.63999939, 25.38999939, 26.25      , 25.98999977,\n",
       "       25.98999977, 26.96999931, 27.17000008, 27.05999947, 27.29999924,\n",
       "       26.88999939, 27.04999924, 26.80999947, 26.75      , 27.03000069,\n",
       "       27.15999985, 27.31999969, 27.57999992, 28.03000069, 28.11000061,\n",
       "       28.01000023, 27.79000092, 29.        , 28.57999992, 27.17000008,\n",
       "       26.86000061, 26.68000031, 26.28000069, 25.93000031, 26.77000046,\n",
       "       26.30999947, 26.28000069, 26.35000038, 25.87999916, 25.80999947,\n",
       "       25.40999985, 25.36000061, 25.        , 24.95999908, 24.75      ,\n",
       "       25.19000053, 25.81999969, 26.23999977, 25.70999908, 25.81999969,\n",
       "       25.71999931, 25.60000038, 25.11000061, 24.76000023, 25.01000023,\n",
       "       25.23999977, 25.09000015, 24.80999947, 24.14999962, 24.04999924,\n",
       "       23.95999908, 23.70999908, 23.10000038, 22.88999939, 23.76000023,\n",
       "       23.61000061, 24.64999962, 24.69000053, 24.59000015, 24.31999969,\n",
       "       23.96999931, 23.80999947, 24.21999931, 24.46999931, 24.71999931,\n",
       "       23.89999962, 23.54000092, 22.96999931, 22.87999916, 23.70999908,\n",
       "       23.5       , 23.68000031, 23.18000031, 23.19000053, 23.13999939,\n",
       "       23.43000031, 23.28000069, 23.18000031, 23.19000053, 23.01000023,\n",
       "       23.13999939, 23.52000046, 23.47999954, 23.29999924, 22.47999954,\n",
       "       22.04999924, 21.18000031, 20.79000092, 21.25      , 21.31999969,\n",
       "       21.25      , 21.        , 20.92000008, 21.71999931, 21.12999916,\n",
       "       20.72999954, 20.90999985, 20.84000015, 20.72999954, 21.45999908,\n",
       "       22.34000015, 22.18000031, 21.93000031, 22.04000092, 22.09000015,\n",
       "       22.39999962, 23.47999954, 23.40999985, 24.29999924, 23.53000069,\n",
       "       23.40999985, 23.27000046, 23.72999954, 23.78000069, 24.62999916,\n",
       "       23.90999985, 23.48999977, 23.51000023, 23.5       , 23.39999962,\n",
       "       23.87000084, 24.01000023, 24.71999931, 26.78000069, 26.52000046,\n",
       "       26.77000046, 26.81999969, 26.80999947, 27.10000038, 27.04000092,\n",
       "       26.88999939, 26.81999969, 26.54000092, 26.57999992, 26.76000023,\n",
       "       26.82999992, 26.82999992, 27.32999992, 27.18000031, 26.77000046,\n",
       "       27.39999962, 27.12999916, 27.37000084, 27.37000084, 27.65999985,\n",
       "       28.32999992, 28.18000031, 27.48999977, 27.72999954, 27.53000069,\n",
       "       27.60000038, 26.20999908, 25.95999908, 25.57999992, 25.20999908,\n",
       "       25.40999985, 24.76000023, 24.12999916, 24.12999916, 24.30999947,\n",
       "       24.51000023, 25.48999977, 25.64999962, 24.40999985, 24.19000053,\n",
       "       24.17000008, 24.62000084, 22.65999985, 23.84000015, 24.13999939,\n",
       "       23.85000038, 23.40999985, 24.97999954, 25.96999931, 26.48999977,\n",
       "       26.67000008, 26.34000015, 26.97999954, 26.60000038, 26.51000023,\n",
       "       26.70000076, 26.98999977, 26.62999916, 25.95000076, 25.51000023,\n",
       "       25.06999969, 24.75      , 25.36000061, 25.28000069, 26.17000008,\n",
       "       27.40999985, 27.60000038, 28.23999977, 28.64999962, 29.        ,\n",
       "       28.90999985, 27.68000031, 28.04000092, 27.79999924, 26.77000046,\n",
       "       26.82999992, 26.70000076, 26.26000023, 25.51000023, 25.43000031,\n",
       "       25.28000069, 26.06999969, 26.04999924, 25.69000053, 24.5       ,\n",
       "       23.89999962, 25.12000084, 25.32999992, 25.95999908, 25.82999992,\n",
       "       25.11000061, 26.69000053, 26.71999931, 26.65999985, 26.77000046,\n",
       "       26.54000092, 27.21999931, 27.53000069, 27.56999969, 28.04000092,\n",
       "       28.34000015, 28.28000069, 28.45999908, 27.97999954, 27.97999954,\n",
       "       28.44000053, 28.54000092, 28.61000061, 28.93000031, 29.23999977,\n",
       "       29.67000008, 30.21999931, 30.28000069, 31.20999908, 31.31999969,\n",
       "       31.18000031, 31.36000061, 31.68000031, 31.69000053, 31.63999939,\n",
       "       31.97999954, 33.15000153, 33.02000046, 32.88999939, 33.29999924,\n",
       "       33.13999939, 33.40000153, 33.91999817, 34.27000046, 33.11000061,\n",
       "       34.        , 33.59999847, 33.02000046, 32.77999878, 33.        ,\n",
       "       33.15999985, 33.36000061, 32.04000092, 32.00999832, 31.88999939,\n",
       "       31.65999985, 31.42000008, 31.75      , 31.44000053, 31.45999908,\n",
       "       31.61000061, 30.95999908, 31.92000008, 32.20000076, 32.13000107,\n",
       "       32.20999908, 33.56000137, 33.58000183, 33.49000168, 33.02999878,\n",
       "       32.97999954, 32.88000107, 32.31999969, 32.36999893, 32.79000092,\n",
       "       32.52999878, 31.95000076, 31.65999985, 32.24000168, 32.59000015,\n",
       "       32.13999939, 31.56999969, 31.45000076, 32.06000137, 31.81999969,\n",
       "       31.95000076, 32.15999985, 32.86999893, 32.56999969, 33.61999893,\n",
       "       35.27999878, 35.5       , 36.29999924, 35.86999893, 36.20999908,\n",
       "       38.20999908, 38.79999924, 38.88000107, 40.40000153, 40.86000061,\n",
       "       40.77999878, 39.72000122, 39.49000168, 40.43000031, 41.22000122,\n",
       "       40.72000122, 40.50999832, 40.34999847, 39.90000153, 39.15999985,\n",
       "       39.40999985, 39.34000015, 39.02999878, 39.08000183, 38.61999893,\n",
       "       39.97000122, 39.79999924, 39.88000107, 39.99000168, 39.54000092,\n",
       "       39.54000092, 40.72999954, 39.45999908, 40.        , 40.16999817,\n",
       "       39.5       , 39.36000061, 40.59999847, 39.68999863, 40.59999847,\n",
       "       41.06000137, 41.88999939, 41.72999954, 41.49000168, 40.75999832,\n",
       "       41.75999832, 41.88000107, 42.50999832, 42.86999893, 43.34999847,\n",
       "       43.45000076, 44.31999969, 44.20999908, 44.09999847, 44.22000122,\n",
       "       44.5       , 44.06999969, 45.54999924, 45.09000015, 46.68999863,\n",
       "       45.40999985, 44.97999954, 44.40999985, 44.15999985, 43.31000137,\n",
       "       44.47000122, 44.5       , 43.75999832, 43.5       , 42.31999969,\n",
       "       41.86000061, 43.58000183, 43.66999817, 43.20999908, 44.20999908,\n",
       "       43.90000153, 43.09999847, 42.45000076, 42.70999908, 42.68999863,\n",
       "       43.54999924, 44.75      , 43.61999893, 43.56999969, 44.09000015,\n",
       "       44.56000137, 44.        , 42.38000107, 42.70000076, 42.90999985,\n",
       "       43.13000107, 41.81000137, 44.00999832, 43.40000153, 43.02999878,\n",
       "       42.75      , 43.04000092, 43.        , 43.13000107, 43.13999939,\n",
       "       42.95000076, 43.20999908, 43.11999893, 42.54000092, 43.09999847,\n",
       "       43.27000046, 43.24000168, 42.88000107, 43.65999985, 44.81000137,\n",
       "       45.54999924, 45.63000107, 45.38000107, 45.54000092, 45.25999832,\n",
       "       46.22999954, 45.43000031, 45.72999954, 46.00999832, 45.99000168,\n",
       "       45.72000122, 47.41999817, 46.56000137, 46.90000153, 46.99000168,\n",
       "       47.27999878, 47.06000137, 48.59999847, 47.33000183, 48.63000107,\n",
       "       48.13000107, 48.56000137, 48.86999893, 49.29999924, 49.36000061,\n",
       "       49.56000137, 49.88000107, 49.75      , 49.45000076, 49.16999817,\n",
       "       49.84999847, 50.54000092, 50.20000076, 50.63999939, 50.04999924,\n",
       "       49.47000122, 49.36999893, 49.20000076, 49.18999863, 49.02999878,\n",
       "       48.86999893, 48.56000137, 49.38999939, 48.79999924, 49.5       ,\n",
       "       49.88000107, 50.33000183, 50.00999832, 49.34999847, 49.70000076,\n",
       "       49.68999863, 49.59999847, 49.68000031, 48.84999847, 48.50999832,\n",
       "       50.        , 48.31000137, 47.29999924, 48.24000168, 49.04000092,\n",
       "       49.59999847, 50.90000153, 52.09000015, 52.00999832, 51.54000092,\n",
       "       51.79000092, 51.08000183, 51.15000153, 48.84000015, 48.68000031,\n",
       "       48.41999817, 47.18000031, 44.74000168, 45.09999847, 45.59999847,\n",
       "       44.93000031, 44.33000183, 44.77999878, 46.50999832, 46.70000076,\n",
       "       46.34999847, 45.45999908, 45.08000183, 46.58000183, 47.06999969,\n",
       "       47.04999924, 46.22000122, 45.        , 45.31000137, 44.45000076,\n",
       "       42.18000031, 40.06999969, 37.38999939, 34.91999817, 35.45000076,\n",
       "       34.25      , 34.56999969, 34.93999863, 35.06999969, 32.15999985,\n",
       "       33.15999985, 30.30999947, 31.21999931, 27.39999962, 24.89999962,\n",
       "       25.37000084, 18.22999954, 16.09000015, 12.89999962, 12.14999962,\n",
       "       12.40999985, 12.69999981, 15.10999966, 17.51000023, 17.90999985,\n",
       "       16.75      , 16.07999992, 15.75      , 14.46000004, 14.72000027,\n",
       "       14.55000019, 15.15999985, 16.56999969, 18.73999977, 20.07999992,\n",
       "       19.30999947, 19.43000031, 18.65999985, 17.10000038, 18.14999962,\n",
       "       18.12000084, 17.75      , 17.95999908, 18.19000053, 18.23999977,\n",
       "       18.79999924, 20.60000038, 21.64999962, 20.23999977, 19.29999924,\n",
       "       17.62999916, 17.01000023, 16.68000031, 16.53000069, 17.04999924,\n",
       "       16.29999924, 15.31999969, 14.10000038, 15.22000027, 14.61999989,\n",
       "       16.72999954, 17.01000023, 16.97999954, 16.70999908, 16.76000023,\n",
       "       17.67000008, 16.44000053, 16.        , 15.89999962, 16.40999985,\n",
       "       16.69000053, 18.37000084, 19.42000008, 20.29000092, 23.38999939,\n",
       "       21.01000023, 19.51000023, 17.85000038, 19.39999962, 18.54000092,\n",
       "       19.22999954, 18.75      , 18.80999947, 18.39999962, 18.54000092,\n",
       "       18.        , 17.19000053, 17.10000038, 16.70000076, 17.47999954,\n",
       "       16.95000076, 17.12999916, 17.20999908, 16.92000008, 16.20999908,\n",
       "       16.56999969, 16.20000076, 16.17000008, 16.36000061, 15.98999977,\n",
       "       18.20000076, 17.47999954, 16.93000031, 16.97999954, 16.96999931,\n",
       "       16.84000015, 16.81999969, 16.46999931, 16.32999992, 16.72999954,\n",
       "       16.36000061, 16.09000015, 15.10999966, 15.11999989, 15.72000027,\n",
       "       15.94999981, 15.72999954, 16.22999954, 16.69000053, 16.95000076,\n",
       "       17.07999992, 16.85000038, 16.18000031, 15.86999989, 16.38999939,\n",
       "       16.18000031, 15.98999977, 16.96999931, 16.68000031, 16.5       ,\n",
       "       17.19000053, 17.98999977])"
      ]
     },
     "execution_count": 20,
     "metadata": {},
     "output_type": "execute_result"
    }
   ],
   "source": [
    "# Separate label and identify it as y\n",
    "y = np.array(dfreg['label'])\n",
    "y = y[:-forecast_out]\n",
    "y"
   ]
  },
  {
   "cell_type": "code",
   "execution_count": 21,
   "metadata": {},
   "outputs": [],
   "source": [
    "from sklearn.model_selection import train_test_split\n",
    "X_train, X_test, y_train, y_test = train_test_split(X, y, test_size=0.2)"
   ]
  },
  {
   "cell_type": "code",
   "execution_count": 22,
   "metadata": {},
   "outputs": [],
   "source": [
    "# X_lat = X[-len(y_test):]"
   ]
  },
  {
   "cell_type": "code",
   "execution_count": 23,
   "metadata": {},
   "outputs": [],
   "source": [
    "from sklearn.linear_model import LinearRegression\n",
    "from sklearn.neighbors import KNeighborsRegressor\n",
    "\n",
    "from sklearn.linear_model import Ridge\n",
    "from sklearn.preprocessing import PolynomialFeatures\n",
    "from sklearn.pipeline import make_pipeline"
   ]
  },
  {
   "cell_type": "code",
   "execution_count": 24,
   "metadata": {},
   "outputs": [
    {
     "data": {
      "text/plain": [
       "Pipeline(memory=None,\n",
       "         steps=[('polynomialfeatures',\n",
       "                 PolynomialFeatures(degree=3, include_bias=True,\n",
       "                                    interaction_only=False, order='C')),\n",
       "                ('ridge',\n",
       "                 Ridge(alpha=1.0, copy_X=True, fit_intercept=True,\n",
       "                       max_iter=None, normalize=False, random_state=None,\n",
       "                       solver='auto', tol=0.001))],\n",
       "         verbose=False)"
      ]
     },
     "execution_count": 24,
     "metadata": {},
     "output_type": "execute_result"
    }
   ],
   "source": [
    "# Linear regression\n",
    "clfreg = LinearRegression(n_jobs=-1)\n",
    "clfreg.fit(X_train, y_train)\n",
    "\n",
    "# Quadratic Regression 2\n",
    "clfpoly2 = make_pipeline(PolynomialFeatures(2), Ridge())\n",
    "clfpoly2.fit(X_train, y_train)\n",
    "\n",
    "# Quadratic Regression 3\n",
    "clfpoly3 = make_pipeline(PolynomialFeatures(3), Ridge())\n",
    "clfpoly3.fit(X_train, y_train)"
   ]
  },
  {
   "cell_type": "code",
   "execution_count": 25,
   "metadata": {},
   "outputs": [
    {
     "data": {
      "text/plain": [
       "RandomForestRegressor(bootstrap=True, ccp_alpha=0.0, criterion='mse',\n",
       "                      max_depth=None, max_features='auto', max_leaf_nodes=None,\n",
       "                      max_samples=None, min_impurity_decrease=0.0,\n",
       "                      min_impurity_split=None, min_samples_leaf=1,\n",
       "                      min_samples_split=2, min_weight_fraction_leaf=0.0,\n",
       "                      n_estimators=200, n_jobs=None, oob_score=False,\n",
       "                      random_state=None, verbose=0, warm_start=False)"
      ]
     },
     "execution_count": 25,
     "metadata": {},
     "output_type": "execute_result"
    }
   ],
   "source": [
    "from sklearn.ensemble import RandomForestRegressor\n",
    "forest = RandomForestRegressor(200)\n",
    "forest.fit(X_train, y_train)"
   ]
  },
  {
   "cell_type": "code",
   "execution_count": 26,
   "metadata": {},
   "outputs": [],
   "source": [
    "# from sklearn import metrics\n",
    "# y_pred = forest.predict(X_lat)\n",
    "# forest.score(y_pred, y_test)"
   ]
  },
  {
   "cell_type": "code",
   "execution_count": 27,
   "metadata": {},
   "outputs": [
    {
     "data": {
      "text/plain": [
       "KNeighborsRegressor(algorithm='auto', leaf_size=30, metric='minkowski',\n",
       "                    metric_params=None, n_jobs=None, n_neighbors=2, p=2,\n",
       "                    weights='uniform')"
      ]
     },
     "execution_count": 27,
     "metadata": {},
     "output_type": "execute_result"
    }
   ],
   "source": [
    "# KNN Regression\n",
    "clfknn = KNeighborsRegressor(n_neighbors=2)\n",
    "clfknn.fit(X_train, y_train)"
   ]
  },
  {
   "cell_type": "code",
   "execution_count": 28,
   "metadata": {},
   "outputs": [],
   "source": [
    "confidencereg = clfreg.score(X_test, y_test)\n",
    "confidencepoly2 = clfpoly2.score(X_test,y_test)\n",
    "confidencepoly3 = clfpoly3.score(X_test,y_test)\n",
    "confidenceknn = clfknn.score(X_test, y_test)\n",
    "confiforest = forest.score(X_test, y_test)"
   ]
  },
  {
   "cell_type": "code",
   "execution_count": 29,
   "metadata": {},
   "outputs": [
    {
     "data": {
      "text/plain": [
       "0.9463263315690524"
      ]
     },
     "execution_count": 29,
     "metadata": {},
     "output_type": "execute_result"
    }
   ],
   "source": [
    "confidencereg"
   ]
  },
  {
   "cell_type": "code",
   "execution_count": 30,
   "metadata": {},
   "outputs": [
    {
     "data": {
      "text/plain": [
       "0.9574559052721889"
      ]
     },
     "execution_count": 30,
     "metadata": {},
     "output_type": "execute_result"
    }
   ],
   "source": [
    "confidencepoly2"
   ]
  },
  {
   "cell_type": "code",
   "execution_count": 31,
   "metadata": {},
   "outputs": [
    {
     "data": {
      "text/plain": [
       "0.9059396083295911"
      ]
     },
     "execution_count": 31,
     "metadata": {},
     "output_type": "execute_result"
    }
   ],
   "source": [
    "confidencepoly3"
   ]
  },
  {
   "cell_type": "code",
   "execution_count": 32,
   "metadata": {},
   "outputs": [
    {
     "data": {
      "text/plain": [
       "0.925316813695751"
      ]
     },
     "execution_count": 32,
     "metadata": {},
     "output_type": "execute_result"
    }
   ],
   "source": [
    "confidenceknn"
   ]
  },
  {
   "cell_type": "code",
   "execution_count": 33,
   "metadata": {},
   "outputs": [
    {
     "data": {
      "text/plain": [
       "0.959709367883349"
      ]
     },
     "execution_count": 33,
     "metadata": {},
     "output_type": "execute_result"
    }
   ],
   "source": [
    "confiforest"
   ]
  },
  {
   "cell_type": "code",
   "execution_count": 34,
   "metadata": {},
   "outputs": [],
   "source": [
    "# forecast_set = clfreg.predict(X_lately)\n",
    "forecast_set = forest.predict(X_lately)\n",
    "dfreg['Forecast'] = np.nan"
   ]
  },
  {
   "cell_type": "code",
   "execution_count": 35,
   "metadata": {},
   "outputs": [
    {
     "name": "stderr",
     "output_type": "stream",
     "text": [
      "C:\\Users\\hanif\\Anaconda3\\lib\\site-packages\\pandas\\plotting\\_matplotlib\\converter.py:256: MatplotlibDeprecationWarning: \n",
      "The epoch2num function was deprecated in Matplotlib 3.3 and will be removed two minor releases later.\n",
      "  base = dates.epoch2num(dt.asi8 / 1.0e9)\n",
      "C:\\Users\\hanif\\Anaconda3\\lib\\site-packages\\pandas\\plotting\\_matplotlib\\converter.py:256: MatplotlibDeprecationWarning: \n",
      "The epoch2num function was deprecated in Matplotlib 3.3 and will be removed two minor releases later.\n",
      "  base = dates.epoch2num(dt.asi8 / 1.0e9)\n"
     ]
    },
    {
     "data": {
      "image/png": "[encoded data removed]",
      "text/plain": [
       "<Figure size 720x504 with 1 Axes>"
      ]
     },
     "metadata": {},
     "output_type": "display_data"
    }
   ],
   "source": [
    "last_date = dfreg.iloc[-1].name\n",
    "last_unix = last_date\n",
    "next_unix = last_unix + datetime.timedelta(days=1)\n",
    "\n",
    "for i in forecast_set:\n",
    "    next_date = next_unix\n",
    "    next_unix += datetime.timedelta(days=1)\n",
    "    dfreg.loc[next_date] = [np.nan for _ in range(len(dfreg.columns)-1)]+[i]\n",
    "dfreg['Adj Close'].tail(100).plot(gid=1)\n",
    "dfreg['Forecast'].tail(100).plot(gid=1)\n",
    "plt.legend(loc=0)\n",
    "plt.xlabel('Date')\n",
    "plt.ylabel('Price')\n",
    "plt.show()"
   ]
  },
  {
   "cell_type": "code",
   "execution_count": 37,
   "metadata": {},
   "outputs": [
    {
     "data": {
      "text/html": [
       "<div>\n",
       "<style scoped>\n",
       "    .dataframe tbody tr th:only-of-type {\n",
       "        vertical-align: middle;\n",
       "    }\n",
       "\n",
       "    .dataframe tbody tr th {\n",
       "        vertical-align: top;\n",
       "    }\n",
       "\n",
       "    .dataframe thead th {\n",
       "        text-align: right;\n",
       "    }\n",
       "</style>\n",
       "<table border=\"1\" class=\"dataframe\">\n",
       "  <thead>\n",
       "    <tr style=\"text-align: right;\">\n",
       "      <th></th>\n",
       "      <th>Adj Close</th>\n",
       "      <th>Volume</th>\n",
       "      <th>HL_PCT</th>\n",
       "      <th>PCT_change</th>\n",
       "      <th>label</th>\n",
       "      <th>Forecast</th>\n",
       "    </tr>\n",
       "    <tr>\n",
       "      <th>Date</th>\n",
       "      <th></th>\n",
       "      <th></th>\n",
       "      <th></th>\n",
       "      <th></th>\n",
       "      <th></th>\n",
       "      <th></th>\n",
       "    </tr>\n",
       "  </thead>\n",
       "  <tbody>\n",
       "    <tr>\n",
       "      <th>2020-06-03</th>\n",
       "      <td>18.370001</td>\n",
       "      <td>12157442.0</td>\n",
       "      <td>8.818730</td>\n",
       "      <td>7.868468</td>\n",
       "      <td>19.400000</td>\n",
       "      <td>NaN</td>\n",
       "    </tr>\n",
       "    <tr>\n",
       "      <th>2020-06-04</th>\n",
       "      <td>19.420000</td>\n",
       "      <td>15276733.0</td>\n",
       "      <td>6.951598</td>\n",
       "      <td>1.835346</td>\n",
       "      <td>18.540001</td>\n",
       "      <td>NaN</td>\n",
       "    </tr>\n",
       "    <tr>\n",
       "      <th>2020-06-05</th>\n",
       "      <td>20.290001</td>\n",
       "      <td>19742537.0</td>\n",
       "      <td>12.567763</td>\n",
       "      <td>-7.520509</td>\n",
       "      <td>19.230000</td>\n",
       "      <td>NaN</td>\n",
       "    </tr>\n",
       "    <tr>\n",
       "      <th>2020-06-08</th>\n",
       "      <td>23.389999</td>\n",
       "      <td>16674725.0</td>\n",
       "      <td>10.688329</td>\n",
       "      <td>6.803652</td>\n",
       "      <td>18.750000</td>\n",
       "      <td>NaN</td>\n",
       "    </tr>\n",
       "    <tr>\n",
       "      <th>2020-06-09</th>\n",
       "      <td>21.010000</td>\n",
       "      <td>14740665.0</td>\n",
       "      <td>8.186584</td>\n",
       "      <td>-5.573033</td>\n",
       "      <td>18.809999</td>\n",
       "      <td>NaN</td>\n",
       "    </tr>\n",
       "    <tr>\n",
       "      <th>2020-06-10</th>\n",
       "      <td>19.510000</td>\n",
       "      <td>12646157.0</td>\n",
       "      <td>8.559713</td>\n",
       "      <td>-4.829267</td>\n",
       "      <td>18.400000</td>\n",
       "      <td>NaN</td>\n",
       "    </tr>\n",
       "    <tr>\n",
       "      <th>2020-06-11</th>\n",
       "      <td>17.850000</td>\n",
       "      <td>12470911.0</td>\n",
       "      <td>9.971992</td>\n",
       "      <td>2.000002</td>\n",
       "      <td>18.540001</td>\n",
       "      <td>NaN</td>\n",
       "    </tr>\n",
       "    <tr>\n",
       "      <th>2020-06-12</th>\n",
       "      <td>19.400000</td>\n",
       "      <td>14378888.0</td>\n",
       "      <td>7.628864</td>\n",
       "      <td>0.258394</td>\n",
       "      <td>18.000000</td>\n",
       "      <td>NaN</td>\n",
       "    </tr>\n",
       "    <tr>\n",
       "      <th>2020-06-15</th>\n",
       "      <td>18.540001</td>\n",
       "      <td>10437549.0</td>\n",
       "      <td>6.364618</td>\n",
       "      <td>0.815669</td>\n",
       "      <td>17.190001</td>\n",
       "      <td>NaN</td>\n",
       "    </tr>\n",
       "    <tr>\n",
       "      <th>2020-06-16</th>\n",
       "      <td>19.230000</td>\n",
       "      <td>9399592.0</td>\n",
       "      <td>4.836185</td>\n",
       "      <td>-2.829719</td>\n",
       "      <td>17.100000</td>\n",
       "      <td>NaN</td>\n",
       "    </tr>\n",
       "    <tr>\n",
       "      <th>2020-06-17</th>\n",
       "      <td>18.750000</td>\n",
       "      <td>5020352.0</td>\n",
       "      <td>2.880005</td>\n",
       "      <td>-1.315789</td>\n",
       "      <td>16.700001</td>\n",
       "      <td>NaN</td>\n",
       "    </tr>\n",
       "    <tr>\n",
       "      <th>2020-06-18</th>\n",
       "      <td>18.809999</td>\n",
       "      <td>4773201.0</td>\n",
       "      <td>4.518875</td>\n",
       "      <td>1.675673</td>\n",
       "      <td>17.480000</td>\n",
       "      <td>NaN</td>\n",
       "    </tr>\n",
       "    <tr>\n",
       "      <th>2020-06-19</th>\n",
       "      <td>18.400000</td>\n",
       "      <td>5516549.0</td>\n",
       "      <td>5.489132</td>\n",
       "      <td>-3.916449</td>\n",
       "      <td>16.950001</td>\n",
       "      <td>NaN</td>\n",
       "    </tr>\n",
       "    <tr>\n",
       "      <th>2020-06-22</th>\n",
       "      <td>18.540001</td>\n",
       "      <td>3811777.0</td>\n",
       "      <td>4.800428</td>\n",
       "      <td>2.205080</td>\n",
       "      <td>17.129999</td>\n",
       "      <td>NaN</td>\n",
       "    </tr>\n",
       "    <tr>\n",
       "      <th>2020-06-23</th>\n",
       "      <td>18.000000</td>\n",
       "      <td>6302357.0</td>\n",
       "      <td>5.111112</td>\n",
       "      <td>-3.743319</td>\n",
       "      <td>17.209999</td>\n",
       "      <td>NaN</td>\n",
       "    </tr>\n",
       "    <tr>\n",
       "      <th>2020-06-24</th>\n",
       "      <td>17.190001</td>\n",
       "      <td>5681788.0</td>\n",
       "      <td>4.363002</td>\n",
       "      <td>-3.263927</td>\n",
       "      <td>16.920000</td>\n",
       "      <td>NaN</td>\n",
       "    </tr>\n",
       "    <tr>\n",
       "      <th>2020-06-25</th>\n",
       "      <td>17.100000</td>\n",
       "      <td>5068291.0</td>\n",
       "      <td>5.321636</td>\n",
       "      <td>0.766064</td>\n",
       "      <td>NaN</td>\n",
       "      <td>NaN</td>\n",
       "    </tr>\n",
       "    <tr>\n",
       "      <th>2020-06-26</th>\n",
       "      <td>16.700001</td>\n",
       "      <td>4187352.0</td>\n",
       "      <td>3.772461</td>\n",
       "      <td>-2.224819</td>\n",
       "      <td>NaN</td>\n",
       "      <td>NaN</td>\n",
       "    </tr>\n",
       "    <tr>\n",
       "      <th>2020-06-29</th>\n",
       "      <td>17.480000</td>\n",
       "      <td>5084406.0</td>\n",
       "      <td>7.494287</td>\n",
       "      <td>3.800471</td>\n",
       "      <td>NaN</td>\n",
       "      <td>NaN</td>\n",
       "    </tr>\n",
       "    <tr>\n",
       "      <th>2020-06-30</th>\n",
       "      <td>16.950001</td>\n",
       "      <td>5011477.0</td>\n",
       "      <td>4.188785</td>\n",
       "      <td>-2.474099</td>\n",
       "      <td>NaN</td>\n",
       "      <td>NaN</td>\n",
       "    </tr>\n",
       "    <tr>\n",
       "      <th>2020-07-02</th>\n",
       "      <td>17.129999</td>\n",
       "      <td>4269568.0</td>\n",
       "      <td>1.926444</td>\n",
       "      <td>-0.753193</td>\n",
       "      <td>NaN</td>\n",
       "      <td>NaN</td>\n",
       "    </tr>\n",
       "    <tr>\n",
       "      <th>2020-07-03</th>\n",
       "      <td>17.209999</td>\n",
       "      <td>1138989.0</td>\n",
       "      <td>1.685061</td>\n",
       "      <td>0.349851</td>\n",
       "      <td>NaN</td>\n",
       "      <td>NaN</td>\n",
       "    </tr>\n",
       "    <tr>\n",
       "      <th>2020-07-06</th>\n",
       "      <td>16.920000</td>\n",
       "      <td>3888597.0</td>\n",
       "      <td>4.373532</td>\n",
       "      <td>-2.758618</td>\n",
       "      <td>NaN</td>\n",
       "      <td>NaN</td>\n",
       "    </tr>\n",
       "    <tr>\n",
       "      <th>2020-07-07</th>\n",
       "      <td>NaN</td>\n",
       "      <td>NaN</td>\n",
       "      <td>NaN</td>\n",
       "      <td>NaN</td>\n",
       "      <td>NaN</td>\n",
       "      <td>17.07695</td>\n",
       "    </tr>\n",
       "    <tr>\n",
       "      <th>2020-07-08</th>\n",
       "      <td>NaN</td>\n",
       "      <td>NaN</td>\n",
       "      <td>NaN</td>\n",
       "      <td>NaN</td>\n",
       "      <td>NaN</td>\n",
       "      <td>16.87120</td>\n",
       "    </tr>\n",
       "    <tr>\n",
       "      <th>2020-07-09</th>\n",
       "      <td>NaN</td>\n",
       "      <td>NaN</td>\n",
       "      <td>NaN</td>\n",
       "      <td>NaN</td>\n",
       "      <td>NaN</td>\n",
       "      <td>17.38445</td>\n",
       "    </tr>\n",
       "    <tr>\n",
       "      <th>2020-07-10</th>\n",
       "      <td>NaN</td>\n",
       "      <td>NaN</td>\n",
       "      <td>NaN</td>\n",
       "      <td>NaN</td>\n",
       "      <td>NaN</td>\n",
       "      <td>16.26810</td>\n",
       "    </tr>\n",
       "    <tr>\n",
       "      <th>2020-07-11</th>\n",
       "      <td>NaN</td>\n",
       "      <td>NaN</td>\n",
       "      <td>NaN</td>\n",
       "      <td>NaN</td>\n",
       "      <td>NaN</td>\n",
       "      <td>17.14445</td>\n",
       "    </tr>\n",
       "    <tr>\n",
       "      <th>2020-07-12</th>\n",
       "      <td>NaN</td>\n",
       "      <td>NaN</td>\n",
       "      <td>NaN</td>\n",
       "      <td>NaN</td>\n",
       "      <td>NaN</td>\n",
       "      <td>20.86005</td>\n",
       "    </tr>\n",
       "    <tr>\n",
       "      <th>2020-07-13</th>\n",
       "      <td>NaN</td>\n",
       "      <td>NaN</td>\n",
       "      <td>NaN</td>\n",
       "      <td>NaN</td>\n",
       "      <td>NaN</td>\n",
       "      <td>16.75620</td>\n",
       "    </tr>\n",
       "  </tbody>\n",
       "</table>\n",
       "</div>"
      ],
      "text/plain": [
       "            Adj Close      Volume     HL_PCT  PCT_change      label  Forecast\n",
       "Date                                                                         \n",
       "2020-06-03  18.370001  12157442.0   8.818730    7.868468  19.400000       NaN\n",
       "2020-06-04  19.420000  15276733.0   6.951598    1.835346  18.540001       NaN\n",
       "2020-06-05  20.290001  19742537.0  12.567763   -7.520509  19.230000       NaN\n",
       "2020-06-08  23.389999  16674725.0  10.688329    6.803652  18.750000       NaN\n",
       "2020-06-09  21.010000  14740665.0   8.186584   -5.573033  18.809999       NaN\n",
       "2020-06-10  19.510000  12646157.0   8.559713   -4.829267  18.400000       NaN\n",
       "2020-06-11  17.850000  12470911.0   9.971992    2.000002  18.540001       NaN\n",
       "2020-06-12  19.400000  14378888.0   7.628864    0.258394  18.000000       NaN\n",
       "2020-06-15  18.540001  10437549.0   6.364618    0.815669  17.190001       NaN\n",
       "2020-06-16  19.230000   9399592.0   4.836185   -2.829719  17.100000       NaN\n",
       "2020-06-17  18.750000   5020352.0   2.880005   -1.315789  16.700001       NaN\n",
       "2020-06-18  18.809999   4773201.0   4.518875    1.675673  17.480000       NaN\n",
       "2020-06-19  18.400000   5516549.0   5.489132   -3.916449  16.950001       NaN\n",
       "2020-06-22  18.540001   3811777.0   4.800428    2.205080  17.129999       NaN\n",
       "2020-06-23  18.000000   6302357.0   5.111112   -3.743319  17.209999       NaN\n",
       "2020-06-24  17.190001   5681788.0   4.363002   -3.263927  16.920000       NaN\n",
       "2020-06-25  17.100000   5068291.0   5.321636    0.766064        NaN       NaN\n",
       "2020-06-26  16.700001   4187352.0   3.772461   -2.224819        NaN       NaN\n",
       "2020-06-29  17.480000   5084406.0   7.494287    3.800471        NaN       NaN\n",
       "2020-06-30  16.950001   5011477.0   4.188785   -2.474099        NaN       NaN\n",
       "2020-07-02  17.129999   4269568.0   1.926444   -0.753193        NaN       NaN\n",
       "2020-07-03  17.209999   1138989.0   1.685061    0.349851        NaN       NaN\n",
       "2020-07-06  16.920000   3888597.0   4.373532   -2.758618        NaN       NaN\n",
       "2020-07-07        NaN         NaN        NaN         NaN        NaN  17.07695\n",
       "2020-07-08        NaN         NaN        NaN         NaN        NaN  16.87120\n",
       "2020-07-09        NaN         NaN        NaN         NaN        NaN  17.38445\n",
       "2020-07-10        NaN         NaN        NaN         NaN        NaN  16.26810\n",
       "2020-07-11        NaN         NaN        NaN         NaN        NaN  17.14445\n",
       "2020-07-12        NaN         NaN        NaN         NaN        NaN  20.86005\n",
       "2020-07-13        NaN         NaN        NaN         NaN        NaN  16.75620"
      ]
     },
     "execution_count": 37,
     "metadata": {},
     "output_type": "execute_result"
    }
   ],
   "source": [
    "tail = dfreg.tail(30)\n",
    "# dfreg.to_csv(x)\n",
    "tail"
   ]
  },
  {
   "cell_type": "code",
   "execution_count": 38,
   "metadata": {},
   "outputs": [],
   "source": [
    "# df.to_csv(x)"
   ]
  },
  {
   "cell_type": "code",
   "execution_count": 39,
   "metadata": {},
   "outputs": [
    {
     "data": {
      "text/html": [
       "<div>\n",
       "<style scoped>\n",
       "    .dataframe tbody tr th:only-of-type {\n",
       "        vertical-align: middle;\n",
       "    }\n",
       "\n",
       "    .dataframe tbody tr th {\n",
       "        vertical-align: top;\n",
       "    }\n",
       "\n",
       "    .dataframe thead th {\n",
       "        text-align: right;\n",
       "    }\n",
       "</style>\n",
       "<table border=\"1\" class=\"dataframe\">\n",
       "  <thead>\n",
       "    <tr style=\"text-align: right;\">\n",
       "      <th></th>\n",
       "      <th>Value</th>\n",
       "    </tr>\n",
       "    <tr>\n",
       "      <th>Date</th>\n",
       "      <th></th>\n",
       "    </tr>\n",
       "  </thead>\n",
       "  <tbody>\n",
       "    <tr>\n",
       "      <th>2020-06-23</th>\n",
       "      <td>42.72</td>\n",
       "    </tr>\n",
       "    <tr>\n",
       "      <th>2020-06-24</th>\n",
       "      <td>40.40</td>\n",
       "    </tr>\n",
       "    <tr>\n",
       "      <th>2020-06-25</th>\n",
       "      <td>41.18</td>\n",
       "    </tr>\n",
       "    <tr>\n",
       "      <th>2020-06-26</th>\n",
       "      <td>40.97</td>\n",
       "    </tr>\n",
       "    <tr>\n",
       "      <th>2020-06-29</th>\n",
       "      <td>41.58</td>\n",
       "    </tr>\n",
       "  </tbody>\n",
       "</table>\n",
       "</div>"
      ],
      "text/plain": [
       "            Value\n",
       "Date             \n",
       "2020-06-23  42.72\n",
       "2020-06-24  40.40\n",
       "2020-06-25  41.18\n",
       "2020-06-26  40.97\n",
       "2020-06-29  41.58"
      ]
     },
     "execution_count": 39,
     "metadata": {},
     "output_type": "execute_result"
    }
   ],
   "source": [
    "oil = quandl.get(\"FRED/DCOILBRENTEU\", authtoken='BMrYvzu7Vgow_zBBTE_k')\n",
    "oil.tail()"
   ]
  },
  {
   "cell_type": "code",
   "execution_count": 40,
   "metadata": {},
   "outputs": [],
   "source": [
    "start = '2019-1-1'\n",
    "# end = '2020-3-30'"
   ]
  },
  {
   "cell_type": "code",
   "execution_count": 41,
   "metadata": {},
   "outputs": [],
   "source": [
    "usd = web.DataReader(['AC.TO', 'CAD=X'],\n",
    "                        'yahoo', start=start, end=end)['Adj Close']"
   ]
  },
  {
   "cell_type": "code",
   "execution_count": 42,
   "metadata": {},
   "outputs": [
    {
     "data": {
      "text/html": [
       "<div>\n",
       "<style scoped>\n",
       "    .dataframe tbody tr th:only-of-type {\n",
       "        vertical-align: middle;\n",
       "    }\n",
       "\n",
       "    .dataframe tbody tr th {\n",
       "        vertical-align: top;\n",
       "    }\n",
       "\n",
       "    .dataframe thead th {\n",
       "        text-align: right;\n",
       "    }\n",
       "</style>\n",
       "<table border=\"1\" class=\"dataframe\">\n",
       "  <thead>\n",
       "    <tr style=\"text-align: right;\">\n",
       "      <th>Symbols</th>\n",
       "      <th>AC.TO</th>\n",
       "      <th>CAD=X</th>\n",
       "    </tr>\n",
       "    <tr>\n",
       "      <th>Symbols</th>\n",
       "      <th></th>\n",
       "      <th></th>\n",
       "    </tr>\n",
       "  </thead>\n",
       "  <tbody>\n",
       "    <tr>\n",
       "      <th>AC.TO</th>\n",
       "      <td>1.000000</td>\n",
       "      <td>-0.225626</td>\n",
       "    </tr>\n",
       "    <tr>\n",
       "      <th>CAD=X</th>\n",
       "      <td>-0.225626</td>\n",
       "      <td>1.000000</td>\n",
       "    </tr>\n",
       "  </tbody>\n",
       "</table>\n",
       "</div>"
      ],
      "text/plain": [
       "Symbols     AC.TO     CAD=X\n",
       "Symbols                    \n",
       "AC.TO    1.000000 -0.225626\n",
       "CAD=X   -0.225626  1.000000"
      ]
     },
     "execution_count": 42,
     "metadata": {},
     "output_type": "execute_result"
    }
   ],
   "source": [
    "usd = usd.pct_change()\n",
    "corr_usd = usd.corr()\n",
    "corr_usd"
   ]
  },
  {
   "cell_type": "code",
   "execution_count": 43,
   "metadata": {},
   "outputs": [
    {
     "data": {
      "text/html": [
       "<div>\n",
       "<style scoped>\n",
       "    .dataframe tbody tr th:only-of-type {\n",
       "        vertical-align: middle;\n",
       "    }\n",
       "\n",
       "    .dataframe tbody tr th {\n",
       "        vertical-align: top;\n",
       "    }\n",
       "\n",
       "    .dataframe thead th {\n",
       "        text-align: right;\n",
       "    }\n",
       "</style>\n",
       "<table border=\"1\" class=\"dataframe\">\n",
       "  <thead>\n",
       "    <tr style=\"text-align: right;\">\n",
       "      <th></th>\n",
       "      <th>High</th>\n",
       "      <th>Low</th>\n",
       "      <th>Open</th>\n",
       "      <th>Close</th>\n",
       "      <th>Volume</th>\n",
       "      <th>Adj Close</th>\n",
       "    </tr>\n",
       "    <tr>\n",
       "      <th>Date</th>\n",
       "      <th></th>\n",
       "      <th></th>\n",
       "      <th></th>\n",
       "      <th></th>\n",
       "      <th></th>\n",
       "      <th></th>\n",
       "    </tr>\n",
       "  </thead>\n",
       "  <tbody>\n",
       "    <tr>\n",
       "      <th>2020-06-29</th>\n",
       "      <td>17.690001</td>\n",
       "      <td>16.379999</td>\n",
       "      <td>16.840000</td>\n",
       "      <td>17.480000</td>\n",
       "      <td>5084406</td>\n",
       "      <td>17.480000</td>\n",
       "    </tr>\n",
       "    <tr>\n",
       "      <th>2020-06-30</th>\n",
       "      <td>17.459999</td>\n",
       "      <td>16.750000</td>\n",
       "      <td>17.379999</td>\n",
       "      <td>16.950001</td>\n",
       "      <td>5011477</td>\n",
       "      <td>16.950001</td>\n",
       "    </tr>\n",
       "    <tr>\n",
       "      <th>2020-07-02</th>\n",
       "      <td>17.400000</td>\n",
       "      <td>17.070000</td>\n",
       "      <td>17.260000</td>\n",
       "      <td>17.129999</td>\n",
       "      <td>4269568</td>\n",
       "      <td>17.129999</td>\n",
       "    </tr>\n",
       "    <tr>\n",
       "      <th>2020-07-03</th>\n",
       "      <td>17.309999</td>\n",
       "      <td>17.020000</td>\n",
       "      <td>17.150000</td>\n",
       "      <td>17.209999</td>\n",
       "      <td>1138989</td>\n",
       "      <td>17.209999</td>\n",
       "    </tr>\n",
       "    <tr>\n",
       "      <th>2020-07-06</th>\n",
       "      <td>17.540001</td>\n",
       "      <td>16.799999</td>\n",
       "      <td>17.400000</td>\n",
       "      <td>16.920000</td>\n",
       "      <td>3888597</td>\n",
       "      <td>16.920000</td>\n",
       "    </tr>\n",
       "  </tbody>\n",
       "</table>\n",
       "</div>"
      ],
      "text/plain": [
       "                 High        Low       Open      Close   Volume  Adj Close\n",
       "Date                                                                      \n",
       "2020-06-29  17.690001  16.379999  16.840000  17.480000  5084406  17.480000\n",
       "2020-06-30  17.459999  16.750000  17.379999  16.950001  5011477  16.950001\n",
       "2020-07-02  17.400000  17.070000  17.260000  17.129999  4269568  17.129999\n",
       "2020-07-03  17.309999  17.020000  17.150000  17.209999  1138989  17.209999\n",
       "2020-07-06  17.540001  16.799999  17.400000  16.920000  3888597  16.920000"
      ]
     },
     "execution_count": 43,
     "metadata": {},
     "output_type": "execute_result"
    }
   ],
   "source": [
    "USD_CAD = web.DataReader('CAD=X', 'yahoo', start , end)\n",
    "df.tail()"
   ]
  },
  {
   "cell_type": "code",
   "execution_count": null,
   "metadata": {},
   "outputs": [],
   "source": []
  },
  {
   "cell_type": "code",
   "execution_count": null,
   "metadata": {},
   "outputs": [],
   "source": []
  },
  {
   "cell_type": "code",
   "execution_count": 44,
   "metadata": {},
   "outputs": [
    {
     "name": "stderr",
     "output_type": "stream",
     "text": [
      "C:\\Users\\hanif\\Anaconda3\\lib\\site-packages\\pandas_datareader\\base.py:270: SymbolWarning: Failed to read symbol: 'WJA.TO', replacing with NaN.\n",
      "  warnings.warn(msg.format(sym), SymbolWarning)\n"
     ]
    }
   ],
   "source": [
    "dfcomp2 = web.DataReader(['TRZ.TO', 'WJA.TO', 'CNI', 'EXPE', 'AAL', 'AC.TO', 'BZ=F'], \n",
    "                         'yahoo', start=start, end=end)['Adj Close']\n",
    "\n",
    "dfcomp = web.DataReader(['AC.TO', 'TRZ.TO', 'DOL.TO', 'CNR.TO', 'BB.TO', 'GOOS.TO', 'BZ=F'],\n",
    "                        'yahoo', start=start, end=end)['Adj Close']"
   ]
  },
  {
   "cell_type": "code",
   "execution_count": 45,
   "metadata": {},
   "outputs": [
    {
     "data": {
      "text/html": [
       "<div>\n",
       "<style scoped>\n",
       "    .dataframe tbody tr th:only-of-type {\n",
       "        vertical-align: middle;\n",
       "    }\n",
       "\n",
       "    .dataframe tbody tr th {\n",
       "        vertical-align: top;\n",
       "    }\n",
       "\n",
       "    .dataframe thead th {\n",
       "        text-align: right;\n",
       "    }\n",
       "</style>\n",
       "<table border=\"1\" class=\"dataframe\">\n",
       "  <thead>\n",
       "    <tr style=\"text-align: right;\">\n",
       "      <th>Symbols</th>\n",
       "      <th>TRZ.TO</th>\n",
       "      <th>CNI</th>\n",
       "      <th>EXPE</th>\n",
       "      <th>AAL</th>\n",
       "      <th>AC.TO</th>\n",
       "      <th>BZ=F</th>\n",
       "      <th>WJA.TO</th>\n",
       "    </tr>\n",
       "    <tr>\n",
       "      <th>Symbols</th>\n",
       "      <th></th>\n",
       "      <th></th>\n",
       "      <th></th>\n",
       "      <th></th>\n",
       "      <th></th>\n",
       "      <th></th>\n",
       "      <th></th>\n",
       "    </tr>\n",
       "  </thead>\n",
       "  <tbody>\n",
       "    <tr>\n",
       "      <th>TRZ.TO</th>\n",
       "      <td>1.000000</td>\n",
       "      <td>0.311453</td>\n",
       "      <td>0.330711</td>\n",
       "      <td>0.130845</td>\n",
       "      <td>0.400740</td>\n",
       "      <td>-0.014196</td>\n",
       "      <td>NaN</td>\n",
       "    </tr>\n",
       "    <tr>\n",
       "      <th>CNI</th>\n",
       "      <td>0.311453</td>\n",
       "      <td>1.000000</td>\n",
       "      <td>0.543992</td>\n",
       "      <td>0.420574</td>\n",
       "      <td>0.475554</td>\n",
       "      <td>0.234754</td>\n",
       "      <td>NaN</td>\n",
       "    </tr>\n",
       "    <tr>\n",
       "      <th>EXPE</th>\n",
       "      <td>0.330711</td>\n",
       "      <td>0.543992</td>\n",
       "      <td>1.000000</td>\n",
       "      <td>0.488694</td>\n",
       "      <td>0.617213</td>\n",
       "      <td>0.172300</td>\n",
       "      <td>NaN</td>\n",
       "    </tr>\n",
       "    <tr>\n",
       "      <th>AAL</th>\n",
       "      <td>0.130845</td>\n",
       "      <td>0.420574</td>\n",
       "      <td>0.488694</td>\n",
       "      <td>1.000000</td>\n",
       "      <td>0.565917</td>\n",
       "      <td>0.051224</td>\n",
       "      <td>NaN</td>\n",
       "    </tr>\n",
       "    <tr>\n",
       "      <th>AC.TO</th>\n",
       "      <td>0.400740</td>\n",
       "      <td>0.475554</td>\n",
       "      <td>0.617213</td>\n",
       "      <td>0.565917</td>\n",
       "      <td>1.000000</td>\n",
       "      <td>0.112216</td>\n",
       "      <td>NaN</td>\n",
       "    </tr>\n",
       "    <tr>\n",
       "      <th>BZ=F</th>\n",
       "      <td>-0.014196</td>\n",
       "      <td>0.234754</td>\n",
       "      <td>0.172300</td>\n",
       "      <td>0.051224</td>\n",
       "      <td>0.112216</td>\n",
       "      <td>1.000000</td>\n",
       "      <td>NaN</td>\n",
       "    </tr>\n",
       "    <tr>\n",
       "      <th>WJA.TO</th>\n",
       "      <td>NaN</td>\n",
       "      <td>NaN</td>\n",
       "      <td>NaN</td>\n",
       "      <td>NaN</td>\n",
       "      <td>NaN</td>\n",
       "      <td>NaN</td>\n",
       "      <td>NaN</td>\n",
       "    </tr>\n",
       "  </tbody>\n",
       "</table>\n",
       "</div>"
      ],
      "text/plain": [
       "Symbols    TRZ.TO       CNI      EXPE       AAL     AC.TO      BZ=F  WJA.TO\n",
       "Symbols                                                                    \n",
       "TRZ.TO   1.000000  0.311453  0.330711  0.130845  0.400740 -0.014196     NaN\n",
       "CNI      0.311453  1.000000  0.543992  0.420574  0.475554  0.234754     NaN\n",
       "EXPE     0.330711  0.543992  1.000000  0.488694  0.617213  0.172300     NaN\n",
       "AAL      0.130845  0.420574  0.488694  1.000000  0.565917  0.051224     NaN\n",
       "AC.TO    0.400740  0.475554  0.617213  0.565917  1.000000  0.112216     NaN\n",
       "BZ=F    -0.014196  0.234754  0.172300  0.051224  0.112216  1.000000     NaN\n",
       "WJA.TO        NaN       NaN       NaN       NaN       NaN       NaN     NaN"
      ]
     },
     "execution_count": 45,
     "metadata": {},
     "output_type": "execute_result"
    }
   ],
   "source": [
    "retscomp2 = dfcomp2.pct_change()\n",
    "corr2 = retscomp2.corr()\n",
    "corr2"
   ]
  },
  {
   "cell_type": "code",
   "execution_count": 46,
   "metadata": {},
   "outputs": [
    {
     "data": {
      "text/html": [
       "<div>\n",
       "<style scoped>\n",
       "    .dataframe tbody tr th:only-of-type {\n",
       "        vertical-align: middle;\n",
       "    }\n",
       "\n",
       "    .dataframe tbody tr th {\n",
       "        vertical-align: top;\n",
       "    }\n",
       "\n",
       "    .dataframe thead th {\n",
       "        text-align: right;\n",
       "    }\n",
       "</style>\n",
       "<table border=\"1\" class=\"dataframe\">\n",
       "  <thead>\n",
       "    <tr style=\"text-align: right;\">\n",
       "      <th>Symbols</th>\n",
       "      <th>AC.TO</th>\n",
       "      <th>TRZ.TO</th>\n",
       "      <th>DOL.TO</th>\n",
       "      <th>CNR.TO</th>\n",
       "      <th>BB.TO</th>\n",
       "      <th>GOOS.TO</th>\n",
       "      <th>BZ=F</th>\n",
       "    </tr>\n",
       "    <tr>\n",
       "      <th>Date</th>\n",
       "      <th></th>\n",
       "      <th></th>\n",
       "      <th></th>\n",
       "      <th></th>\n",
       "      <th></th>\n",
       "      <th></th>\n",
       "      <th></th>\n",
       "    </tr>\n",
       "  </thead>\n",
       "  <tbody>\n",
       "    <tr>\n",
       "      <th>2020-06-30</th>\n",
       "      <td>16.950001</td>\n",
       "      <td>5.73</td>\n",
       "      <td>45.160000</td>\n",
       "      <td>120.110001</td>\n",
       "      <td>6.62</td>\n",
       "      <td>31.520000</td>\n",
       "      <td>41.180000</td>\n",
       "    </tr>\n",
       "    <tr>\n",
       "      <th>2020-07-02</th>\n",
       "      <td>17.129999</td>\n",
       "      <td>5.60</td>\n",
       "      <td>45.490002</td>\n",
       "      <td>120.339996</td>\n",
       "      <td>6.60</td>\n",
       "      <td>31.389999</td>\n",
       "      <td>42.790001</td>\n",
       "    </tr>\n",
       "    <tr>\n",
       "      <th>2020-07-03</th>\n",
       "      <td>17.209999</td>\n",
       "      <td>5.55</td>\n",
       "      <td>45.389999</td>\n",
       "      <td>119.400002</td>\n",
       "      <td>6.62</td>\n",
       "      <td>31.200001</td>\n",
       "      <td>NaN</td>\n",
       "    </tr>\n",
       "    <tr>\n",
       "      <th>2020-07-05</th>\n",
       "      <td>NaN</td>\n",
       "      <td>NaN</td>\n",
       "      <td>NaN</td>\n",
       "      <td>NaN</td>\n",
       "      <td>NaN</td>\n",
       "      <td>NaN</td>\n",
       "      <td>42.820000</td>\n",
       "    </tr>\n",
       "    <tr>\n",
       "      <th>2020-07-06</th>\n",
       "      <td>16.920000</td>\n",
       "      <td>5.65</td>\n",
       "      <td>45.470001</td>\n",
       "      <td>120.180000</td>\n",
       "      <td>6.79</td>\n",
       "      <td>31.660000</td>\n",
       "      <td>43.180000</td>\n",
       "    </tr>\n",
       "  </tbody>\n",
       "</table>\n",
       "</div>"
      ],
      "text/plain": [
       "Symbols         AC.TO  TRZ.TO     DOL.TO      CNR.TO  BB.TO    GOOS.TO  \\\n",
       "Date                                                                     \n",
       "2020-06-30  16.950001    5.73  45.160000  120.110001   6.62  31.520000   \n",
       "2020-07-02  17.129999    5.60  45.490002  120.339996   6.60  31.389999   \n",
       "2020-07-03  17.209999    5.55  45.389999  119.400002   6.62  31.200001   \n",
       "2020-07-05        NaN     NaN        NaN         NaN    NaN        NaN   \n",
       "2020-07-06  16.920000    5.65  45.470001  120.180000   6.79  31.660000   \n",
       "\n",
       "Symbols          BZ=F  \n",
       "Date                   \n",
       "2020-06-30  41.180000  \n",
       "2020-07-02  42.790001  \n",
       "2020-07-03        NaN  \n",
       "2020-07-05  42.820000  \n",
       "2020-07-06  43.180000  "
      ]
     },
     "execution_count": 46,
     "metadata": {},
     "output_type": "execute_result"
    }
   ],
   "source": [
    "dfcomp.tail()"
   ]
  },
  {
   "cell_type": "code",
   "execution_count": 47,
   "metadata": {},
   "outputs": [
    {
     "data": {
      "text/html": [
       "<div>\n",
       "<style scoped>\n",
       "    .dataframe tbody tr th:only-of-type {\n",
       "        vertical-align: middle;\n",
       "    }\n",
       "\n",
       "    .dataframe tbody tr th {\n",
       "        vertical-align: top;\n",
       "    }\n",
       "\n",
       "    .dataframe thead th {\n",
       "        text-align: right;\n",
       "    }\n",
       "</style>\n",
       "<table border=\"1\" class=\"dataframe\">\n",
       "  <thead>\n",
       "    <tr style=\"text-align: right;\">\n",
       "      <th>Symbols</th>\n",
       "      <th>AC.TO</th>\n",
       "      <th>TRZ.TO</th>\n",
       "      <th>DOL.TO</th>\n",
       "      <th>CNR.TO</th>\n",
       "      <th>BB.TO</th>\n",
       "      <th>GOOS.TO</th>\n",
       "      <th>BZ=F</th>\n",
       "    </tr>\n",
       "    <tr>\n",
       "      <th>Symbols</th>\n",
       "      <th></th>\n",
       "      <th></th>\n",
       "      <th></th>\n",
       "      <th></th>\n",
       "      <th></th>\n",
       "      <th></th>\n",
       "      <th></th>\n",
       "    </tr>\n",
       "  </thead>\n",
       "  <tbody>\n",
       "    <tr>\n",
       "      <th>AC.TO</th>\n",
       "      <td>1.000000</td>\n",
       "      <td>0.400744</td>\n",
       "      <td>0.326424</td>\n",
       "      <td>0.431563</td>\n",
       "      <td>0.347031</td>\n",
       "      <td>0.409341</td>\n",
       "      <td>0.112204</td>\n",
       "    </tr>\n",
       "    <tr>\n",
       "      <th>TRZ.TO</th>\n",
       "      <td>0.400744</td>\n",
       "      <td>1.000000</td>\n",
       "      <td>0.184989</td>\n",
       "      <td>0.283754</td>\n",
       "      <td>0.256522</td>\n",
       "      <td>0.174431</td>\n",
       "      <td>-0.014213</td>\n",
       "    </tr>\n",
       "    <tr>\n",
       "      <th>DOL.TO</th>\n",
       "      <td>0.326424</td>\n",
       "      <td>0.184989</td>\n",
       "      <td>1.000000</td>\n",
       "      <td>0.451005</td>\n",
       "      <td>0.216142</td>\n",
       "      <td>0.317499</td>\n",
       "      <td>0.075349</td>\n",
       "    </tr>\n",
       "    <tr>\n",
       "      <th>CNR.TO</th>\n",
       "      <td>0.431563</td>\n",
       "      <td>0.283754</td>\n",
       "      <td>0.451005</td>\n",
       "      <td>1.000000</td>\n",
       "      <td>0.480980</td>\n",
       "      <td>0.508011</td>\n",
       "      <td>0.181779</td>\n",
       "    </tr>\n",
       "    <tr>\n",
       "      <th>BB.TO</th>\n",
       "      <td>0.347031</td>\n",
       "      <td>0.256522</td>\n",
       "      <td>0.216142</td>\n",
       "      <td>0.480980</td>\n",
       "      <td>1.000000</td>\n",
       "      <td>0.337294</td>\n",
       "      <td>0.195513</td>\n",
       "    </tr>\n",
       "    <tr>\n",
       "      <th>GOOS.TO</th>\n",
       "      <td>0.409341</td>\n",
       "      <td>0.174431</td>\n",
       "      <td>0.317499</td>\n",
       "      <td>0.508011</td>\n",
       "      <td>0.337294</td>\n",
       "      <td>1.000000</td>\n",
       "      <td>0.075012</td>\n",
       "    </tr>\n",
       "    <tr>\n",
       "      <th>BZ=F</th>\n",
       "      <td>0.112204</td>\n",
       "      <td>-0.014213</td>\n",
       "      <td>0.075349</td>\n",
       "      <td>0.181779</td>\n",
       "      <td>0.195513</td>\n",
       "      <td>0.075012</td>\n",
       "      <td>1.000000</td>\n",
       "    </tr>\n",
       "  </tbody>\n",
       "</table>\n",
       "</div>"
      ],
      "text/plain": [
       "Symbols     AC.TO    TRZ.TO    DOL.TO    CNR.TO     BB.TO   GOOS.TO      BZ=F\n",
       "Symbols                                                                      \n",
       "AC.TO    1.000000  0.400744  0.326424  0.431563  0.347031  0.409341  0.112204\n",
       "TRZ.TO   0.400744  1.000000  0.184989  0.283754  0.256522  0.174431 -0.014213\n",
       "DOL.TO   0.326424  0.184989  1.000000  0.451005  0.216142  0.317499  0.075349\n",
       "CNR.TO   0.431563  0.283754  0.451005  1.000000  0.480980  0.508011  0.181779\n",
       "BB.TO    0.347031  0.256522  0.216142  0.480980  1.000000  0.337294  0.195513\n",
       "GOOS.TO  0.409341  0.174431  0.317499  0.508011  0.337294  1.000000  0.075012\n",
       "BZ=F     0.112204 -0.014213  0.075349  0.181779  0.195513  0.075012  1.000000"
      ]
     },
     "execution_count": 47,
     "metadata": {},
     "output_type": "execute_result"
    }
   ],
   "source": [
    "retscomp = dfcomp.pct_change()\n",
    "corr = retscomp.corr()\n",
    "corr"
   ]
  },
  {
   "cell_type": "code",
   "execution_count": 48,
   "metadata": {},
   "outputs": [
    {
     "data": {
      "text/html": [
       "<div>\n",
       "<style scoped>\n",
       "    .dataframe tbody tr th:only-of-type {\n",
       "        vertical-align: middle;\n",
       "    }\n",
       "\n",
       "    .dataframe tbody tr th {\n",
       "        vertical-align: top;\n",
       "    }\n",
       "\n",
       "    .dataframe thead th {\n",
       "        text-align: right;\n",
       "    }\n",
       "</style>\n",
       "<table border=\"1\" class=\"dataframe\">\n",
       "  <thead>\n",
       "    <tr style=\"text-align: right;\">\n",
       "      <th>Symbols</th>\n",
       "      <th>AC.TO</th>\n",
       "    </tr>\n",
       "    <tr>\n",
       "      <th>Symbols</th>\n",
       "      <th></th>\n",
       "    </tr>\n",
       "  </thead>\n",
       "  <tbody>\n",
       "    <tr>\n",
       "      <th>AC.TO</th>\n",
       "      <td>1.000000</td>\n",
       "    </tr>\n",
       "    <tr>\n",
       "      <th>TRZ.TO</th>\n",
       "      <td>0.400744</td>\n",
       "    </tr>\n",
       "    <tr>\n",
       "      <th>DOL.TO</th>\n",
       "      <td>0.326424</td>\n",
       "    </tr>\n",
       "    <tr>\n",
       "      <th>CNR.TO</th>\n",
       "      <td>0.431563</td>\n",
       "    </tr>\n",
       "    <tr>\n",
       "      <th>BB.TO</th>\n",
       "      <td>0.347031</td>\n",
       "    </tr>\n",
       "    <tr>\n",
       "      <th>GOOS.TO</th>\n",
       "      <td>0.409341</td>\n",
       "    </tr>\n",
       "    <tr>\n",
       "      <th>BZ=F</th>\n",
       "      <td>0.112204</td>\n",
       "    </tr>\n",
       "  </tbody>\n",
       "</table>\n",
       "</div>"
      ],
      "text/plain": [
       "Symbols     AC.TO\n",
       "Symbols          \n",
       "AC.TO    1.000000\n",
       "TRZ.TO   0.400744\n",
       "DOL.TO   0.326424\n",
       "CNR.TO   0.431563\n",
       "BB.TO    0.347031\n",
       "GOOS.TO  0.409341\n",
       "BZ=F     0.112204"
      ]
     },
     "execution_count": 48,
     "metadata": {},
     "output_type": "execute_result"
    }
   ],
   "source": [
    "corr[['AC.TO']]"
   ]
  },
  {
   "cell_type": "code",
   "execution_count": 49,
   "metadata": {},
   "outputs": [
    {
     "data": {
      "text/plain": [
       "<matplotlib.collections.PathCollection at 0x188a71b7828>"
      ]
     },
     "execution_count": 49,
     "metadata": {},
     "output_type": "execute_result"
    },
    {
     "data": {
      "image/png": "[encoded data removed]",
      "text/plain": [
       "<Figure size 720x504 with 1 Axes>"
      ]
     },
     "metadata": {},
     "output_type": "display_data"
    }
   ],
   "source": [
    "plt.scatter(retscomp['TRZ.TO'], retscomp['DOL.TO'], c='b')"
   ]
  },
  {
   "cell_type": "code",
   "execution_count": 50,
   "metadata": {},
   "outputs": [
    {
     "data": {
      "text/plain": [
       "<matplotlib.collections.PathCollection at 0x188a70cb780>"
      ]
     },
     "execution_count": 50,
     "metadata": {},
     "output_type": "execute_result"
    },
    {
     "data": {
      "image/png": "[encoded data removed]",
      "text/plain": [
       "<Figure size 720x504 with 1 Axes>"
      ]
     },
     "metadata": {},
     "output_type": "display_data"
    }
   ],
   "source": [
    "plt.scatter(retscomp['BB.TO'], retscomp['GOOS.TO'], c='b')"
   ]
  },
  {
   "cell_type": "code",
   "execution_count": 51,
   "metadata": {},
   "outputs": [
    {
     "data": {
      "text/plain": [
       "<matplotlib.collections.PathCollection at 0x188a71a0940>"
      ]
     },
     "execution_count": 51,
     "metadata": {},
     "output_type": "execute_result"
    },
    {
     "data": {
      "image/png": "[encoded data removed]",
      "text/plain": [
       "<Figure size 720x504 with 1 Axes>"
      ]
     },
     "metadata": {},
     "output_type": "display_data"
    }
   ],
   "source": [
    "plt.scatter(retscomp['CNR.TO'], retscomp['GOOS.TO'], c='b')"
   ]
  },
  {
   "cell_type": "code",
   "execution_count": 52,
   "metadata": {},
   "outputs": [
    {
     "data": {
      "image/png": "[encoded data removed]",
      "text/plain": [
       "<Figure size 720x720 with 49 Axes>"
      ]
     },
     "metadata": {},
     "output_type": "display_data"
    }
   ],
   "source": [
    "from pandas import plotting\n",
    "plotting.scatter_matrix(retscomp, diagonal='kde', figsize=(10, 10));"
   ]
  },
  {
   "cell_type": "code",
   "execution_count": 53,
   "metadata": {},
   "outputs": [
    {
     "data": {
      "image/png": "[encoded data removed]",
      "text/plain": [
       "<Figure size 720x504 with 2 Axes>"
      ]
     },
     "metadata": {},
     "output_type": "display_data"
    }
   ],
   "source": [
    "plt.imshow(corr, cmap='hot', interpolation='none')\n",
    "plt.colorbar()\n",
    "plt.xticks(range(len(corr)), corr.columns)\n",
    "plt.yticks(range(len(corr)), corr.columns);"
   ]
  },
  {
   "cell_type": "code",
   "execution_count": 54,
   "metadata": {},
   "outputs": [
    {
     "data": {
      "image/png": "[encoded data removed]",
      "text/plain": [
       "<Figure size 720x504 with 1 Axes>"
      ]
     },
     "metadata": {},
     "output_type": "display_data"
    }
   ],
   "source": [
    "plt.scatter(retscomp.mean(), retscomp.std())\n",
    "plt.xlabel('Expected returns')\n",
    "plt.ylabel('Risk')\n",
    "for label, x, y in zip(retscomp.columns, retscomp.mean(), retscomp.std()):\n",
    "    plt.annotate(\n",
    "        label, \n",
    "        xy = (x, y), xytext = (20, -20),\n",
    "        textcoords = 'offset points', ha = 'right', va = 'bottom',\n",
    "        bbox = dict(boxstyle = 'round,pad=0.5', fc = 'yellow', alpha = 0.5),\n",
    "        arrowprops = dict(arrowstyle = '->', connectionstyle = 'arc3,rad=0'))"
   ]
  },
  {
   "cell_type": "code",
   "execution_count": 55,
   "metadata": {},
   "outputs": [
    {
     "name": "stderr",
     "output_type": "stream",
     "text": [
      "\n"
     ]
    }
   ],
   "source": [
    "!curl -o time_corona.csv https://raw.githubusercontent.com/datasets/covid-19/master/data/time-series-19-covid-combined.csv?accessType=DOWNLOAD"
   ]
  },
  {
   "cell_type": "code",
   "execution_count": 56,
   "metadata": {},
   "outputs": [
    {
     "data": {
      "text/html": [
       "<div>\n",
       "<style scoped>\n",
       "    .dataframe tbody tr th:only-of-type {\n",
       "        vertical-align: middle;\n",
       "    }\n",
       "\n",
       "    .dataframe tbody tr th {\n",
       "        vertical-align: top;\n",
       "    }\n",
       "\n",
       "    .dataframe thead th {\n",
       "        text-align: right;\n",
       "    }\n",
       "</style>\n",
       "<table border=\"1\" class=\"dataframe\">\n",
       "  <thead>\n",
       "    <tr style=\"text-align: right;\">\n",
       "      <th></th>\n",
       "      <th>Date</th>\n",
       "      <th>Country/Region</th>\n",
       "      <th>Province/State</th>\n",
       "      <th>Lat</th>\n",
       "      <th>Long</th>\n",
       "      <th>Confirmed</th>\n",
       "      <th>Recovered</th>\n",
       "      <th>Deaths</th>\n",
       "    </tr>\n",
       "  </thead>\n",
       "  <tbody>\n",
       "    <tr>\n",
       "      <th>0</th>\n",
       "      <td>2020-01-22</td>\n",
       "      <td>Afghanistan</td>\n",
       "      <td>NaN</td>\n",
       "      <td>33.0</td>\n",
       "      <td>65.0</td>\n",
       "      <td>0.0</td>\n",
       "      <td>0.0</td>\n",
       "      <td>0.0</td>\n",
       "    </tr>\n",
       "    <tr>\n",
       "      <th>1</th>\n",
       "      <td>2020-01-23</td>\n",
       "      <td>Afghanistan</td>\n",
       "      <td>NaN</td>\n",
       "      <td>33.0</td>\n",
       "      <td>65.0</td>\n",
       "      <td>0.0</td>\n",
       "      <td>0.0</td>\n",
       "      <td>0.0</td>\n",
       "    </tr>\n",
       "    <tr>\n",
       "      <th>2</th>\n",
       "      <td>2020-01-24</td>\n",
       "      <td>Afghanistan</td>\n",
       "      <td>NaN</td>\n",
       "      <td>33.0</td>\n",
       "      <td>65.0</td>\n",
       "      <td>0.0</td>\n",
       "      <td>0.0</td>\n",
       "      <td>0.0</td>\n",
       "    </tr>\n",
       "    <tr>\n",
       "      <th>3</th>\n",
       "      <td>2020-01-25</td>\n",
       "      <td>Afghanistan</td>\n",
       "      <td>NaN</td>\n",
       "      <td>33.0</td>\n",
       "      <td>65.0</td>\n",
       "      <td>0.0</td>\n",
       "      <td>0.0</td>\n",
       "      <td>0.0</td>\n",
       "    </tr>\n",
       "    <tr>\n",
       "      <th>4</th>\n",
       "      <td>2020-01-26</td>\n",
       "      <td>Afghanistan</td>\n",
       "      <td>NaN</td>\n",
       "      <td>33.0</td>\n",
       "      <td>65.0</td>\n",
       "      <td>0.0</td>\n",
       "      <td>0.0</td>\n",
       "      <td>0.0</td>\n",
       "    </tr>\n",
       "  </tbody>\n",
       "</table>\n",
       "</div>"
      ],
      "text/plain": [
       "         Date Country/Region Province/State   Lat  Long  Confirmed  Recovered  \\\n",
       "0  2020-01-22    Afghanistan            NaN  33.0  65.0        0.0        0.0   \n",
       "1  2020-01-23    Afghanistan            NaN  33.0  65.0        0.0        0.0   \n",
       "2  2020-01-24    Afghanistan            NaN  33.0  65.0        0.0        0.0   \n",
       "3  2020-01-25    Afghanistan            NaN  33.0  65.0        0.0        0.0   \n",
       "4  2020-01-26    Afghanistan            NaN  33.0  65.0        0.0        0.0   \n",
       "\n",
       "   Deaths  \n",
       "0     0.0  \n",
       "1     0.0  \n",
       "2     0.0  \n",
       "3     0.0  \n",
       "4     0.0  "
      ]
     },
     "execution_count": 56,
     "metadata": {},
     "output_type": "execute_result"
    }
   ],
   "source": [
    "path = \"D:\\Machine Learnaing\\corona_live\"\n",
    "co = pd.read_csv(path+'\\\\time_corona.csv')\n",
    "co.head()"
   ]
  },
  {
   "cell_type": "code",
   "execution_count": 57,
   "metadata": {},
   "outputs": [
    {
     "name": "stderr",
     "output_type": "stream",
     "text": [
      "C:\\Users\\hanif\\AppData\\Roaming\\Python\\Python37\\site-packages\\ipykernel_launcher.py:1: FutureWarning: Indexing with multiple keys (implicitly converted to a tuple of keys) will be deprecated, use a list instead.\n",
      "  \"\"\"Entry point for launching an IPython kernel.\n"
     ]
    },
    {
     "data": {
      "text/html": [
       "<div>\n",
       "<style scoped>\n",
       "    .dataframe tbody tr th:only-of-type {\n",
       "        vertical-align: middle;\n",
       "    }\n",
       "\n",
       "    .dataframe tbody tr th {\n",
       "        vertical-align: top;\n",
       "    }\n",
       "\n",
       "    .dataframe thead th {\n",
       "        text-align: right;\n",
       "    }\n",
       "</style>\n",
       "<table border=\"1\" class=\"dataframe\">\n",
       "  <thead>\n",
       "    <tr style=\"text-align: right;\">\n",
       "      <th></th>\n",
       "      <th>Confirmed</th>\n",
       "    </tr>\n",
       "    <tr>\n",
       "      <th>Date</th>\n",
       "      <th></th>\n",
       "    </tr>\n",
       "  </thead>\n",
       "  <tbody>\n",
       "    <tr>\n",
       "      <th>2020-05-26</th>\n",
       "      <td>5589626.0</td>\n",
       "    </tr>\n",
       "    <tr>\n",
       "      <th>2020-05-27</th>\n",
       "      <td>5691790.0</td>\n",
       "    </tr>\n",
       "    <tr>\n",
       "      <th>2020-05-28</th>\n",
       "      <td>5808946.0</td>\n",
       "    </tr>\n",
       "    <tr>\n",
       "      <th>2020-05-29</th>\n",
       "      <td>5924275.0</td>\n",
       "    </tr>\n",
       "    <tr>\n",
       "      <th>2020-05-30</th>\n",
       "      <td>6059017.0</td>\n",
       "    </tr>\n",
       "  </tbody>\n",
       "</table>\n",
       "</div>"
      ],
      "text/plain": [
       "            Confirmed\n",
       "Date                 \n",
       "2020-05-26  5589626.0\n",
       "2020-05-27  5691790.0\n",
       "2020-05-28  5808946.0\n",
       "2020-05-29  5924275.0\n",
       "2020-05-30  6059017.0"
      ]
     },
     "execution_count": 57,
     "metadata": {},
     "output_type": "execute_result"
    }
   ],
   "source": [
    "time_confirmed = co.groupby('Date')['Country/Region','Confirmed'].sum()\n",
    "time_confirmed.tail()"
   ]
  },
  {
   "cell_type": "code",
   "execution_count": 58,
   "metadata": {},
   "outputs": [],
   "source": [
    "time_confirmed.to_csv('time_confirmed.csv')"
   ]
  },
  {
   "cell_type": "code",
   "execution_count": 59,
   "metadata": {},
   "outputs": [
    {
     "data": {
      "text/html": [
       "<div>\n",
       "<style scoped>\n",
       "    .dataframe tbody tr th:only-of-type {\n",
       "        vertical-align: middle;\n",
       "    }\n",
       "\n",
       "    .dataframe tbody tr th {\n",
       "        vertical-align: top;\n",
       "    }\n",
       "\n",
       "    .dataframe thead th {\n",
       "        text-align: right;\n",
       "    }\n",
       "</style>\n",
       "<table border=\"1\" class=\"dataframe\">\n",
       "  <thead>\n",
       "    <tr style=\"text-align: right;\">\n",
       "      <th></th>\n",
       "      <th>Date</th>\n",
       "      <th>Confirmed</th>\n",
       "    </tr>\n",
       "  </thead>\n",
       "  <tbody>\n",
       "    <tr>\n",
       "      <th>125</th>\n",
       "      <td>2020-05-26</td>\n",
       "      <td>5589626.0</td>\n",
       "    </tr>\n",
       "    <tr>\n",
       "      <th>126</th>\n",
       "      <td>2020-05-27</td>\n",
       "      <td>5691790.0</td>\n",
       "    </tr>\n",
       "    <tr>\n",
       "      <th>127</th>\n",
       "      <td>2020-05-28</td>\n",
       "      <td>5808946.0</td>\n",
       "    </tr>\n",
       "    <tr>\n",
       "      <th>128</th>\n",
       "      <td>2020-05-29</td>\n",
       "      <td>5924275.0</td>\n",
       "    </tr>\n",
       "    <tr>\n",
       "      <th>129</th>\n",
       "      <td>2020-05-30</td>\n",
       "      <td>6059017.0</td>\n",
       "    </tr>\n",
       "  </tbody>\n",
       "</table>\n",
       "</div>"
      ],
      "text/plain": [
       "           Date  Confirmed\n",
       "125  2020-05-26  5589626.0\n",
       "126  2020-05-27  5691790.0\n",
       "127  2020-05-28  5808946.0\n",
       "128  2020-05-29  5924275.0\n",
       "129  2020-05-30  6059017.0"
      ]
     },
     "execution_count": 59,
     "metadata": {},
     "output_type": "execute_result"
    }
   ],
   "source": [
    "corona = pd.read_csv('D:\\Machine Learnaing\\corona_live\\\\time_confirmed.csv')\n",
    "corona.tail()"
   ]
  },
  {
   "cell_type": "code",
   "execution_count": 60,
   "metadata": {},
   "outputs": [
    {
     "data": {
      "text/plain": [
       "130"
      ]
     },
     "execution_count": 60,
     "metadata": {},
     "output_type": "execute_result"
    }
   ],
   "source": [
    "len(corona)"
   ]
  },
  {
   "cell_type": "code",
   "execution_count": 61,
   "metadata": {},
   "outputs": [
    {
     "name": "stderr",
     "output_type": "stream",
     "text": [
      "C:\\Users\\hanif\\AppData\\Roaming\\Python\\Python37\\site-packages\\ipykernel_launcher.py:1: FutureWarning: Indexing with multiple keys (implicitly converted to a tuple of keys) will be deprecated, use a list instead.\n",
      "  \"\"\"Entry point for launching an IPython kernel.\n"
     ]
    },
    {
     "data": {
      "text/html": [
       "<div>\n",
       "<style scoped>\n",
       "    .dataframe tbody tr th:only-of-type {\n",
       "        vertical-align: middle;\n",
       "    }\n",
       "\n",
       "    .dataframe tbody tr th {\n",
       "        vertical-align: top;\n",
       "    }\n",
       "\n",
       "    .dataframe thead th {\n",
       "        text-align: right;\n",
       "    }\n",
       "</style>\n",
       "<table border=\"1\" class=\"dataframe\">\n",
       "  <thead>\n",
       "    <tr style=\"text-align: right;\">\n",
       "      <th></th>\n",
       "      <th>Date</th>\n",
       "      <th>Confirmed</th>\n",
       "    </tr>\n",
       "  </thead>\n",
       "  <tbody>\n",
       "    <tr>\n",
       "      <th>125</th>\n",
       "      <td>2020-05-26</td>\n",
       "      <td>5589626.0</td>\n",
       "    </tr>\n",
       "    <tr>\n",
       "      <th>126</th>\n",
       "      <td>2020-05-27</td>\n",
       "      <td>5691790.0</td>\n",
       "    </tr>\n",
       "    <tr>\n",
       "      <th>127</th>\n",
       "      <td>2020-05-28</td>\n",
       "      <td>5808946.0</td>\n",
       "    </tr>\n",
       "    <tr>\n",
       "      <th>128</th>\n",
       "      <td>2020-05-29</td>\n",
       "      <td>5924275.0</td>\n",
       "    </tr>\n",
       "    <tr>\n",
       "      <th>129</th>\n",
       "      <td>2020-05-30</td>\n",
       "      <td>6059017.0</td>\n",
       "    </tr>\n",
       "  </tbody>\n",
       "</table>\n",
       "</div>"
      ],
      "text/plain": [
       "           Date  Confirmed\n",
       "125  2020-05-26  5589626.0\n",
       "126  2020-05-27  5691790.0\n",
       "127  2020-05-28  5808946.0\n",
       "128  2020-05-29  5924275.0\n",
       "129  2020-05-30  6059017.0"
      ]
     },
     "execution_count": 61,
     "metadata": {},
     "output_type": "execute_result"
    }
   ],
   "source": [
    "corona = corona.groupby('Date')['Date', 'Confirmed'].sum()\n",
    "corona = corona.reset_index()\n",
    "corona.tail()"
   ]
  },
  {
   "cell_type": "code",
   "execution_count": 62,
   "metadata": {},
   "outputs": [],
   "source": [
    "df_2020 = df[df.index > '2020-01-21']"
   ]
  },
  {
   "cell_type": "code",
   "execution_count": 63,
   "metadata": {},
   "outputs": [
    {
     "data": {
      "text/html": [
       "<div>\n",
       "<style scoped>\n",
       "    .dataframe tbody tr th:only-of-type {\n",
       "        vertical-align: middle;\n",
       "    }\n",
       "\n",
       "    .dataframe tbody tr th {\n",
       "        vertical-align: top;\n",
       "    }\n",
       "\n",
       "    .dataframe thead th {\n",
       "        text-align: right;\n",
       "    }\n",
       "</style>\n",
       "<table border=\"1\" class=\"dataframe\">\n",
       "  <thead>\n",
       "    <tr style=\"text-align: right;\">\n",
       "      <th></th>\n",
       "      <th>High</th>\n",
       "      <th>Low</th>\n",
       "      <th>Open</th>\n",
       "      <th>Close</th>\n",
       "      <th>Volume</th>\n",
       "      <th>Adj Close</th>\n",
       "    </tr>\n",
       "    <tr>\n",
       "      <th>Date</th>\n",
       "      <th></th>\n",
       "      <th></th>\n",
       "      <th></th>\n",
       "      <th></th>\n",
       "      <th></th>\n",
       "      <th></th>\n",
       "    </tr>\n",
       "  </thead>\n",
       "  <tbody>\n",
       "    <tr>\n",
       "      <th>2020-06-29</th>\n",
       "      <td>17.690001</td>\n",
       "      <td>16.379999</td>\n",
       "      <td>16.840000</td>\n",
       "      <td>17.480000</td>\n",
       "      <td>5084406</td>\n",
       "      <td>17.480000</td>\n",
       "    </tr>\n",
       "    <tr>\n",
       "      <th>2020-06-30</th>\n",
       "      <td>17.459999</td>\n",
       "      <td>16.750000</td>\n",
       "      <td>17.379999</td>\n",
       "      <td>16.950001</td>\n",
       "      <td>5011477</td>\n",
       "      <td>16.950001</td>\n",
       "    </tr>\n",
       "    <tr>\n",
       "      <th>2020-07-02</th>\n",
       "      <td>17.400000</td>\n",
       "      <td>17.070000</td>\n",
       "      <td>17.260000</td>\n",
       "      <td>17.129999</td>\n",
       "      <td>4269568</td>\n",
       "      <td>17.129999</td>\n",
       "    </tr>\n",
       "    <tr>\n",
       "      <th>2020-07-03</th>\n",
       "      <td>17.309999</td>\n",
       "      <td>17.020000</td>\n",
       "      <td>17.150000</td>\n",
       "      <td>17.209999</td>\n",
       "      <td>1138989</td>\n",
       "      <td>17.209999</td>\n",
       "    </tr>\n",
       "    <tr>\n",
       "      <th>2020-07-06</th>\n",
       "      <td>17.540001</td>\n",
       "      <td>16.799999</td>\n",
       "      <td>17.400000</td>\n",
       "      <td>16.920000</td>\n",
       "      <td>3888597</td>\n",
       "      <td>16.920000</td>\n",
       "    </tr>\n",
       "  </tbody>\n",
       "</table>\n",
       "</div>"
      ],
      "text/plain": [
       "                 High        Low       Open      Close   Volume  Adj Close\n",
       "Date                                                                      \n",
       "2020-06-29  17.690001  16.379999  16.840000  17.480000  5084406  17.480000\n",
       "2020-06-30  17.459999  16.750000  17.379999  16.950001  5011477  16.950001\n",
       "2020-07-02  17.400000  17.070000  17.260000  17.129999  4269568  17.129999\n",
       "2020-07-03  17.309999  17.020000  17.150000  17.209999  1138989  17.209999\n",
       "2020-07-06  17.540001  16.799999  17.400000  16.920000  3888597  16.920000"
      ]
     },
     "execution_count": 63,
     "metadata": {},
     "output_type": "execute_result"
    }
   ],
   "source": [
    "df_2020.tail()"
   ]
  },
  {
   "cell_type": "code",
   "execution_count": 64,
   "metadata": {},
   "outputs": [],
   "source": [
    "df_20Close = df_2020[['Adj Close']]\n",
    "# df_20Close.to_csv('D:\\Machine Learnaing\\corona_v\\\\2020.csv')"
   ]
  },
  {
   "cell_type": "code",
   "execution_count": 65,
   "metadata": {},
   "outputs": [
    {
     "data": {
      "text/html": [
       "<div>\n",
       "<style scoped>\n",
       "    .dataframe tbody tr th:only-of-type {\n",
       "        vertical-align: middle;\n",
       "    }\n",
       "\n",
       "    .dataframe tbody tr th {\n",
       "        vertical-align: top;\n",
       "    }\n",
       "\n",
       "    .dataframe thead th {\n",
       "        text-align: right;\n",
       "    }\n",
       "</style>\n",
       "<table border=\"1\" class=\"dataframe\">\n",
       "  <thead>\n",
       "    <tr style=\"text-align: right;\">\n",
       "      <th></th>\n",
       "      <th>Date</th>\n",
       "      <th>Adj Close</th>\n",
       "    </tr>\n",
       "  </thead>\n",
       "  <tbody>\n",
       "    <tr>\n",
       "      <th>0</th>\n",
       "      <td>2020-01-22</td>\n",
       "      <td>48.680000</td>\n",
       "    </tr>\n",
       "    <tr>\n",
       "      <th>1</th>\n",
       "      <td>2020-01-23</td>\n",
       "      <td>48.419998</td>\n",
       "    </tr>\n",
       "    <tr>\n",
       "      <th>2</th>\n",
       "      <td>2020-01-24</td>\n",
       "      <td>47.180000</td>\n",
       "    </tr>\n",
       "    <tr>\n",
       "      <th>3</th>\n",
       "      <td>2020-01-27</td>\n",
       "      <td>44.740002</td>\n",
       "    </tr>\n",
       "    <tr>\n",
       "      <th>4</th>\n",
       "      <td>2020-01-28</td>\n",
       "      <td>45.099998</td>\n",
       "    </tr>\n",
       "  </tbody>\n",
       "</table>\n",
       "</div>"
      ],
      "text/plain": [
       "        Date  Adj Close\n",
       "0 2020-01-22  48.680000\n",
       "1 2020-01-23  48.419998\n",
       "2 2020-01-24  47.180000\n",
       "3 2020-01-27  44.740002\n",
       "4 2020-01-28  45.099998"
      ]
     },
     "execution_count": 65,
     "metadata": {},
     "output_type": "execute_result"
    }
   ],
   "source": [
    "df_20C = df_20Close.reset_index()\n",
    "df_20C.head()"
   ]
  },
  {
   "cell_type": "code",
   "execution_count": 66,
   "metadata": {},
   "outputs": [
    {
     "data": {
      "text/html": [
       "<div>\n",
       "<style scoped>\n",
       "    .dataframe tbody tr th:only-of-type {\n",
       "        vertical-align: middle;\n",
       "    }\n",
       "\n",
       "    .dataframe tbody tr th {\n",
       "        vertical-align: top;\n",
       "    }\n",
       "\n",
       "    .dataframe thead th {\n",
       "        text-align: right;\n",
       "    }\n",
       "</style>\n",
       "<table border=\"1\" class=\"dataframe\">\n",
       "  <thead>\n",
       "    <tr style=\"text-align: right;\">\n",
       "      <th></th>\n",
       "      <th>Confirmed</th>\n",
       "      <th>Price</th>\n",
       "    </tr>\n",
       "  </thead>\n",
       "  <tbody>\n",
       "    <tr>\n",
       "      <th>0</th>\n",
       "      <td>555</td>\n",
       "      <td>48.680000</td>\n",
       "    </tr>\n",
       "    <tr>\n",
       "      <th>1</th>\n",
       "      <td>654</td>\n",
       "      <td>48.419998</td>\n",
       "    </tr>\n",
       "    <tr>\n",
       "      <th>2</th>\n",
       "      <td>941</td>\n",
       "      <td>47.180000</td>\n",
       "    </tr>\n",
       "    <tr>\n",
       "      <th>3</th>\n",
       "      <td>1434</td>\n",
       "      <td>47.180000</td>\n",
       "    </tr>\n",
       "    <tr>\n",
       "      <th>4</th>\n",
       "      <td>2118</td>\n",
       "      <td>47.180000</td>\n",
       "    </tr>\n",
       "  </tbody>\n",
       "</table>\n",
       "</div>"
      ],
      "text/plain": [
       "   Confirmed      Price\n",
       "0        555  48.680000\n",
       "1        654  48.419998\n",
       "2        941  47.180000\n",
       "3       1434  47.180000\n",
       "4       2118  47.180000"
      ]
     },
     "execution_count": 66,
     "metadata": {},
     "output_type": "execute_result"
    }
   ],
   "source": [
    "cp = pd.read_csv('D:\\Machine Learnaing\\stock\\confi_price.csv')\n",
    "cp = cp[['Confirmed', 'Price']]\n",
    "cp.head()"
   ]
  },
  {
   "cell_type": "code",
   "execution_count": 67,
   "metadata": {},
   "outputs": [
    {
     "data": {
      "text/html": [
       "<div>\n",
       "<style scoped>\n",
       "    .dataframe tbody tr th:only-of-type {\n",
       "        vertical-align: middle;\n",
       "    }\n",
       "\n",
       "    .dataframe tbody tr th {\n",
       "        vertical-align: top;\n",
       "    }\n",
       "\n",
       "    .dataframe thead th {\n",
       "        text-align: right;\n",
       "    }\n",
       "</style>\n",
       "<table border=\"1\" class=\"dataframe\">\n",
       "  <thead>\n",
       "    <tr style=\"text-align: right;\">\n",
       "      <th></th>\n",
       "      <th>Confirmed</th>\n",
       "      <th>Price</th>\n",
       "    </tr>\n",
       "  </thead>\n",
       "  <tbody>\n",
       "    <tr>\n",
       "      <th>Confirmed</th>\n",
       "      <td>1.000000</td>\n",
       "      <td>-0.727802</td>\n",
       "    </tr>\n",
       "    <tr>\n",
       "      <th>Price</th>\n",
       "      <td>-0.727802</td>\n",
       "      <td>1.000000</td>\n",
       "    </tr>\n",
       "  </tbody>\n",
       "</table>\n",
       "</div>"
      ],
      "text/plain": [
       "           Confirmed     Price\n",
       "Confirmed   1.000000 -0.727802\n",
       "Price      -0.727802  1.000000"
      ]
     },
     "execution_count": 67,
     "metadata": {},
     "output_type": "execute_result"
    }
   ],
   "source": [
    "cp.corr()"
   ]
  },
  {
   "cell_type": "markdown",
   "metadata": {},
   "source": [
    "# Airlines in Defrent cuntinent"
   ]
  },
  {
   "cell_type": "code",
   "execution_count": 68,
   "metadata": {},
   "outputs": [],
   "source": [
    "dfcomp = web.DataReader(['AC.TO', 'JAPSY'],\n",
    "                        'yahoo', start=start, end=end)['Adj Close']"
   ]
  },
  {
   "cell_type": "code",
   "execution_count": 69,
   "metadata": {},
   "outputs": [
    {
     "data": {
      "text/html": [
       "<div>\n",
       "<style scoped>\n",
       "    .dataframe tbody tr th:only-of-type {\n",
       "        vertical-align: middle;\n",
       "    }\n",
       "\n",
       "    .dataframe tbody tr th {\n",
       "        vertical-align: top;\n",
       "    }\n",
       "\n",
       "    .dataframe thead th {\n",
       "        text-align: right;\n",
       "    }\n",
       "</style>\n",
       "<table border=\"1\" class=\"dataframe\">\n",
       "  <thead>\n",
       "    <tr style=\"text-align: right;\">\n",
       "      <th>Symbols</th>\n",
       "      <th>AC.TO</th>\n",
       "      <th>JAPSY</th>\n",
       "    </tr>\n",
       "    <tr>\n",
       "      <th>Symbols</th>\n",
       "      <th></th>\n",
       "      <th></th>\n",
       "    </tr>\n",
       "  </thead>\n",
       "  <tbody>\n",
       "    <tr>\n",
       "      <th>AC.TO</th>\n",
       "      <td>1.000000</td>\n",
       "      <td>0.437382</td>\n",
       "    </tr>\n",
       "    <tr>\n",
       "      <th>JAPSY</th>\n",
       "      <td>0.437382</td>\n",
       "      <td>1.000000</td>\n",
       "    </tr>\n",
       "  </tbody>\n",
       "</table>\n",
       "</div>"
      ],
      "text/plain": [
       "Symbols     AC.TO     JAPSY\n",
       "Symbols                    \n",
       "AC.TO    1.000000  0.437382\n",
       "JAPSY    0.437382  1.000000"
      ]
     },
     "execution_count": 69,
     "metadata": {},
     "output_type": "execute_result"
    }
   ],
   "source": [
    "retscomp = dfcomp.pct_change()\n",
    "corr = retscomp.corr()\n",
    "corr"
   ]
  },
  {
   "cell_type": "code",
   "execution_count": 70,
   "metadata": {},
   "outputs": [
    {
     "data": {
      "image/png": "[encoded data removed]",
      "text/plain": [
       "<Figure size 720x720 with 4 Axes>"
      ]
     },
     "metadata": {},
     "output_type": "display_data"
    }
   ],
   "source": [
    "from pandas import plotting\n",
    "plotting.scatter_matrix(retscomp, diagonal='kde', figsize=(10, 10));"
   ]
  },
  {
   "cell_type": "code",
   "execution_count": 71,
   "metadata": {},
   "outputs": [
    {
     "data": {
      "text/html": [
       "<div>\n",
       "<style scoped>\n",
       "    .dataframe tbody tr th:only-of-type {\n",
       "        vertical-align: middle;\n",
       "    }\n",
       "\n",
       "    .dataframe tbody tr th {\n",
       "        vertical-align: top;\n",
       "    }\n",
       "\n",
       "    .dataframe thead th {\n",
       "        text-align: right;\n",
       "    }\n",
       "</style>\n",
       "<table border=\"1\" class=\"dataframe\">\n",
       "  <thead>\n",
       "    <tr style=\"text-align: right;\">\n",
       "      <th></th>\n",
       "      <th>High</th>\n",
       "      <th>Low</th>\n",
       "      <th>Open</th>\n",
       "      <th>Close</th>\n",
       "      <th>Volume</th>\n",
       "      <th>Adj Close</th>\n",
       "    </tr>\n",
       "    <tr>\n",
       "      <th>Date</th>\n",
       "      <th></th>\n",
       "      <th></th>\n",
       "      <th></th>\n",
       "      <th></th>\n",
       "      <th></th>\n",
       "      <th></th>\n",
       "    </tr>\n",
       "  </thead>\n",
       "  <tbody>\n",
       "    <tr>\n",
       "      <th>2018-01-02</th>\n",
       "      <td>26.209999</td>\n",
       "      <td>25.799999</td>\n",
       "      <td>25.90</td>\n",
       "      <td>26.190001</td>\n",
       "      <td>977849</td>\n",
       "      <td>26.190001</td>\n",
       "    </tr>\n",
       "    <tr>\n",
       "      <th>2018-01-03</th>\n",
       "      <td>26.240000</td>\n",
       "      <td>25.165001</td>\n",
       "      <td>26.24</td>\n",
       "      <td>25.370001</td>\n",
       "      <td>2146178</td>\n",
       "      <td>25.370001</td>\n",
       "    </tr>\n",
       "    <tr>\n",
       "      <th>2018-01-04</th>\n",
       "      <td>25.360001</td>\n",
       "      <td>24.980000</td>\n",
       "      <td>25.25</td>\n",
       "      <td>24.990000</td>\n",
       "      <td>1049620</td>\n",
       "      <td>24.990000</td>\n",
       "    </tr>\n",
       "    <tr>\n",
       "      <th>2018-01-05</th>\n",
       "      <td>25.090000</td>\n",
       "      <td>24.520000</td>\n",
       "      <td>25.08</td>\n",
       "      <td>24.680000</td>\n",
       "      <td>1059440</td>\n",
       "      <td>24.680000</td>\n",
       "    </tr>\n",
       "    <tr>\n",
       "      <th>2018-01-08</th>\n",
       "      <td>24.730000</td>\n",
       "      <td>23.700001</td>\n",
       "      <td>24.73</td>\n",
       "      <td>23.879999</td>\n",
       "      <td>1265645</td>\n",
       "      <td>23.879999</td>\n",
       "    </tr>\n",
       "  </tbody>\n",
       "</table>\n",
       "</div>"
      ],
      "text/plain": [
       "                 High        Low   Open      Close   Volume  Adj Close\n",
       "Date                                                                  \n",
       "2018-01-02  26.209999  25.799999  25.90  26.190001   977849  26.190001\n",
       "2018-01-03  26.240000  25.165001  26.24  25.370001  2146178  25.370001\n",
       "2018-01-04  25.360001  24.980000  25.25  24.990000  1049620  24.990000\n",
       "2018-01-05  25.090000  24.520000  25.08  24.680000  1059440  24.680000\n",
       "2018-01-08  24.730000  23.700001  24.73  23.879999  1265645  23.879999"
      ]
     },
     "execution_count": 71,
     "metadata": {},
     "output_type": "execute_result"
    }
   ],
   "source": [
    "start = datetime.datetime(2018, 1, 1)\n",
    "end = datetime.datetime.now()\n",
    "\n",
    "Ac = web.DataReader(var, 'yahoo', start , end)\n",
    "Ac.head()"
   ]
  },
  {
   "cell_type": "code",
   "execution_count": 72,
   "metadata": {},
   "outputs": [
    {
     "data": {
      "text/html": [
       "<div>\n",
       "<style scoped>\n",
       "    .dataframe tbody tr th:only-of-type {\n",
       "        vertical-align: middle;\n",
       "    }\n",
       "\n",
       "    .dataframe tbody tr th {\n",
       "        vertical-align: top;\n",
       "    }\n",
       "\n",
       "    .dataframe thead th {\n",
       "        text-align: right;\n",
       "    }\n",
       "</style>\n",
       "<table border=\"1\" class=\"dataframe\">\n",
       "  <thead>\n",
       "    <tr style=\"text-align: right;\">\n",
       "      <th></th>\n",
       "      <th>High</th>\n",
       "      <th>Low</th>\n",
       "      <th>Open</th>\n",
       "      <th>Close</th>\n",
       "      <th>Volume</th>\n",
       "      <th>Adj Close</th>\n",
       "    </tr>\n",
       "  </thead>\n",
       "  <tbody>\n",
       "    <tr>\n",
       "      <th>count</th>\n",
       "      <td>631.000000</td>\n",
       "      <td>631.000000</td>\n",
       "      <td>631.000000</td>\n",
       "      <td>631.000000</td>\n",
       "      <td>6.310000e+02</td>\n",
       "      <td>631.000000</td>\n",
       "    </tr>\n",
       "    <tr>\n",
       "      <th>mean</th>\n",
       "      <td>31.842948</td>\n",
       "      <td>30.809033</td>\n",
       "      <td>31.324453</td>\n",
       "      <td>31.319968</td>\n",
       "      <td>2.069963e+06</td>\n",
       "      <td>31.319968</td>\n",
       "    </tr>\n",
       "    <tr>\n",
       "      <th>std</th>\n",
       "      <td>10.250576</td>\n",
       "      <td>10.203096</td>\n",
       "      <td>10.178959</td>\n",
       "      <td>10.243073</td>\n",
       "      <td>2.526882e+06</td>\n",
       "      <td>10.243073</td>\n",
       "    </tr>\n",
       "    <tr>\n",
       "      <th>min</th>\n",
       "      <td>13.740000</td>\n",
       "      <td>9.260000</td>\n",
       "      <td>13.060000</td>\n",
       "      <td>12.150000</td>\n",
       "      <td>1.457940e+05</td>\n",
       "      <td>12.150000</td>\n",
       "    </tr>\n",
       "    <tr>\n",
       "      <th>25%</th>\n",
       "      <td>24.185000</td>\n",
       "      <td>23.395000</td>\n",
       "      <td>23.730000</td>\n",
       "      <td>23.825000</td>\n",
       "      <td>8.760595e+05</td>\n",
       "      <td>23.825000</td>\n",
       "    </tr>\n",
       "    <tr>\n",
       "      <th>50%</th>\n",
       "      <td>27.830000</td>\n",
       "      <td>27.000000</td>\n",
       "      <td>27.389999</td>\n",
       "      <td>27.400000</td>\n",
       "      <td>1.184657e+06</td>\n",
       "      <td>27.400000</td>\n",
       "    </tr>\n",
       "    <tr>\n",
       "      <th>75%</th>\n",
       "      <td>41.945000</td>\n",
       "      <td>40.850000</td>\n",
       "      <td>41.285000</td>\n",
       "      <td>41.610001</td>\n",
       "      <td>1.815078e+06</td>\n",
       "      <td>41.610001</td>\n",
       "    </tr>\n",
       "    <tr>\n",
       "      <th>max</th>\n",
       "      <td>52.709999</td>\n",
       "      <td>51.560001</td>\n",
       "      <td>52.029999</td>\n",
       "      <td>52.090000</td>\n",
       "      <td>1.974254e+07</td>\n",
       "      <td>52.090000</td>\n",
       "    </tr>\n",
       "  </tbody>\n",
       "</table>\n",
       "</div>"
      ],
      "text/plain": [
       "             High         Low        Open       Close        Volume  \\\n",
       "count  631.000000  631.000000  631.000000  631.000000  6.310000e+02   \n",
       "mean    31.842948   30.809033   31.324453   31.319968  2.069963e+06   \n",
       "std     10.250576   10.203096   10.178959   10.243073  2.526882e+06   \n",
       "min     13.740000    9.260000   13.060000   12.150000  1.457940e+05   \n",
       "25%     24.185000   23.395000   23.730000   23.825000  8.760595e+05   \n",
       "50%     27.830000   27.000000   27.389999   27.400000  1.184657e+06   \n",
       "75%     41.945000   40.850000   41.285000   41.610001  1.815078e+06   \n",
       "max     52.709999   51.560001   52.029999   52.090000  1.974254e+07   \n",
       "\n",
       "        Adj Close  \n",
       "count  631.000000  \n",
       "mean    31.319968  \n",
       "std     10.243073  \n",
       "min     12.150000  \n",
       "25%     23.825000  \n",
       "50%     27.400000  \n",
       "75%     41.610001  \n",
       "max     52.090000  "
      ]
     },
     "execution_count": 72,
     "metadata": {},
     "output_type": "execute_result"
    }
   ],
   "source": [
    "Ac.describe()"
   ]
  },
  {
   "cell_type": "code",
   "execution_count": null,
   "metadata": {},
   "outputs": [],
   "source": []
  },
  {
   "cell_type": "code",
   "execution_count": null,
   "metadata": {},
   "outputs": [],
   "source": []
  }
 ],
 "metadata": {
  "kernelspec": {
   "display_name": "Python 3",
   "language": "python",
   "name": "python3"
  },
  "language_info": {
   "codemirror_mode": {
    "name": "ipython",
    "version": 3
   },
   "file_extension": ".py",
   "mimetype": "text/x-python",
   "name": "python",
   "nbconvert_exporter": "python",
   "pygments_lexer": "ipython3",
   "version": "3.7.3"
  }
 },
 "nbformat": 4,
 "nbformat_minor": 2
}
